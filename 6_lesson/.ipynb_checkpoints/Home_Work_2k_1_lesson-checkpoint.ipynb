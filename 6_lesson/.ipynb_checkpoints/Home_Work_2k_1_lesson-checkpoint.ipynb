{
 "cells": [
  {
   "cell_type": "markdown",
   "metadata": {},
   "source": [
    "# Егор Семевский ДЗ к 1 уроку"
   ]
  },
  {
   "cell_type": "markdown",
   "metadata": {},
   "source": [
    "## Задача 1\n",
    "\n",
    "Напишите текстом как минимум 6 функций распределения и соответствующие им функции правдоподобия."
   ]
  },
  {
   "cell_type": "markdown",
   "metadata": {},
   "source": [
    "Напишите, какие по вашему мнению целевые переменные из бизнеса (лучше - из страхового) соответствуют этим распределениям (по 2 примера на каждое)."
   ]
  },
  {
   "cell_type": "markdown",
   "metadata": {},
   "source": [
    "### 1. Распределение Бернули"
   ]
  },
  {
   "cell_type": "markdown",
   "metadata": {},
   "source": [
    "Дискретное распределение случайной величины, где значение $1$ принимается с вероятностью $p$, а значение $0$ принимается с вероятностью $1 - p$"
   ]
  },
  {
   "cell_type": "markdown",
   "metadata": {},
   "source": [
    "$$f(k,p) = \\begin{cases}\n",
    "            p, & \\mbox{if } k\\mbox{ = 1} \\\\ q = 1 - p, & \\mbox{if } k\\mbox{ = 0} \n",
    "         \\end{cases}$$"
   ]
  },
  {
   "cell_type": "markdown",
   "metadata": {},
   "source": [
    "Является частным случаем биноминального распределения при $n = 1$"
   ]
  },
  {
   "cell_type": "markdown",
   "metadata": {},
   "source": [
    "#### Применение в страховании \n",
    "\n",
    "для задач формирования выборки для спецпредложений (нужно и выгодно ли предлагать клиенту снижение цены/дополнительные бонусы или нет), для оценки лояльности клиентов (собирается расторгнуть договор или нет), моделирования самого действия страхования (закрылся договор без выплат или с ними)."
   ]
  },
  {
   "cell_type": "markdown",
   "metadata": {},
   "source": [
    "### 2.  Логнормальное распределение"
   ]
  },
  {
   "cell_type": "markdown",
   "metadata": {},
   "source": [
    "с параметрами $\\mu$, $\\sigma$, если $X = exp(Y)$, где $Y$ имеет нормальноераспределение  с  параметрами $\\mu$(матожидание)  и $\\sigma$(среднее квадратическое отклонение). "
   ]
  },
  {
   "cell_type": "markdown",
   "metadata": {},
   "source": [
    "Функция плотности имеет вид:"
   ]
  },
  {
   "cell_type": "markdown",
   "metadata": {},
   "source": [
    "$$\n",
    "f(x) = \\frac{1}{x \\sigma \\sqrt {2 \\pi \\sigma}} \n",
    "\\exp{- \\frac{(\\ln{x} - \\mu)^2}{2 \\sigma^2}}\n",
    "$$"
   ]
  },
  {
   "cell_type": "markdown",
   "metadata": {},
   "source": [
    "#### Применение в страховании\n",
    "\n",
    " Этим  распределением часто аппроксимируют  убытки  в автостраховании,  для  которых  характерны  сильные  влияния  больших значений  и  сильная  асимметрия  в  сторону  малых  значений. "
   ]
  },
  {
   "cell_type": "markdown",
   "metadata": {},
   "source": [
    "### 3. Обобщённое  распределение  Парето"
   ]
  },
  {
   "cell_type": "markdown",
   "metadata": {},
   "source": [
    "Формула плотности имеет вид"
   ]
  },
  {
   "cell_type": "markdown",
   "metadata": {},
   "source": [
    "$$f(x) = \\frac{1}{a}(1+\\frac{b}{a}z)^{(-\\frac{1}{b} + 1)} \\ , \\ a > 0, \\ b \\in ℝ $$"
   ]
  },
  {
   "cell_type": "markdown",
   "metadata": {},
   "source": [
    "#### Применение в страховании \n",
    "\n",
    "Характерно  для  распределения страховых убытков с «тяжѐлыми хвостами» (значительная часть убытков \n",
    "обусловлена малым количеством страховых случаев с большими убытками, например,вызванными пожарами)"
   ]
  },
  {
   "cell_type": "markdown",
   "metadata": {},
   "source": [
    "### 4. Распределение Вейбулла"
   ]
  },
  {
   "cell_type": "markdown",
   "metadata": {},
   "source": [
    "Формула плотности имеет вид:"
   ]
  },
  {
   "cell_type": "markdown",
   "metadata": {},
   "source": [
    "$$f(k,p) = \\begin{cases}\n",
    "            \\frac{k}{\\lambda} \\times (\\frac{x}{\\lambda})^{k-1}\\exp(-\\frac{x}{\\lambda})^{k-1}\n",
    "            , & \\mbox{if } x \\mbox{  ≥ 0} \n",
    "            \\\\ \n",
    "            0 , & \\mbox{if } x\\mbox{ < 0} \n",
    "         \\end{cases}$$"
   ]
  },
  {
   "cell_type": "markdown",
   "metadata": {},
   "source": [
    "где $\\frac{1}{\\lambda}$ - параметр маштаба и $k$ - параметр формы кривой распределения. Величину $x$ можно принять за время работы до отказы технического устройства."
   ]
  },
  {
   "cell_type": "markdown",
   "metadata": {},
   "source": [
    "#### Применение в страховании \n",
    "для задач формирования выборки для спецпредложений (нужно и выгодно ли предлагать клиенту снижение цены/дополнительные бонусы или нет), для оценки лояльности клиентов (собирается расторгнуть договор или нет), моделирования самого действия страхования (закрылся договор без выплат или с ними)."
   ]
  },
  {
   "cell_type": "markdown",
   "metadata": {},
   "source": [
    "#### Применение в страховании \n",
    "\n",
    "Применяется, если страховой риск связан с отказом какого-либо технического устройства."
   ]
  },
  {
   "cell_type": "markdown",
   "metadata": {},
   "source": [
    "### 5. Гамма-распределением"
   ]
  },
  {
   "cell_type": "markdown",
   "metadata": {},
   "source": [
    "Формула плотности имеет вид:"
   ]
  },
  {
   "cell_type": "markdown",
   "metadata": {},
   "source": [
    "$$f(k,p) = \\begin{cases}\n",
    "            \\frac{\\lambda^a x^{a - 1} \\exp{-(\\lambda x)}}{Г(a)}, & \\mbox{if } x\\mbox{ > 0} \n",
    "            \\\\ \n",
    "            0, & \\mbox{if } x\\mbox{ < 0} \n",
    "         \\end{cases}$$"
   ]
  },
  {
   "cell_type": "markdown",
   "metadata": {},
   "source": [
    "где параметры $\\lambda > 0$, $a > 0$, $Г(a)$ - гамма-функция Эйлера"
   ]
  },
  {
   "cell_type": "markdown",
   "metadata": {},
   "source": [
    "$$Г(a) = \\int\\limits_0^\\infty t^{a-1}\\exp{(-t)}dt$$ При этом $Г(a + 1) = aГ(a) \\rightarrow n!$"
   ]
  },
  {
   "cell_type": "markdown",
   "metadata": {},
   "source": [
    "#### Применение в страховании \n",
    "\n",
    "Если  случайные  значения  страховых  убытков  располагаются несимметрично  относительно  математического ожидани"
   ]
  },
  {
   "cell_type": "markdown",
   "metadata": {},
   "source": [
    "### 6. Распределение Гаусса"
   ]
  },
  {
   "cell_type": "markdown",
   "metadata": {},
   "source": [
    "$$f(x) = \\frac{1}{\\sigma\\sqrt{2\\pi}} \\exp{\n",
    "(-\\frac{x - \\mu}{2\\sigma^2}\n",
    ")}$$"
   ]
  },
  {
   "cell_type": "markdown",
   "metadata": {},
   "source": [
    "#### Применение в страховании\n",
    "Суммарный страховой убыток,  согласно центральной  предельной теореме,можно аппроксимировать нормальным (гауссовым)распределением. Такая аппроксимация позволяет получить аналитические выражения для  расчета  цены (тарифа) рискового  страховани"
   ]
  },
  {
   "cell_type": "markdown",
   "metadata": {},
   "source": [
    "### 7. Геометрическое распределение"
   ]
  },
  {
   "cell_type": "markdown",
   "metadata": {},
   "source": [
    "формула"
   ]
  },
  {
   "cell_type": "markdown",
   "metadata": {},
   "source": [
    "$$p(x) = p(1-p)^x = pq^x, \\ где \\ x = 1, 2, 3 ... $$"
   ]
  },
  {
   "cell_type": "markdown",
   "metadata": {},
   "source": [
    "#### Применение в страховании\n",
    "\n",
    "для оценки количества контактов до заключения договора или смены компании (сколько раз человек общается с сотрудником компании, прежде чем стать клиентом или уйти), для оценки необходимости изменений условий (сколько определенных страховых случаев должно наступить для пересмотра продукта, выделения отдельной группы клиентов).\n"
   ]
  },
  {
   "cell_type": "markdown",
   "metadata": {},
   "source": [
    "# Задача 2 "
   ]
  },
  {
   "cell_type": "markdown",
   "metadata": {},
   "source": [
    "На основе датасета из ноутбука проведите анализ данных и постройте зависимости частоты и среднего убытка от какого-либо параметра (за исключением уже выполненных в ноутбуке)."
   ]
  },
  {
   "cell_type": "code",
   "execution_count": 15,
   "metadata": {},
   "outputs": [],
   "source": [
    "import pandas as pd\n",
    "import numpy as np\n",
    "import plotly.express as px\n",
    "import plotly.graph_objects as go\n",
    "from plotly.subplots import make_subplots"
   ]
  },
  {
   "cell_type": "code",
   "execution_count": 34,
   "metadata": {},
   "outputs": [],
   "source": [
    "pd.set_option('display.max_columns', None)"
   ]
  },
  {
   "cell_type": "code",
   "execution_count": 18,
   "metadata": {},
   "outputs": [],
   "source": [
    "df = pd.read_csv('freMPL-R.csv', low_memory=False)"
   ]
  },
  {
   "cell_type": "markdown",
   "metadata": {},
   "source": [
    "Проверка качества заполнения данных\n",
    "\n",
    "\n",
    "\n",
    "Поскольку freMPL состоит из 10 отдельных датасетов, каждый из которых имеет различные переменные, есть смысл заранее посмотреть, какие датасеты стоит использовать, чтобы затем не возникало проблем с большим количеством пропущенных данных.\n"
   ]
  },
  {
   "cell_type": "code",
   "execution_count": 23,
   "metadata": {},
   "outputs": [
    {
     "name": "stdout",
     "output_type": "stream",
     "text": [
      "Dataset  Missing Variables\n",
      "1 \t ['DeducType', 'ClaimNbResp', 'ClaimNbNonResp', 'ClaimNbParking', 'ClaimNbFireTheft', 'ClaimNbWindscreen', 'OutUseNb', 'RiskArea']\n",
      "2 \t ['DeducType', 'ClaimNbResp', 'ClaimNbNonResp', 'ClaimNbParking', 'ClaimNbFireTheft', 'ClaimNbWindscreen', 'OutUseNb', 'RiskArea']\n",
      "3 \t ['ClaimNbResp', 'ClaimNbNonResp', 'ClaimNbParking', 'ClaimNbFireTheft', 'ClaimNbWindscreen', 'OutUseNb', 'RiskArea']\n",
      "4 \t ['ClaimNbResp', 'ClaimNbNonResp', 'ClaimNbParking', 'ClaimNbFireTheft', 'ClaimNbWindscreen', 'OutUseNb', 'RiskArea']\n",
      "5 \t ['VehAge', 'VehBody', 'VehPrice', 'VehEngine', 'VehEnergy', 'VehMaxSpeed', 'VehClass', 'RiskVar', 'Garage', 'DeducType']\n",
      "6 \t ['VehAge', 'VehBody', 'VehPrice', 'VehEngine', 'VehEnergy', 'VehMaxSpeed', 'VehClass', 'RiskVar', 'Garage', 'DeducType']\n",
      "7 \t ['VehAge', 'VehBody', 'VehPrice', 'VehEngine', 'VehEnergy', 'VehMaxSpeed', 'VehClass', 'RiskVar', 'Garage', 'DeducType']\n",
      "8 \t ['VehAge', 'VehBody', 'VehPrice', 'VehEngine', 'VehEnergy', 'VehMaxSpeed', 'VehClass', 'RiskVar', 'Garage', 'DeducType']\n",
      "9 \t ['VehAge', 'VehBody', 'VehPrice', 'VehEngine', 'VehEnergy', 'VehMaxSpeed', 'VehClass', 'RiskVar', 'Garage', 'DeducType']\n",
      "10 \t ['VehBody', 'VehPrice', 'VehEngine', 'VehEnergy', 'VehMaxSpeed', 'VehClass', 'RiskVar', 'Garage', 'DeducType']\n"
     ]
    }
   ],
   "source": [
    "# Смотрим, какие факторы пропущены в каждом из датасетов\n",
    "\n",
    "dct = {}\n",
    "for i in range(1,11):\n",
    "    _x = df.loc[df.Dataset == i].notnull().sum()\n",
    "    dct[i] = list(_x[_x == 0].index)\n",
    "\n",
    "print('Dataset  Missing Variables')\n",
    "for x in range(1,11):\n",
    "    print(x,'\\t',dct[x])"
   ]
  },
  {
   "cell_type": "markdown",
   "metadata": {},
   "source": [
    "Наборы данных 1-4 не содержат информации о количестве страховых требований, а 5-10 не содержат информации по характеристикам транспортного средства. Тем не менее, наборы 5-9 имеют одинаковые пропущенные факторы, имеет смысл попробовать их объединить."
   ]
  },
  {
   "cell_type": "code",
   "execution_count": 24,
   "metadata": {},
   "outputs": [
    {
     "name": "stdout",
     "output_type": "stream",
     "text": [
      "With duplicates\t\t 165200\n",
      "Without duplicates\t 115155\n"
     ]
    }
   ],
   "source": [
    "# Объединяем наборы данных 5-9, удаляем пустые столбцы, удаляем дубликаты\n",
    "\n",
    "df59 = df.loc[df.Dataset.isin([5, 6, 7, 8, 9])]\n",
    "df59 = df59.drop(['Dataset'], axis=1)\n",
    "df59 = df59.dropna(axis=1, how='all')\n",
    "print('With duplicates\\t\\t', len(df59))\n",
    "df59 = df59.drop_duplicates()\n",
    "print('Without duplicates\\t', len(df59))"
   ]
  },
  {
   "cell_type": "code",
   "execution_count": 25,
   "metadata": {},
   "outputs": [],
   "source": [
    "df = df59"
   ]
  },
  {
   "cell_type": "code",
   "execution_count": 26,
   "metadata": {},
   "outputs": [],
   "source": [
    "# Вспомогательный столбец для суммирования числа полисов\n",
    "\n",
    "df['PolicyCount'] = 1"
   ]
  },
  {
   "cell_type": "code",
   "execution_count": 27,
   "metadata": {},
   "outputs": [],
   "source": [
    "# Вспомогательный столбец для суммирования числа полисов с убытками\n",
    "\n",
    "df['ClaimCount'] = df['ClaimAmount'] > 0"
   ]
  },
  {
   "cell_type": "code",
   "execution_count": 28,
   "metadata": {},
   "outputs": [],
   "source": [
    "# Вспомогательный столбец для суммирования числа полисов без убытков\n",
    "\n",
    "df['NoClaimCount'] = df.PolicyCount - df.ClaimCount"
   ]
  },
  {
   "cell_type": "code",
   "execution_count": 29,
   "metadata": {},
   "outputs": [
    {
     "data": {
      "text/html": [
       "<div>\n",
       "<style scoped>\n",
       "    .dataframe tbody tr th:only-of-type {\n",
       "        vertical-align: middle;\n",
       "    }\n",
       "\n",
       "    .dataframe tbody tr th {\n",
       "        vertical-align: top;\n",
       "    }\n",
       "\n",
       "    .dataframe thead th {\n",
       "        text-align: right;\n",
       "    }\n",
       "</style>\n",
       "<table border=\"1\" class=\"dataframe\">\n",
       "  <thead>\n",
       "    <tr style=\"text-align: right;\">\n",
       "      <th></th>\n",
       "      <th>PolicyCount</th>\n",
       "      <th>ClaimAmount</th>\n",
       "      <th>ClaimCount</th>\n",
       "      <th>NoClaimCount</th>\n",
       "    </tr>\n",
       "  </thead>\n",
       "  <tbody>\n",
       "    <tr>\n",
       "      <th>145780</th>\n",
       "      <td>1</td>\n",
       "      <td>0.0</td>\n",
       "      <td>False</td>\n",
       "      <td>1</td>\n",
       "    </tr>\n",
       "    <tr>\n",
       "      <th>145781</th>\n",
       "      <td>1</td>\n",
       "      <td>0.0</td>\n",
       "      <td>False</td>\n",
       "      <td>1</td>\n",
       "    </tr>\n",
       "    <tr>\n",
       "      <th>145782</th>\n",
       "      <td>1</td>\n",
       "      <td>0.0</td>\n",
       "      <td>False</td>\n",
       "      <td>1</td>\n",
       "    </tr>\n",
       "    <tr>\n",
       "      <th>145783</th>\n",
       "      <td>1</td>\n",
       "      <td>0.0</td>\n",
       "      <td>False</td>\n",
       "      <td>1</td>\n",
       "    </tr>\n",
       "    <tr>\n",
       "      <th>145784</th>\n",
       "      <td>1</td>\n",
       "      <td>0.0</td>\n",
       "      <td>False</td>\n",
       "      <td>1</td>\n",
       "    </tr>\n",
       "  </tbody>\n",
       "</table>\n",
       "</div>"
      ],
      "text/plain": [
       "        PolicyCount  ClaimAmount  ClaimCount  NoClaimCount\n",
       "145780            1          0.0       False             1\n",
       "145781            1          0.0       False             1\n",
       "145782            1          0.0       False             1\n",
       "145783            1          0.0       False             1\n",
       "145784            1          0.0       False             1"
      ]
     },
     "execution_count": 29,
     "metadata": {},
     "output_type": "execute_result"
    }
   ],
   "source": [
    "df[['PolicyCount','ClaimAmount', 'ClaimCount', 'NoClaimCount']].head()"
   ]
  },
  {
   "cell_type": "code",
   "execution_count": 32,
   "metadata": {},
   "outputs": [],
   "source": [
    "df.to_parquet('data/df.parquet.gzip', compression='gzip')"
   ]
  },
  {
   "cell_type": "code",
   "execution_count": 35,
   "metadata": {},
   "outputs": [
    {
     "data": {
      "text/html": [
       "<div>\n",
       "<style scoped>\n",
       "    .dataframe tbody tr th:only-of-type {\n",
       "        vertical-align: middle;\n",
       "    }\n",
       "\n",
       "    .dataframe tbody tr th {\n",
       "        vertical-align: top;\n",
       "    }\n",
       "\n",
       "    .dataframe thead th {\n",
       "        text-align: right;\n",
       "    }\n",
       "</style>\n",
       "<table border=\"1\" class=\"dataframe\">\n",
       "  <thead>\n",
       "    <tr style=\"text-align: right;\">\n",
       "      <th></th>\n",
       "      <th>Exposure</th>\n",
       "      <th>LicAge</th>\n",
       "      <th>RecordBeg</th>\n",
       "      <th>RecordEnd</th>\n",
       "      <th>Gender</th>\n",
       "      <th>MariStat</th>\n",
       "      <th>SocioCateg</th>\n",
       "      <th>VehUsage</th>\n",
       "      <th>DrivAge</th>\n",
       "      <th>HasKmLimit</th>\n",
       "      <th>BonusMalus</th>\n",
       "      <th>ClaimAmount</th>\n",
       "      <th>ClaimInd</th>\n",
       "      <th>ClaimNbResp</th>\n",
       "      <th>ClaimNbNonResp</th>\n",
       "      <th>ClaimNbParking</th>\n",
       "      <th>ClaimNbFireTheft</th>\n",
       "      <th>ClaimNbWindscreen</th>\n",
       "      <th>OutUseNb</th>\n",
       "      <th>RiskArea</th>\n",
       "      <th>PolicyCount</th>\n",
       "      <th>ClaimCount</th>\n",
       "      <th>NoClaimCount</th>\n",
       "    </tr>\n",
       "  </thead>\n",
       "  <tbody>\n",
       "    <tr>\n",
       "      <th>145780</th>\n",
       "      <td>0.083</td>\n",
       "      <td>332</td>\n",
       "      <td>2004-01-01</td>\n",
       "      <td>2004-02-01</td>\n",
       "      <td>Male</td>\n",
       "      <td>Other</td>\n",
       "      <td>CSP50</td>\n",
       "      <td>Professional</td>\n",
       "      <td>46</td>\n",
       "      <td>0</td>\n",
       "      <td>50</td>\n",
       "      <td>0.0</td>\n",
       "      <td>0</td>\n",
       "      <td>0.0</td>\n",
       "      <td>1.0</td>\n",
       "      <td>0.0</td>\n",
       "      <td>0.0</td>\n",
       "      <td>0.0</td>\n",
       "      <td>0.0</td>\n",
       "      <td>9.0</td>\n",
       "      <td>1</td>\n",
       "      <td>False</td>\n",
       "      <td>1</td>\n",
       "    </tr>\n",
       "    <tr>\n",
       "      <th>145781</th>\n",
       "      <td>0.916</td>\n",
       "      <td>333</td>\n",
       "      <td>2004-02-01</td>\n",
       "      <td>NaN</td>\n",
       "      <td>Male</td>\n",
       "      <td>Other</td>\n",
       "      <td>CSP50</td>\n",
       "      <td>Professional</td>\n",
       "      <td>46</td>\n",
       "      <td>0</td>\n",
       "      <td>50</td>\n",
       "      <td>0.0</td>\n",
       "      <td>0</td>\n",
       "      <td>0.0</td>\n",
       "      <td>1.0</td>\n",
       "      <td>0.0</td>\n",
       "      <td>0.0</td>\n",
       "      <td>0.0</td>\n",
       "      <td>0.0</td>\n",
       "      <td>9.0</td>\n",
       "      <td>1</td>\n",
       "      <td>False</td>\n",
       "      <td>1</td>\n",
       "    </tr>\n",
       "    <tr>\n",
       "      <th>145782</th>\n",
       "      <td>0.550</td>\n",
       "      <td>173</td>\n",
       "      <td>2004-05-15</td>\n",
       "      <td>2004-12-03</td>\n",
       "      <td>Male</td>\n",
       "      <td>Other</td>\n",
       "      <td>CSP50</td>\n",
       "      <td>Private+trip to office</td>\n",
       "      <td>32</td>\n",
       "      <td>0</td>\n",
       "      <td>68</td>\n",
       "      <td>0.0</td>\n",
       "      <td>0</td>\n",
       "      <td>0.0</td>\n",
       "      <td>2.0</td>\n",
       "      <td>0.0</td>\n",
       "      <td>0.0</td>\n",
       "      <td>0.0</td>\n",
       "      <td>0.0</td>\n",
       "      <td>7.0</td>\n",
       "      <td>1</td>\n",
       "      <td>False</td>\n",
       "      <td>1</td>\n",
       "    </tr>\n",
       "    <tr>\n",
       "      <th>145783</th>\n",
       "      <td>0.089</td>\n",
       "      <td>364</td>\n",
       "      <td>2004-11-29</td>\n",
       "      <td>NaN</td>\n",
       "      <td>Female</td>\n",
       "      <td>Other</td>\n",
       "      <td>CSP55</td>\n",
       "      <td>Private+trip to office</td>\n",
       "      <td>52</td>\n",
       "      <td>0</td>\n",
       "      <td>50</td>\n",
       "      <td>0.0</td>\n",
       "      <td>0</td>\n",
       "      <td>0.0</td>\n",
       "      <td>0.0</td>\n",
       "      <td>0.0</td>\n",
       "      <td>0.0</td>\n",
       "      <td>0.0</td>\n",
       "      <td>0.0</td>\n",
       "      <td>8.0</td>\n",
       "      <td>1</td>\n",
       "      <td>False</td>\n",
       "      <td>1</td>\n",
       "    </tr>\n",
       "    <tr>\n",
       "      <th>145784</th>\n",
       "      <td>0.233</td>\n",
       "      <td>426</td>\n",
       "      <td>2004-02-07</td>\n",
       "      <td>2004-05-01</td>\n",
       "      <td>Male</td>\n",
       "      <td>Other</td>\n",
       "      <td>CSP60</td>\n",
       "      <td>Private</td>\n",
       "      <td>57</td>\n",
       "      <td>0</td>\n",
       "      <td>50</td>\n",
       "      <td>0.0</td>\n",
       "      <td>0</td>\n",
       "      <td>0.0</td>\n",
       "      <td>0.0</td>\n",
       "      <td>0.0</td>\n",
       "      <td>0.0</td>\n",
       "      <td>0.0</td>\n",
       "      <td>0.0</td>\n",
       "      <td>7.0</td>\n",
       "      <td>1</td>\n",
       "      <td>False</td>\n",
       "      <td>1</td>\n",
       "    </tr>\n",
       "  </tbody>\n",
       "</table>\n",
       "</div>"
      ],
      "text/plain": [
       "        Exposure  LicAge   RecordBeg   RecordEnd  Gender MariStat SocioCateg  \\\n",
       "145780     0.083     332  2004-01-01  2004-02-01    Male    Other      CSP50   \n",
       "145781     0.916     333  2004-02-01         NaN    Male    Other      CSP50   \n",
       "145782     0.550     173  2004-05-15  2004-12-03    Male    Other      CSP50   \n",
       "145783     0.089     364  2004-11-29         NaN  Female    Other      CSP55   \n",
       "145784     0.233     426  2004-02-07  2004-05-01    Male    Other      CSP60   \n",
       "\n",
       "                      VehUsage  DrivAge  HasKmLimit  BonusMalus  ClaimAmount  \\\n",
       "145780            Professional       46           0          50          0.0   \n",
       "145781            Professional       46           0          50          0.0   \n",
       "145782  Private+trip to office       32           0          68          0.0   \n",
       "145783  Private+trip to office       52           0          50          0.0   \n",
       "145784                 Private       57           0          50          0.0   \n",
       "\n",
       "        ClaimInd  ClaimNbResp  ClaimNbNonResp  ClaimNbParking  \\\n",
       "145780         0          0.0             1.0             0.0   \n",
       "145781         0          0.0             1.0             0.0   \n",
       "145782         0          0.0             2.0             0.0   \n",
       "145783         0          0.0             0.0             0.0   \n",
       "145784         0          0.0             0.0             0.0   \n",
       "\n",
       "        ClaimNbFireTheft  ClaimNbWindscreen  OutUseNb  RiskArea  PolicyCount  \\\n",
       "145780               0.0                0.0       0.0       9.0            1   \n",
       "145781               0.0                0.0       0.0       9.0            1   \n",
       "145782               0.0                0.0       0.0       7.0            1   \n",
       "145783               0.0                0.0       0.0       8.0            1   \n",
       "145784               0.0                0.0       0.0       7.0            1   \n",
       "\n",
       "        ClaimCount  NoClaimCount  \n",
       "145780       False             1  \n",
       "145781       False             1  \n",
       "145782       False             1  \n",
       "145783       False             1  \n",
       "145784       False             1  "
      ]
     },
     "execution_count": 35,
     "metadata": {},
     "output_type": "execute_result"
    }
   ],
   "source": [
    "df.head()"
   ]
  },
  {
   "cell_type": "markdown",
   "metadata": {},
   "source": [
    "## Построим зависимость\n",
    "\n",
    "Gender, MariStat, SocioCateg - уже были использованы. Поэтому решил взять следующую фичу VehUsage вместе с фичей DrivAge."
   ]
  },
  {
   "cell_type": "code",
   "execution_count": 42,
   "metadata": {},
   "outputs": [],
   "source": [
    "df_group_VehUsage_Age = df[['Exposure', 'PolicyCount','ClaimAmount', 'ClaimCount', 'NoClaimCount', 'VehUsage', 'DrivAge']].groupby(['VehUsage', 'DrivAge']).sum()\n",
    "df_group_VehUsage_Age = df_group_VehUsage_Age.reset_index()\n",
    "df_group_VehUsage_Age['Freq'] = df_group_VehUsage_Age.ClaimCount / df_group_VehUsage_Age.Exposure\n",
    "df_group_VehUsage_Age['AvgClaim'] = df_group_VehUsage_Age.ClaimAmount / df_group_VehUsage_Age.ClaimCount"
   ]
  },
  {
   "cell_type": "markdown",
   "metadata": {},
   "source": [
    "Смотрим, что получилось "
   ]
  },
  {
   "cell_type": "code",
   "execution_count": 43,
   "metadata": {},
   "outputs": [
    {
     "data": {
      "text/html": [
       "<div>\n",
       "<style scoped>\n",
       "    .dataframe tbody tr th:only-of-type {\n",
       "        vertical-align: middle;\n",
       "    }\n",
       "\n",
       "    .dataframe tbody tr th {\n",
       "        vertical-align: top;\n",
       "    }\n",
       "\n",
       "    .dataframe thead th {\n",
       "        text-align: right;\n",
       "    }\n",
       "</style>\n",
       "<table border=\"1\" class=\"dataframe\">\n",
       "  <thead>\n",
       "    <tr style=\"text-align: right;\">\n",
       "      <th></th>\n",
       "      <th>VehUsage</th>\n",
       "      <th>DrivAge</th>\n",
       "      <th>Exposure</th>\n",
       "      <th>PolicyCount</th>\n",
       "      <th>ClaimAmount</th>\n",
       "      <th>ClaimCount</th>\n",
       "      <th>NoClaimCount</th>\n",
       "      <th>Freq</th>\n",
       "      <th>AvgClaim</th>\n",
       "    </tr>\n",
       "  </thead>\n",
       "  <tbody>\n",
       "    <tr>\n",
       "      <th>0</th>\n",
       "      <td>Private</td>\n",
       "      <td>20</td>\n",
       "      <td>0.900</td>\n",
       "      <td>4</td>\n",
       "      <td>19039.022356</td>\n",
       "      <td>1</td>\n",
       "      <td>3</td>\n",
       "      <td>1.111111</td>\n",
       "      <td>19039.022356</td>\n",
       "    </tr>\n",
       "    <tr>\n",
       "      <th>1</th>\n",
       "      <td>Private</td>\n",
       "      <td>21</td>\n",
       "      <td>7.353</td>\n",
       "      <td>17</td>\n",
       "      <td>7150.208157</td>\n",
       "      <td>2</td>\n",
       "      <td>15</td>\n",
       "      <td>0.271998</td>\n",
       "      <td>3575.104079</td>\n",
       "    </tr>\n",
       "    <tr>\n",
       "      <th>2</th>\n",
       "      <td>Private</td>\n",
       "      <td>22</td>\n",
       "      <td>19.286</td>\n",
       "      <td>47</td>\n",
       "      <td>20736.771299</td>\n",
       "      <td>6</td>\n",
       "      <td>41</td>\n",
       "      <td>0.311107</td>\n",
       "      <td>3456.128550</td>\n",
       "    </tr>\n",
       "    <tr>\n",
       "      <th>3</th>\n",
       "      <td>Private</td>\n",
       "      <td>23</td>\n",
       "      <td>30.599</td>\n",
       "      <td>78</td>\n",
       "      <td>20184.844713</td>\n",
       "      <td>12</td>\n",
       "      <td>66</td>\n",
       "      <td>0.392170</td>\n",
       "      <td>1682.070393</td>\n",
       "    </tr>\n",
       "    <tr>\n",
       "      <th>4</th>\n",
       "      <td>Private</td>\n",
       "      <td>24</td>\n",
       "      <td>42.733</td>\n",
       "      <td>112</td>\n",
       "      <td>14078.092749</td>\n",
       "      <td>12</td>\n",
       "      <td>100</td>\n",
       "      <td>0.280813</td>\n",
       "      <td>1173.174396</td>\n",
       "    </tr>\n",
       "  </tbody>\n",
       "</table>\n",
       "</div>"
      ],
      "text/plain": [
       "  VehUsage  DrivAge  Exposure  PolicyCount   ClaimAmount  ClaimCount  \\\n",
       "0  Private       20     0.900            4  19039.022356           1   \n",
       "1  Private       21     7.353           17   7150.208157           2   \n",
       "2  Private       22    19.286           47  20736.771299           6   \n",
       "3  Private       23    30.599           78  20184.844713          12   \n",
       "4  Private       24    42.733          112  14078.092749          12   \n",
       "\n",
       "   NoClaimCount      Freq      AvgClaim  \n",
       "0             3  1.111111  19039.022356  \n",
       "1            15  0.271998   3575.104079  \n",
       "2            41  0.311107   3456.128550  \n",
       "3            66  0.392170   1682.070393  \n",
       "4           100  0.280813   1173.174396  "
      ]
     },
     "execution_count": 43,
     "metadata": {},
     "output_type": "execute_result"
    }
   ],
   "source": [
    "df_group_VehUsage_Age.head()"
   ]
  },
  {
   "cell_type": "code",
   "execution_count": 45,
   "metadata": {},
   "outputs": [
    {
     "data": {
      "application/vnd.plotly.v1+json": {
       "config": {
        "plotlyServerURL": "https://plot.ly"
       },
       "data": [
        {
         "hovertemplate": "VehUsage=Private<br>DrivAge=%{x}<br>Freq=%{y}<extra></extra>",
         "legendgroup": "Private",
         "line": {
          "color": "#636efa",
          "dash": "solid"
         },
         "mode": "lines",
         "name": "Private",
         "orientation": "v",
         "showlegend": true,
         "type": "scatter",
         "x": [
          20,
          21,
          22,
          23,
          24,
          25,
          26,
          27,
          28,
          29,
          30,
          31,
          32,
          33,
          34,
          35,
          36,
          37,
          38,
          39,
          40,
          41,
          42,
          43,
          44,
          45,
          46,
          47,
          48,
          49,
          50,
          51,
          52,
          53,
          54,
          55,
          56,
          57,
          58,
          59,
          60,
          61,
          62,
          63,
          64,
          65,
          66,
          67,
          68,
          69,
          70,
          71,
          72,
          73,
          74,
          75,
          76,
          77,
          78,
          79,
          80,
          81,
          82,
          83,
          84,
          85,
          86,
          87,
          88,
          89,
          90,
          91,
          92,
          93,
          94,
          95,
          96,
          97
         ],
         "xaxis": "x",
         "y": [
          1.1111111111111112,
          0.27199782401740785,
          0.3111065021258944,
          0.39216967874767145,
          0.2808134228816139,
          0.41593695271453623,
          0.17127348422966482,
          0.32310514466772317,
          0.2614555483397578,
          0.2109055758161611,
          0.2242454141812803,
          0.18337552942289975,
          0.16822599220984286,
          0.1298810938585727,
          0.20778860972104427,
          0.16460905349794283,
          0.17181693224049294,
          0.18588140766191213,
          0.20678127710414337,
          0.17220595832615845,
          0.222322679136499,
          0.1918428423435526,
          0.23120809353304747,
          0.24206784984708452,
          0.15641863884500506,
          0.18442698535649765,
          0.20032624559997753,
          0.16970788108642584,
          0.1724320882852294,
          0.18488617174692817,
          0.25257896416037484,
          0.26463599049470776,
          0.11048558414230564,
          0.1990593289385974,
          0.21609473593223288,
          0.16452262186050598,
          0.21102105414608413,
          0.1634016594346298,
          0.1534237726098185,
          0.18990346573824907,
          0.17682707919173857,
          0.17531978672863485,
          0.17235587619220047,
          0.2079125579184972,
          0.17931554106408057,
          0.17566408852078583,
          0.17028859616833378,
          0.175198429397608,
          0.19131399054412782,
          0.14527591443586416,
          0.15734656813864628,
          0.1666620916288563,
          0.13778117200601447,
          0.14316829528556282,
          0.17340769555232627,
          0.17572618847386798,
          0.1498288796479806,
          0.10158534708326918,
          0.1421666192777936,
          0.1391495330969046,
          0.14928411481305573,
          0.1765982138352089,
          0.14175707899413253,
          0.18820577164366417,
          0.19768821080540516,
          0.14622326203208566,
          0.12504689258471935,
          0.28184892897406993,
          0.10478519035976248,
          0.14229473983778398,
          0.1151012891344383,
          0.1979218208807521,
          0.16801075268817203,
          0,
          0.2351834430856068,
          0,
          0,
          0
         ],
         "yaxis": "y"
        },
        {
         "hovertemplate": "VehUsage=Private+trip to office<br>DrivAge=%{x}<br>Freq=%{y}<extra></extra>",
         "legendgroup": "Private+trip to office",
         "line": {
          "color": "#EF553B",
          "dash": "solid"
         },
         "mode": "lines",
         "name": "Private+trip to office",
         "orientation": "v",
         "showlegend": true,
         "type": "scatter",
         "x": [
          20,
          21,
          22,
          23,
          24,
          25,
          26,
          27,
          28,
          29,
          30,
          31,
          32,
          33,
          34,
          35,
          36,
          37,
          38,
          39,
          40,
          41,
          42,
          43,
          44,
          45,
          46,
          47,
          48,
          49,
          50,
          51,
          52,
          53,
          54,
          55,
          56,
          57,
          58,
          59,
          60,
          61,
          62,
          63,
          64,
          65,
          66,
          67,
          68,
          69,
          70,
          71,
          72,
          73,
          74,
          75,
          76,
          77,
          78,
          79,
          80,
          81,
          82,
          83,
          84,
          85,
          86,
          88,
          89,
          90,
          97,
          98,
          99
         ],
         "xaxis": "x",
         "y": [
          0.34056079010103374,
          0.3413672725399018,
          0.3307586777170136,
          0.29137704189220814,
          0.292498736937271,
          0.2917551809337978,
          0.2909828732985842,
          0.27252459754270536,
          0.2772208177142342,
          0.2755452126265577,
          0.23380476876708214,
          0.24266904638892636,
          0.2116295968272671,
          0.24131086288093806,
          0.2056555269922861,
          0.2229681036164618,
          0.226609025243974,
          0.19244781677905895,
          0.2194423239075081,
          0.21714607238748526,
          0.22177155019708217,
          0.22764444547552867,
          0.21309710598344997,
          0.21175474095336544,
          0.20304952047258457,
          0.20955885631396265,
          0.21563469709971206,
          0.20814993733819473,
          0.18121080331536862,
          0.20894211697730275,
          0.20753269013129672,
          0.21178260443619598,
          0.22255354938777147,
          0.20395871547074604,
          0.20363816973986362,
          0.19305278116662739,
          0.1951476063277637,
          0.21013862732956942,
          0.17329630709796257,
          0.21976100990173103,
          0.22443821388616514,
          0.20868518626366203,
          0.1845737372080149,
          0.1735278205926488,
          0.24172902176659972,
          0.13387060067738538,
          0.28726001819313457,
          0.18449698215650626,
          0.2601456815816858,
          0.16312681478581453,
          0.19547475932170258,
          0.19800673222889575,
          0.06699718611818303,
          0.3330003330003329,
          0.37158605313680554,
          0,
          0.1786033220217896,
          0.5817335660267597,
          0.28905911258852435,
          0,
          0,
          0.3972983710766786,
          0.3421142661648991,
          0,
          1.001001001001001,
          0,
          0,
          0,
          0,
          0,
          0,
          0,
          0
         ],
         "yaxis": "y"
        },
        {
         "hovertemplate": "VehUsage=Professional<br>DrivAge=%{x}<br>Freq=%{y}<extra></extra>",
         "legendgroup": "Professional",
         "line": {
          "color": "#00cc96",
          "dash": "solid"
         },
         "mode": "lines",
         "name": "Professional",
         "orientation": "v",
         "showlegend": true,
         "type": "scatter",
         "x": [
          20,
          21,
          22,
          23,
          24,
          25,
          26,
          27,
          28,
          29,
          30,
          31,
          32,
          33,
          34,
          35,
          36,
          37,
          38,
          39,
          40,
          41,
          42,
          43,
          44,
          45,
          46,
          47,
          48,
          49,
          50,
          51,
          52,
          53,
          54,
          55,
          56,
          57,
          58,
          59,
          60,
          61,
          62,
          63,
          64,
          65,
          66,
          67,
          68,
          69,
          70,
          71,
          72,
          73,
          74,
          75,
          76,
          77,
          78,
          79,
          80,
          81,
          82,
          83,
          84,
          85,
          86,
          88,
          93
         ],
         "xaxis": "x",
         "y": [
          0,
          0,
          0.8771929824561404,
          0.6841817186644773,
          0.32119914346895073,
          0.4264998578333807,
          0.3553344585591188,
          0.28475051474131524,
          0.19891700740413315,
          0.415973377703827,
          0.2607595926935166,
          0.3052055864830555,
          0.25648698328559877,
          0.23736731167277528,
          0.27781877534011146,
          0.3151543103116957,
          0.2571355104139885,
          0.34076940864337324,
          0.2870743121899771,
          0.33841828500026067,
          0.2992896106976277,
          0.24141152267693938,
          0.2332186243210751,
          0.23169601482854554,
          0.23369500417312547,
          0.264788169464429,
          0.26560664106638865,
          0.22324518125276324,
          0.26864201461611587,
          0.21403018844848537,
          0.29090713796606715,
          0.30055668324810353,
          0.19445021411620217,
          0.28825511007473165,
          0.24776374997722767,
          0.22037000835273426,
          0.2775096053500731,
          0.22438234752017486,
          0.23007822659704336,
          0.3017920411402915,
          0.21702801831716514,
          0.3052052259010942,
          0.34215928830868053,
          0.26808516642444946,
          0.15321952527483762,
          0.31816735602927143,
          0.3043398867855621,
          0.1200480192076831,
          0.45825695717380444,
          0.19941770031508,
          0.08960573476702513,
          0.055279159756771695,
          0.22572089611195756,
          0.25916807049371515,
          0.2305209774089442,
          0.3283712784588442,
          0.17845989113946642,
          0.44832997085855186,
          0.13239772275916856,
          0,
          0,
          0,
          0,
          0.17730496453900707,
          0,
          0,
          0,
          0,
          1
         ],
         "yaxis": "y"
        },
        {
         "hovertemplate": "VehUsage=Professional run<br>DrivAge=%{x}<br>Freq=%{y}<extra></extra>",
         "legendgroup": "Professional run",
         "line": {
          "color": "#ab63fa",
          "dash": "solid"
         },
         "mode": "lines",
         "name": "Professional run",
         "orientation": "v",
         "showlegend": true,
         "type": "scatter",
         "x": [
          20,
          21,
          22,
          23,
          24,
          25,
          26,
          27,
          28,
          29,
          30,
          31,
          32,
          33,
          34,
          35,
          36,
          37,
          38,
          39,
          40,
          41,
          42,
          43,
          44,
          45,
          46,
          47,
          48,
          49,
          50,
          51,
          52,
          53,
          54,
          55,
          56,
          57,
          58,
          59,
          60,
          61,
          62,
          63,
          64,
          65,
          66,
          67,
          68,
          69,
          70,
          71,
          72,
          74,
          75,
          77,
          78,
          79,
          80,
          81,
          82
         ],
         "xaxis": "x",
         "y": [
          0,
          0,
          0,
          0,
          0,
          0.33123550844650534,
          0.4821600771456124,
          0.19297568506368196,
          0.18587360594795535,
          0.3258390355164548,
          0.2342743352465737,
          0.150105073551486,
          0.26036242449489694,
          0.21987686895338607,
          0.44027003228646905,
          0.31106134129650365,
          0.48265136483080384,
          0.2276348736626451,
          0.2771399160661969,
          0.2710446836521335,
          0.3277733265350718,
          0.3965893317469761,
          0.4069294268108361,
          0.09797517962116267,
          0.28053863417762104,
          0.29199211621286236,
          0.30972217920525297,
          0.2614789247986614,
          0.17370158068438427,
          0.20403404453771715,
          0.25158498540807106,
          0.3752778499465953,
          0.295112483258042,
          0.11970313622216906,
          0.2621537386035944,
          0.2374476535854597,
          0.3430027440219523,
          0.31109477077971665,
          0.2942165433759247,
          0.39214288260668073,
          0.24507401235173018,
          0.41356492969396197,
          0.1665695011243441,
          0.25559105431309903,
          0.31628054083972484,
          0.15015015015015015,
          0.14626298083954947,
          0.7132667617689016,
          0,
          0,
          0,
          0,
          0,
          0,
          0,
          0,
          0,
          0,
          4.694835680751174,
          0,
          0
         ],
         "yaxis": "y"
        }
       ],
       "layout": {
        "legend": {
         "title": {
          "text": "VehUsage"
         },
         "tracegroupgap": 0
        },
        "template": {
         "data": {
          "bar": [
           {
            "error_x": {
             "color": "#2a3f5f"
            },
            "error_y": {
             "color": "#2a3f5f"
            },
            "marker": {
             "line": {
              "color": "#E5ECF6",
              "width": 0.5
             }
            },
            "type": "bar"
           }
          ],
          "barpolar": [
           {
            "marker": {
             "line": {
              "color": "#E5ECF6",
              "width": 0.5
             }
            },
            "type": "barpolar"
           }
          ],
          "carpet": [
           {
            "aaxis": {
             "endlinecolor": "#2a3f5f",
             "gridcolor": "white",
             "linecolor": "white",
             "minorgridcolor": "white",
             "startlinecolor": "#2a3f5f"
            },
            "baxis": {
             "endlinecolor": "#2a3f5f",
             "gridcolor": "white",
             "linecolor": "white",
             "minorgridcolor": "white",
             "startlinecolor": "#2a3f5f"
            },
            "type": "carpet"
           }
          ],
          "choropleth": [
           {
            "colorbar": {
             "outlinewidth": 0,
             "ticks": ""
            },
            "type": "choropleth"
           }
          ],
          "contour": [
           {
            "colorbar": {
             "outlinewidth": 0,
             "ticks": ""
            },
            "colorscale": [
             [
              0,
              "#0d0887"
             ],
             [
              0.1111111111111111,
              "#46039f"
             ],
             [
              0.2222222222222222,
              "#7201a8"
             ],
             [
              0.3333333333333333,
              "#9c179e"
             ],
             [
              0.4444444444444444,
              "#bd3786"
             ],
             [
              0.5555555555555556,
              "#d8576b"
             ],
             [
              0.6666666666666666,
              "#ed7953"
             ],
             [
              0.7777777777777778,
              "#fb9f3a"
             ],
             [
              0.8888888888888888,
              "#fdca26"
             ],
             [
              1,
              "#f0f921"
             ]
            ],
            "type": "contour"
           }
          ],
          "contourcarpet": [
           {
            "colorbar": {
             "outlinewidth": 0,
             "ticks": ""
            },
            "type": "contourcarpet"
           }
          ],
          "heatmap": [
           {
            "colorbar": {
             "outlinewidth": 0,
             "ticks": ""
            },
            "colorscale": [
             [
              0,
              "#0d0887"
             ],
             [
              0.1111111111111111,
              "#46039f"
             ],
             [
              0.2222222222222222,
              "#7201a8"
             ],
             [
              0.3333333333333333,
              "#9c179e"
             ],
             [
              0.4444444444444444,
              "#bd3786"
             ],
             [
              0.5555555555555556,
              "#d8576b"
             ],
             [
              0.6666666666666666,
              "#ed7953"
             ],
             [
              0.7777777777777778,
              "#fb9f3a"
             ],
             [
              0.8888888888888888,
              "#fdca26"
             ],
             [
              1,
              "#f0f921"
             ]
            ],
            "type": "heatmap"
           }
          ],
          "heatmapgl": [
           {
            "colorbar": {
             "outlinewidth": 0,
             "ticks": ""
            },
            "colorscale": [
             [
              0,
              "#0d0887"
             ],
             [
              0.1111111111111111,
              "#46039f"
             ],
             [
              0.2222222222222222,
              "#7201a8"
             ],
             [
              0.3333333333333333,
              "#9c179e"
             ],
             [
              0.4444444444444444,
              "#bd3786"
             ],
             [
              0.5555555555555556,
              "#d8576b"
             ],
             [
              0.6666666666666666,
              "#ed7953"
             ],
             [
              0.7777777777777778,
              "#fb9f3a"
             ],
             [
              0.8888888888888888,
              "#fdca26"
             ],
             [
              1,
              "#f0f921"
             ]
            ],
            "type": "heatmapgl"
           }
          ],
          "histogram": [
           {
            "marker": {
             "colorbar": {
              "outlinewidth": 0,
              "ticks": ""
             }
            },
            "type": "histogram"
           }
          ],
          "histogram2d": [
           {
            "colorbar": {
             "outlinewidth": 0,
             "ticks": ""
            },
            "colorscale": [
             [
              0,
              "#0d0887"
             ],
             [
              0.1111111111111111,
              "#46039f"
             ],
             [
              0.2222222222222222,
              "#7201a8"
             ],
             [
              0.3333333333333333,
              "#9c179e"
             ],
             [
              0.4444444444444444,
              "#bd3786"
             ],
             [
              0.5555555555555556,
              "#d8576b"
             ],
             [
              0.6666666666666666,
              "#ed7953"
             ],
             [
              0.7777777777777778,
              "#fb9f3a"
             ],
             [
              0.8888888888888888,
              "#fdca26"
             ],
             [
              1,
              "#f0f921"
             ]
            ],
            "type": "histogram2d"
           }
          ],
          "histogram2dcontour": [
           {
            "colorbar": {
             "outlinewidth": 0,
             "ticks": ""
            },
            "colorscale": [
             [
              0,
              "#0d0887"
             ],
             [
              0.1111111111111111,
              "#46039f"
             ],
             [
              0.2222222222222222,
              "#7201a8"
             ],
             [
              0.3333333333333333,
              "#9c179e"
             ],
             [
              0.4444444444444444,
              "#bd3786"
             ],
             [
              0.5555555555555556,
              "#d8576b"
             ],
             [
              0.6666666666666666,
              "#ed7953"
             ],
             [
              0.7777777777777778,
              "#fb9f3a"
             ],
             [
              0.8888888888888888,
              "#fdca26"
             ],
             [
              1,
              "#f0f921"
             ]
            ],
            "type": "histogram2dcontour"
           }
          ],
          "mesh3d": [
           {
            "colorbar": {
             "outlinewidth": 0,
             "ticks": ""
            },
            "type": "mesh3d"
           }
          ],
          "parcoords": [
           {
            "line": {
             "colorbar": {
              "outlinewidth": 0,
              "ticks": ""
             }
            },
            "type": "parcoords"
           }
          ],
          "pie": [
           {
            "automargin": true,
            "type": "pie"
           }
          ],
          "scatter": [
           {
            "marker": {
             "colorbar": {
              "outlinewidth": 0,
              "ticks": ""
             }
            },
            "type": "scatter"
           }
          ],
          "scatter3d": [
           {
            "line": {
             "colorbar": {
              "outlinewidth": 0,
              "ticks": ""
             }
            },
            "marker": {
             "colorbar": {
              "outlinewidth": 0,
              "ticks": ""
             }
            },
            "type": "scatter3d"
           }
          ],
          "scattercarpet": [
           {
            "marker": {
             "colorbar": {
              "outlinewidth": 0,
              "ticks": ""
             }
            },
            "type": "scattercarpet"
           }
          ],
          "scattergeo": [
           {
            "marker": {
             "colorbar": {
              "outlinewidth": 0,
              "ticks": ""
             }
            },
            "type": "scattergeo"
           }
          ],
          "scattergl": [
           {
            "marker": {
             "colorbar": {
              "outlinewidth": 0,
              "ticks": ""
             }
            },
            "type": "scattergl"
           }
          ],
          "scattermapbox": [
           {
            "marker": {
             "colorbar": {
              "outlinewidth": 0,
              "ticks": ""
             }
            },
            "type": "scattermapbox"
           }
          ],
          "scatterpolar": [
           {
            "marker": {
             "colorbar": {
              "outlinewidth": 0,
              "ticks": ""
             }
            },
            "type": "scatterpolar"
           }
          ],
          "scatterpolargl": [
           {
            "marker": {
             "colorbar": {
              "outlinewidth": 0,
              "ticks": ""
             }
            },
            "type": "scatterpolargl"
           }
          ],
          "scatterternary": [
           {
            "marker": {
             "colorbar": {
              "outlinewidth": 0,
              "ticks": ""
             }
            },
            "type": "scatterternary"
           }
          ],
          "surface": [
           {
            "colorbar": {
             "outlinewidth": 0,
             "ticks": ""
            },
            "colorscale": [
             [
              0,
              "#0d0887"
             ],
             [
              0.1111111111111111,
              "#46039f"
             ],
             [
              0.2222222222222222,
              "#7201a8"
             ],
             [
              0.3333333333333333,
              "#9c179e"
             ],
             [
              0.4444444444444444,
              "#bd3786"
             ],
             [
              0.5555555555555556,
              "#d8576b"
             ],
             [
              0.6666666666666666,
              "#ed7953"
             ],
             [
              0.7777777777777778,
              "#fb9f3a"
             ],
             [
              0.8888888888888888,
              "#fdca26"
             ],
             [
              1,
              "#f0f921"
             ]
            ],
            "type": "surface"
           }
          ],
          "table": [
           {
            "cells": {
             "fill": {
              "color": "#EBF0F8"
             },
             "line": {
              "color": "white"
             }
            },
            "header": {
             "fill": {
              "color": "#C8D4E3"
             },
             "line": {
              "color": "white"
             }
            },
            "type": "table"
           }
          ]
         },
         "layout": {
          "annotationdefaults": {
           "arrowcolor": "#2a3f5f",
           "arrowhead": 0,
           "arrowwidth": 1
          },
          "coloraxis": {
           "colorbar": {
            "outlinewidth": 0,
            "ticks": ""
           }
          },
          "colorscale": {
           "diverging": [
            [
             0,
             "#8e0152"
            ],
            [
             0.1,
             "#c51b7d"
            ],
            [
             0.2,
             "#de77ae"
            ],
            [
             0.3,
             "#f1b6da"
            ],
            [
             0.4,
             "#fde0ef"
            ],
            [
             0.5,
             "#f7f7f7"
            ],
            [
             0.6,
             "#e6f5d0"
            ],
            [
             0.7,
             "#b8e186"
            ],
            [
             0.8,
             "#7fbc41"
            ],
            [
             0.9,
             "#4d9221"
            ],
            [
             1,
             "#276419"
            ]
           ],
           "sequential": [
            [
             0,
             "#0d0887"
            ],
            [
             0.1111111111111111,
             "#46039f"
            ],
            [
             0.2222222222222222,
             "#7201a8"
            ],
            [
             0.3333333333333333,
             "#9c179e"
            ],
            [
             0.4444444444444444,
             "#bd3786"
            ],
            [
             0.5555555555555556,
             "#d8576b"
            ],
            [
             0.6666666666666666,
             "#ed7953"
            ],
            [
             0.7777777777777778,
             "#fb9f3a"
            ],
            [
             0.8888888888888888,
             "#fdca26"
            ],
            [
             1,
             "#f0f921"
            ]
           ],
           "sequentialminus": [
            [
             0,
             "#0d0887"
            ],
            [
             0.1111111111111111,
             "#46039f"
            ],
            [
             0.2222222222222222,
             "#7201a8"
            ],
            [
             0.3333333333333333,
             "#9c179e"
            ],
            [
             0.4444444444444444,
             "#bd3786"
            ],
            [
             0.5555555555555556,
             "#d8576b"
            ],
            [
             0.6666666666666666,
             "#ed7953"
            ],
            [
             0.7777777777777778,
             "#fb9f3a"
            ],
            [
             0.8888888888888888,
             "#fdca26"
            ],
            [
             1,
             "#f0f921"
            ]
           ]
          },
          "colorway": [
           "#636efa",
           "#EF553B",
           "#00cc96",
           "#ab63fa",
           "#FFA15A",
           "#19d3f3",
           "#FF6692",
           "#B6E880",
           "#FF97FF",
           "#FECB52"
          ],
          "font": {
           "color": "#2a3f5f"
          },
          "geo": {
           "bgcolor": "white",
           "lakecolor": "white",
           "landcolor": "#E5ECF6",
           "showlakes": true,
           "showland": true,
           "subunitcolor": "white"
          },
          "hoverlabel": {
           "align": "left"
          },
          "hovermode": "closest",
          "mapbox": {
           "style": "light"
          },
          "paper_bgcolor": "white",
          "plot_bgcolor": "#E5ECF6",
          "polar": {
           "angularaxis": {
            "gridcolor": "white",
            "linecolor": "white",
            "ticks": ""
           },
           "bgcolor": "#E5ECF6",
           "radialaxis": {
            "gridcolor": "white",
            "linecolor": "white",
            "ticks": ""
           }
          },
          "scene": {
           "xaxis": {
            "backgroundcolor": "#E5ECF6",
            "gridcolor": "white",
            "gridwidth": 2,
            "linecolor": "white",
            "showbackground": true,
            "ticks": "",
            "zerolinecolor": "white"
           },
           "yaxis": {
            "backgroundcolor": "#E5ECF6",
            "gridcolor": "white",
            "gridwidth": 2,
            "linecolor": "white",
            "showbackground": true,
            "ticks": "",
            "zerolinecolor": "white"
           },
           "zaxis": {
            "backgroundcolor": "#E5ECF6",
            "gridcolor": "white",
            "gridwidth": 2,
            "linecolor": "white",
            "showbackground": true,
            "ticks": "",
            "zerolinecolor": "white"
           }
          },
          "shapedefaults": {
           "line": {
            "color": "#2a3f5f"
           }
          },
          "ternary": {
           "aaxis": {
            "gridcolor": "white",
            "linecolor": "white",
            "ticks": ""
           },
           "baxis": {
            "gridcolor": "white",
            "linecolor": "white",
            "ticks": ""
           },
           "bgcolor": "#E5ECF6",
           "caxis": {
            "gridcolor": "white",
            "linecolor": "white",
            "ticks": ""
           }
          },
          "title": {
           "x": 0.05
          },
          "xaxis": {
           "automargin": true,
           "gridcolor": "white",
           "linecolor": "white",
           "ticks": "",
           "title": {
            "standoff": 15
           },
           "zerolinecolor": "white",
           "zerolinewidth": 2
          },
          "yaxis": {
           "automargin": true,
           "gridcolor": "white",
           "linecolor": "white",
           "ticks": "",
           "title": {
            "standoff": 15
           },
           "zerolinecolor": "white",
           "zerolinewidth": 2
          }
         }
        },
        "title": {
         "text": "Зависимость частоты убытков от пола и возраста"
        },
        "xaxis": {
         "anchor": "y",
         "domain": [
          0,
          1
         ],
         "title": {
          "text": "DrivAge"
         }
        },
        "yaxis": {
         "anchor": "x",
         "domain": [
          0,
          1
         ],
         "title": {
          "text": "Freq"
         }
        }
       }
      },
      "text/html": [
       "<div>\n",
       "        \n",
       "        \n",
       "            <div id=\"26ecff87-c42f-4982-ad87-bb9210b4f04a\" class=\"plotly-graph-div\" style=\"height:525px; width:100%;\"></div>\n",
       "            <script type=\"text/javascript\">\n",
       "                require([\"plotly\"], function(Plotly) {\n",
       "                    window.PLOTLYENV=window.PLOTLYENV || {};\n",
       "                    \n",
       "                if (document.getElementById(\"26ecff87-c42f-4982-ad87-bb9210b4f04a\")) {\n",
       "                    Plotly.newPlot(\n",
       "                        '26ecff87-c42f-4982-ad87-bb9210b4f04a',\n",
       "                        [{\"hovertemplate\": \"VehUsage=Private<br>DrivAge=%{x}<br>Freq=%{y}<extra></extra>\", \"legendgroup\": \"Private\", \"line\": {\"color\": \"#636efa\", \"dash\": \"solid\"}, \"mode\": \"lines\", \"name\": \"Private\", \"orientation\": \"v\", \"showlegend\": true, \"type\": \"scatter\", \"x\": [20, 21, 22, 23, 24, 25, 26, 27, 28, 29, 30, 31, 32, 33, 34, 35, 36, 37, 38, 39, 40, 41, 42, 43, 44, 45, 46, 47, 48, 49, 50, 51, 52, 53, 54, 55, 56, 57, 58, 59, 60, 61, 62, 63, 64, 65, 66, 67, 68, 69, 70, 71, 72, 73, 74, 75, 76, 77, 78, 79, 80, 81, 82, 83, 84, 85, 86, 87, 88, 89, 90, 91, 92, 93, 94, 95, 96, 97], \"xaxis\": \"x\", \"y\": [1.1111111111111112, 0.27199782401740785, 0.3111065021258944, 0.39216967874767145, 0.2808134228816139, 0.41593695271453623, 0.17127348422966482, 0.32310514466772317, 0.2614555483397578, 0.2109055758161611, 0.2242454141812803, 0.18337552942289975, 0.16822599220984286, 0.1298810938585727, 0.20778860972104427, 0.16460905349794283, 0.17181693224049294, 0.18588140766191213, 0.20678127710414337, 0.17220595832615845, 0.222322679136499, 0.1918428423435526, 0.23120809353304747, 0.24206784984708452, 0.15641863884500506, 0.18442698535649765, 0.20032624559997753, 0.16970788108642584, 0.1724320882852294, 0.18488617174692817, 0.25257896416037484, 0.26463599049470776, 0.11048558414230564, 0.1990593289385974, 0.21609473593223288, 0.16452262186050598, 0.21102105414608413, 0.1634016594346298, 0.1534237726098185, 0.18990346573824907, 0.17682707919173857, 0.17531978672863485, 0.17235587619220047, 0.2079125579184972, 0.17931554106408057, 0.17566408852078583, 0.17028859616833378, 0.175198429397608, 0.19131399054412782, 0.14527591443586416, 0.15734656813864628, 0.1666620916288563, 0.13778117200601447, 0.14316829528556282, 0.17340769555232627, 0.17572618847386798, 0.1498288796479806, 0.10158534708326918, 0.1421666192777936, 0.1391495330969046, 0.14928411481305573, 0.1765982138352089, 0.14175707899413253, 0.18820577164366417, 0.19768821080540516, 0.14622326203208566, 0.12504689258471935, 0.28184892897406993, 0.10478519035976248, 0.14229473983778398, 0.1151012891344383, 0.1979218208807521, 0.16801075268817203, 0.0, 0.2351834430856068, 0.0, 0.0, 0.0], \"yaxis\": \"y\"}, {\"hovertemplate\": \"VehUsage=Private+trip to office<br>DrivAge=%{x}<br>Freq=%{y}<extra></extra>\", \"legendgroup\": \"Private+trip to office\", \"line\": {\"color\": \"#EF553B\", \"dash\": \"solid\"}, \"mode\": \"lines\", \"name\": \"Private+trip to office\", \"orientation\": \"v\", \"showlegend\": true, \"type\": \"scatter\", \"x\": [20, 21, 22, 23, 24, 25, 26, 27, 28, 29, 30, 31, 32, 33, 34, 35, 36, 37, 38, 39, 40, 41, 42, 43, 44, 45, 46, 47, 48, 49, 50, 51, 52, 53, 54, 55, 56, 57, 58, 59, 60, 61, 62, 63, 64, 65, 66, 67, 68, 69, 70, 71, 72, 73, 74, 75, 76, 77, 78, 79, 80, 81, 82, 83, 84, 85, 86, 88, 89, 90, 97, 98, 99], \"xaxis\": \"x\", \"y\": [0.34056079010103374, 0.3413672725399018, 0.3307586777170136, 0.29137704189220814, 0.292498736937271, 0.2917551809337978, 0.2909828732985842, 0.27252459754270536, 0.2772208177142342, 0.2755452126265577, 0.23380476876708214, 0.24266904638892636, 0.2116295968272671, 0.24131086288093806, 0.2056555269922861, 0.2229681036164618, 0.226609025243974, 0.19244781677905895, 0.2194423239075081, 0.21714607238748526, 0.22177155019708217, 0.22764444547552867, 0.21309710598344997, 0.21175474095336544, 0.20304952047258457, 0.20955885631396265, 0.21563469709971206, 0.20814993733819473, 0.18121080331536862, 0.20894211697730275, 0.20753269013129672, 0.21178260443619598, 0.22255354938777147, 0.20395871547074604, 0.20363816973986362, 0.19305278116662739, 0.1951476063277637, 0.21013862732956942, 0.17329630709796257, 0.21976100990173103, 0.22443821388616514, 0.20868518626366203, 0.1845737372080149, 0.1735278205926488, 0.24172902176659972, 0.13387060067738538, 0.28726001819313457, 0.18449698215650626, 0.2601456815816858, 0.16312681478581453, 0.19547475932170258, 0.19800673222889575, 0.06699718611818303, 0.3330003330003329, 0.37158605313680554, 0.0, 0.1786033220217896, 0.5817335660267597, 0.28905911258852435, 0.0, 0.0, 0.3972983710766786, 0.3421142661648991, 0.0, 1.001001001001001, 0.0, 0.0, 0.0, 0.0, 0.0, 0.0, 0.0, 0.0], \"yaxis\": \"y\"}, {\"hovertemplate\": \"VehUsage=Professional<br>DrivAge=%{x}<br>Freq=%{y}<extra></extra>\", \"legendgroup\": \"Professional\", \"line\": {\"color\": \"#00cc96\", \"dash\": \"solid\"}, \"mode\": \"lines\", \"name\": \"Professional\", \"orientation\": \"v\", \"showlegend\": true, \"type\": \"scatter\", \"x\": [20, 21, 22, 23, 24, 25, 26, 27, 28, 29, 30, 31, 32, 33, 34, 35, 36, 37, 38, 39, 40, 41, 42, 43, 44, 45, 46, 47, 48, 49, 50, 51, 52, 53, 54, 55, 56, 57, 58, 59, 60, 61, 62, 63, 64, 65, 66, 67, 68, 69, 70, 71, 72, 73, 74, 75, 76, 77, 78, 79, 80, 81, 82, 83, 84, 85, 86, 88, 93], \"xaxis\": \"x\", \"y\": [0.0, 0.0, 0.8771929824561404, 0.6841817186644773, 0.32119914346895073, 0.4264998578333807, 0.3553344585591188, 0.28475051474131524, 0.19891700740413315, 0.415973377703827, 0.2607595926935166, 0.3052055864830555, 0.25648698328559877, 0.23736731167277528, 0.27781877534011146, 0.3151543103116957, 0.2571355104139885, 0.34076940864337324, 0.2870743121899771, 0.33841828500026067, 0.2992896106976277, 0.24141152267693938, 0.2332186243210751, 0.23169601482854554, 0.23369500417312547, 0.264788169464429, 0.26560664106638865, 0.22324518125276324, 0.26864201461611587, 0.21403018844848537, 0.29090713796606715, 0.30055668324810353, 0.19445021411620217, 0.28825511007473165, 0.24776374997722767, 0.22037000835273426, 0.2775096053500731, 0.22438234752017486, 0.23007822659704336, 0.3017920411402915, 0.21702801831716514, 0.3052052259010942, 0.34215928830868053, 0.26808516642444946, 0.15321952527483762, 0.31816735602927143, 0.3043398867855621, 0.1200480192076831, 0.45825695717380444, 0.19941770031508, 0.08960573476702513, 0.055279159756771695, 0.22572089611195756, 0.25916807049371515, 0.2305209774089442, 0.3283712784588442, 0.17845989113946642, 0.44832997085855186, 0.13239772275916856, 0.0, 0.0, 0.0, 0.0, 0.17730496453900707, 0.0, 0.0, 0.0, 0.0, 1.0], \"yaxis\": \"y\"}, {\"hovertemplate\": \"VehUsage=Professional run<br>DrivAge=%{x}<br>Freq=%{y}<extra></extra>\", \"legendgroup\": \"Professional run\", \"line\": {\"color\": \"#ab63fa\", \"dash\": \"solid\"}, \"mode\": \"lines\", \"name\": \"Professional run\", \"orientation\": \"v\", \"showlegend\": true, \"type\": \"scatter\", \"x\": [20, 21, 22, 23, 24, 25, 26, 27, 28, 29, 30, 31, 32, 33, 34, 35, 36, 37, 38, 39, 40, 41, 42, 43, 44, 45, 46, 47, 48, 49, 50, 51, 52, 53, 54, 55, 56, 57, 58, 59, 60, 61, 62, 63, 64, 65, 66, 67, 68, 69, 70, 71, 72, 74, 75, 77, 78, 79, 80, 81, 82], \"xaxis\": \"x\", \"y\": [0.0, 0.0, 0.0, 0.0, 0.0, 0.33123550844650534, 0.4821600771456124, 0.19297568506368196, 0.18587360594795535, 0.3258390355164548, 0.2342743352465737, 0.150105073551486, 0.26036242449489694, 0.21987686895338607, 0.44027003228646905, 0.31106134129650365, 0.48265136483080384, 0.2276348736626451, 0.2771399160661969, 0.2710446836521335, 0.3277733265350718, 0.3965893317469761, 0.4069294268108361, 0.09797517962116267, 0.28053863417762104, 0.29199211621286236, 0.30972217920525297, 0.2614789247986614, 0.17370158068438427, 0.20403404453771715, 0.25158498540807106, 0.3752778499465953, 0.295112483258042, 0.11970313622216906, 0.2621537386035944, 0.2374476535854597, 0.3430027440219523, 0.31109477077971665, 0.2942165433759247, 0.39214288260668073, 0.24507401235173018, 0.41356492969396197, 0.1665695011243441, 0.25559105431309903, 0.31628054083972484, 0.15015015015015015, 0.14626298083954947, 0.7132667617689016, 0.0, 0.0, 0.0, 0.0, 0.0, 0.0, 0.0, 0.0, 0.0, 0.0, 4.694835680751174, 0.0, 0.0], \"yaxis\": \"y\"}],\n",
       "                        {\"legend\": {\"title\": {\"text\": \"VehUsage\"}, \"tracegroupgap\": 0}, \"template\": {\"data\": {\"bar\": [{\"error_x\": {\"color\": \"#2a3f5f\"}, \"error_y\": {\"color\": \"#2a3f5f\"}, \"marker\": {\"line\": {\"color\": \"#E5ECF6\", \"width\": 0.5}}, \"type\": \"bar\"}], \"barpolar\": [{\"marker\": {\"line\": {\"color\": \"#E5ECF6\", \"width\": 0.5}}, \"type\": \"barpolar\"}], \"carpet\": [{\"aaxis\": {\"endlinecolor\": \"#2a3f5f\", \"gridcolor\": \"white\", \"linecolor\": \"white\", \"minorgridcolor\": \"white\", \"startlinecolor\": \"#2a3f5f\"}, \"baxis\": {\"endlinecolor\": \"#2a3f5f\", \"gridcolor\": \"white\", \"linecolor\": \"white\", \"minorgridcolor\": \"white\", \"startlinecolor\": \"#2a3f5f\"}, \"type\": \"carpet\"}], \"choropleth\": [{\"colorbar\": {\"outlinewidth\": 0, \"ticks\": \"\"}, \"type\": \"choropleth\"}], \"contour\": [{\"colorbar\": {\"outlinewidth\": 0, \"ticks\": \"\"}, \"colorscale\": [[0.0, \"#0d0887\"], [0.1111111111111111, \"#46039f\"], [0.2222222222222222, \"#7201a8\"], [0.3333333333333333, \"#9c179e\"], [0.4444444444444444, \"#bd3786\"], [0.5555555555555556, \"#d8576b\"], [0.6666666666666666, \"#ed7953\"], [0.7777777777777778, \"#fb9f3a\"], [0.8888888888888888, \"#fdca26\"], [1.0, \"#f0f921\"]], \"type\": \"contour\"}], \"contourcarpet\": [{\"colorbar\": {\"outlinewidth\": 0, \"ticks\": \"\"}, \"type\": \"contourcarpet\"}], \"heatmap\": [{\"colorbar\": {\"outlinewidth\": 0, \"ticks\": \"\"}, \"colorscale\": [[0.0, \"#0d0887\"], [0.1111111111111111, \"#46039f\"], [0.2222222222222222, \"#7201a8\"], [0.3333333333333333, \"#9c179e\"], [0.4444444444444444, \"#bd3786\"], [0.5555555555555556, \"#d8576b\"], [0.6666666666666666, \"#ed7953\"], [0.7777777777777778, \"#fb9f3a\"], [0.8888888888888888, \"#fdca26\"], [1.0, \"#f0f921\"]], \"type\": \"heatmap\"}], \"heatmapgl\": [{\"colorbar\": {\"outlinewidth\": 0, \"ticks\": \"\"}, \"colorscale\": [[0.0, \"#0d0887\"], [0.1111111111111111, \"#46039f\"], [0.2222222222222222, \"#7201a8\"], [0.3333333333333333, \"#9c179e\"], [0.4444444444444444, \"#bd3786\"], [0.5555555555555556, \"#d8576b\"], [0.6666666666666666, \"#ed7953\"], [0.7777777777777778, \"#fb9f3a\"], [0.8888888888888888, \"#fdca26\"], [1.0, \"#f0f921\"]], \"type\": \"heatmapgl\"}], \"histogram\": [{\"marker\": {\"colorbar\": {\"outlinewidth\": 0, \"ticks\": \"\"}}, \"type\": \"histogram\"}], \"histogram2d\": [{\"colorbar\": {\"outlinewidth\": 0, \"ticks\": \"\"}, \"colorscale\": [[0.0, \"#0d0887\"], [0.1111111111111111, \"#46039f\"], [0.2222222222222222, \"#7201a8\"], [0.3333333333333333, \"#9c179e\"], [0.4444444444444444, \"#bd3786\"], [0.5555555555555556, \"#d8576b\"], [0.6666666666666666, \"#ed7953\"], [0.7777777777777778, \"#fb9f3a\"], [0.8888888888888888, \"#fdca26\"], [1.0, \"#f0f921\"]], \"type\": \"histogram2d\"}], \"histogram2dcontour\": [{\"colorbar\": {\"outlinewidth\": 0, \"ticks\": \"\"}, \"colorscale\": [[0.0, \"#0d0887\"], [0.1111111111111111, \"#46039f\"], [0.2222222222222222, \"#7201a8\"], [0.3333333333333333, \"#9c179e\"], [0.4444444444444444, \"#bd3786\"], [0.5555555555555556, \"#d8576b\"], [0.6666666666666666, \"#ed7953\"], [0.7777777777777778, \"#fb9f3a\"], [0.8888888888888888, \"#fdca26\"], [1.0, \"#f0f921\"]], \"type\": \"histogram2dcontour\"}], \"mesh3d\": [{\"colorbar\": {\"outlinewidth\": 0, \"ticks\": \"\"}, \"type\": \"mesh3d\"}], \"parcoords\": [{\"line\": {\"colorbar\": {\"outlinewidth\": 0, \"ticks\": \"\"}}, \"type\": \"parcoords\"}], \"pie\": [{\"automargin\": true, \"type\": \"pie\"}], \"scatter\": [{\"marker\": {\"colorbar\": {\"outlinewidth\": 0, \"ticks\": \"\"}}, \"type\": \"scatter\"}], \"scatter3d\": [{\"line\": {\"colorbar\": {\"outlinewidth\": 0, \"ticks\": \"\"}}, \"marker\": {\"colorbar\": {\"outlinewidth\": 0, \"ticks\": \"\"}}, \"type\": \"scatter3d\"}], \"scattercarpet\": [{\"marker\": {\"colorbar\": {\"outlinewidth\": 0, \"ticks\": \"\"}}, \"type\": \"scattercarpet\"}], \"scattergeo\": [{\"marker\": {\"colorbar\": {\"outlinewidth\": 0, \"ticks\": \"\"}}, \"type\": \"scattergeo\"}], \"scattergl\": [{\"marker\": {\"colorbar\": {\"outlinewidth\": 0, \"ticks\": \"\"}}, \"type\": \"scattergl\"}], \"scattermapbox\": [{\"marker\": {\"colorbar\": {\"outlinewidth\": 0, \"ticks\": \"\"}}, \"type\": \"scattermapbox\"}], \"scatterpolar\": [{\"marker\": {\"colorbar\": {\"outlinewidth\": 0, \"ticks\": \"\"}}, \"type\": \"scatterpolar\"}], \"scatterpolargl\": [{\"marker\": {\"colorbar\": {\"outlinewidth\": 0, \"ticks\": \"\"}}, \"type\": \"scatterpolargl\"}], \"scatterternary\": [{\"marker\": {\"colorbar\": {\"outlinewidth\": 0, \"ticks\": \"\"}}, \"type\": \"scatterternary\"}], \"surface\": [{\"colorbar\": {\"outlinewidth\": 0, \"ticks\": \"\"}, \"colorscale\": [[0.0, \"#0d0887\"], [0.1111111111111111, \"#46039f\"], [0.2222222222222222, \"#7201a8\"], [0.3333333333333333, \"#9c179e\"], [0.4444444444444444, \"#bd3786\"], [0.5555555555555556, \"#d8576b\"], [0.6666666666666666, \"#ed7953\"], [0.7777777777777778, \"#fb9f3a\"], [0.8888888888888888, \"#fdca26\"], [1.0, \"#f0f921\"]], \"type\": \"surface\"}], \"table\": [{\"cells\": {\"fill\": {\"color\": \"#EBF0F8\"}, \"line\": {\"color\": \"white\"}}, \"header\": {\"fill\": {\"color\": \"#C8D4E3\"}, \"line\": {\"color\": \"white\"}}, \"type\": \"table\"}]}, \"layout\": {\"annotationdefaults\": {\"arrowcolor\": \"#2a3f5f\", \"arrowhead\": 0, \"arrowwidth\": 1}, \"coloraxis\": {\"colorbar\": {\"outlinewidth\": 0, \"ticks\": \"\"}}, \"colorscale\": {\"diverging\": [[0, \"#8e0152\"], [0.1, \"#c51b7d\"], [0.2, \"#de77ae\"], [0.3, \"#f1b6da\"], [0.4, \"#fde0ef\"], [0.5, \"#f7f7f7\"], [0.6, \"#e6f5d0\"], [0.7, \"#b8e186\"], [0.8, \"#7fbc41\"], [0.9, \"#4d9221\"], [1, \"#276419\"]], \"sequential\": [[0.0, \"#0d0887\"], [0.1111111111111111, \"#46039f\"], [0.2222222222222222, \"#7201a8\"], [0.3333333333333333, \"#9c179e\"], [0.4444444444444444, \"#bd3786\"], [0.5555555555555556, \"#d8576b\"], [0.6666666666666666, \"#ed7953\"], [0.7777777777777778, \"#fb9f3a\"], [0.8888888888888888, \"#fdca26\"], [1.0, \"#f0f921\"]], \"sequentialminus\": [[0.0, \"#0d0887\"], [0.1111111111111111, \"#46039f\"], [0.2222222222222222, \"#7201a8\"], [0.3333333333333333, \"#9c179e\"], [0.4444444444444444, \"#bd3786\"], [0.5555555555555556, \"#d8576b\"], [0.6666666666666666, \"#ed7953\"], [0.7777777777777778, \"#fb9f3a\"], [0.8888888888888888, \"#fdca26\"], [1.0, \"#f0f921\"]]}, \"colorway\": [\"#636efa\", \"#EF553B\", \"#00cc96\", \"#ab63fa\", \"#FFA15A\", \"#19d3f3\", \"#FF6692\", \"#B6E880\", \"#FF97FF\", \"#FECB52\"], \"font\": {\"color\": \"#2a3f5f\"}, \"geo\": {\"bgcolor\": \"white\", \"lakecolor\": \"white\", \"landcolor\": \"#E5ECF6\", \"showlakes\": true, \"showland\": true, \"subunitcolor\": \"white\"}, \"hoverlabel\": {\"align\": \"left\"}, \"hovermode\": \"closest\", \"mapbox\": {\"style\": \"light\"}, \"paper_bgcolor\": \"white\", \"plot_bgcolor\": \"#E5ECF6\", \"polar\": {\"angularaxis\": {\"gridcolor\": \"white\", \"linecolor\": \"white\", \"ticks\": \"\"}, \"bgcolor\": \"#E5ECF6\", \"radialaxis\": {\"gridcolor\": \"white\", \"linecolor\": \"white\", \"ticks\": \"\"}}, \"scene\": {\"xaxis\": {\"backgroundcolor\": \"#E5ECF6\", \"gridcolor\": \"white\", \"gridwidth\": 2, \"linecolor\": \"white\", \"showbackground\": true, \"ticks\": \"\", \"zerolinecolor\": \"white\"}, \"yaxis\": {\"backgroundcolor\": \"#E5ECF6\", \"gridcolor\": \"white\", \"gridwidth\": 2, \"linecolor\": \"white\", \"showbackground\": true, \"ticks\": \"\", \"zerolinecolor\": \"white\"}, \"zaxis\": {\"backgroundcolor\": \"#E5ECF6\", \"gridcolor\": \"white\", \"gridwidth\": 2, \"linecolor\": \"white\", \"showbackground\": true, \"ticks\": \"\", \"zerolinecolor\": \"white\"}}, \"shapedefaults\": {\"line\": {\"color\": \"#2a3f5f\"}}, \"ternary\": {\"aaxis\": {\"gridcolor\": \"white\", \"linecolor\": \"white\", \"ticks\": \"\"}, \"baxis\": {\"gridcolor\": \"white\", \"linecolor\": \"white\", \"ticks\": \"\"}, \"bgcolor\": \"#E5ECF6\", \"caxis\": {\"gridcolor\": \"white\", \"linecolor\": \"white\", \"ticks\": \"\"}}, \"title\": {\"x\": 0.05}, \"xaxis\": {\"automargin\": true, \"gridcolor\": \"white\", \"linecolor\": \"white\", \"ticks\": \"\", \"title\": {\"standoff\": 15}, \"zerolinecolor\": \"white\", \"zerolinewidth\": 2}, \"yaxis\": {\"automargin\": true, \"gridcolor\": \"white\", \"linecolor\": \"white\", \"ticks\": \"\", \"title\": {\"standoff\": 15}, \"zerolinecolor\": \"white\", \"zerolinewidth\": 2}}}, \"title\": {\"text\": \"\\u0417\\u0430\\u0432\\u0438\\u0441\\u0438\\u043c\\u043e\\u0441\\u0442\\u044c \\u0447\\u0430\\u0441\\u0442\\u043e\\u0442\\u044b \\u0443\\u0431\\u044b\\u0442\\u043a\\u043e\\u0432 \\u043e\\u0442 \\u043f\\u043e\\u043b\\u0430 \\u0438 \\u0432\\u043e\\u0437\\u0440\\u0430\\u0441\\u0442\\u0430\"}, \"xaxis\": {\"anchor\": \"y\", \"domain\": [0.0, 1.0], \"title\": {\"text\": \"DrivAge\"}}, \"yaxis\": {\"anchor\": \"x\", \"domain\": [0.0, 1.0], \"title\": {\"text\": \"Freq\"}}},\n",
       "                        {\"responsive\": true}\n",
       "                    ).then(function(){\n",
       "                            \n",
       "var gd = document.getElementById('26ecff87-c42f-4982-ad87-bb9210b4f04a');\n",
       "var x = new MutationObserver(function (mutations, observer) {{\n",
       "        var display = window.getComputedStyle(gd).display;\n",
       "        if (!display || display === 'none') {{\n",
       "            console.log([gd, 'removed!']);\n",
       "            Plotly.purge(gd);\n",
       "            observer.disconnect();\n",
       "        }}\n",
       "}});\n",
       "\n",
       "// Listen for the removal of the full notebook cells\n",
       "var notebookContainer = gd.closest('#notebook-container');\n",
       "if (notebookContainer) {{\n",
       "    x.observe(notebookContainer, {childList: true});\n",
       "}}\n",
       "\n",
       "// Listen for the clearing of the current output cell\n",
       "var outputEl = gd.closest('.output');\n",
       "if (outputEl) {{\n",
       "    x.observe(outputEl, {childList: true});\n",
       "}}\n",
       "\n",
       "                        })\n",
       "                };\n",
       "                });\n",
       "            </script>\n",
       "        </div>"
      ]
     },
     "metadata": {},
     "output_type": "display_data"
    }
   ],
   "source": [
    "fig = px.line(df_group_VehUsage_Age, x='DrivAge', y='Freq', color='VehUsage', title='Зависимость частоты убытков от пола и возраста')\n",
    "fig.show()"
   ]
  },
  {
   "cell_type": "code",
   "execution_count": 48,
   "metadata": {},
   "outputs": [
    {
     "data": {
      "application/vnd.plotly.v1+json": {
       "config": {
        "plotlyServerURL": "https://plot.ly"
       },
       "data": [
        {
         "hovertemplate": "VehUsage=Private<br>DrivAge=%{x}<br>AvgClaim=%{y}<extra></extra>",
         "legendgroup": "Private",
         "line": {
          "color": "#636efa",
          "dash": "solid"
         },
         "mode": "lines",
         "name": "Private",
         "orientation": "v",
         "showlegend": true,
         "type": "scatter",
         "x": [
          20,
          21,
          22,
          23,
          24,
          25,
          26,
          27,
          28,
          29,
          30,
          31,
          32,
          33,
          34,
          35,
          36,
          37,
          38,
          39,
          40,
          41,
          42,
          43,
          44,
          45,
          46,
          47,
          48,
          49,
          50,
          51,
          52,
          53,
          54,
          55,
          56,
          57,
          58,
          59,
          60,
          61,
          62,
          63,
          64,
          65,
          66,
          67,
          68,
          69,
          70,
          71,
          72,
          73,
          74,
          75,
          76,
          77,
          78,
          79,
          80,
          81,
          82,
          83,
          84,
          85,
          86,
          87,
          88,
          89,
          90,
          91,
          92,
          93,
          94,
          95,
          96,
          97
         ],
         "xaxis": "x",
         "y": [
          19039.0223564955,
          3575.1040785498467,
          3456.128549848947,
          1682.0703927492439,
          1173.1743957703927,
          2606.9958975989834,
          2295.194864048339,
          1625.578608322776,
          2349.6722736575375,
          2101.1436555891237,
          4387.906495468274,
          1376.92158659,
          901.0010574018123,
          1483.9075830815705,
          1126.7007049345416,
          1409.1018126888218,
          1023.2780463242691,
          3096.329003021148,
          3183.8839375629414,
          2259.868634009494,
          1000.1057099697879,
          1514.2961631419944,
          2253.7070466236614,
          2259.94898681011,
          972.3271450151057,
          1884.3051480362537,
          2215.8278377211896,
          2492.5543938000774,
          2733.9453172205403,
          2889.7059818731123,
          1761.733065670218,
          1857.769412417536,
          1062.4345509475415,
          2733.7966978149343,
          1571.2391980225202,
          1316.5424310599733,
          1531.2602169733593,
          1275.2186447993085,
          1947.167657815231,
          1304.1194864048339,
          2025.6956330678388,
          1552.397298738227,
          1303.4319871755351,
          1770.5026893612423,
          1208.0562127553414,
          1465.2005204750087,
          1869.592209100064,
          1695.8501155144822,
          1861.7180429674388,
          1636.1852244783245,
          1450.2083208968804,
          1922.346248444997,
          1750.6556322831239,
          2000.2858851963729,
          2014.982750877765,
          2164.1988735433742,
          1666.5702337414525,
          2476.2736336171374,
          1686.0251098599283,
          1978.4594594594587,
          1670.1907992309787,
          1165.0772809667674,
          2147.950668968494,
          3180.237522658608,
          2930.1628043362334,
          3560.8094087181703,
          2763.3279154078564,
          5691.14695727233,
          3507.706344410873,
          1276.3015105740162,
          1553.419486404835,
          334.73429003021147,
          210.623564954683,
          null,
          12440.1163141994,
          null,
          null,
          null
         ],
         "yaxis": "y"
        },
        {
         "hovertemplate": "VehUsage=Private+trip to office<br>DrivAge=%{x}<br>AvgClaim=%{y}<extra></extra>",
         "legendgroup": "Private+trip to office",
         "line": {
          "color": "#EF553B",
          "dash": "solid"
         },
         "mode": "lines",
         "name": "Private+trip to office",
         "orientation": "v",
         "showlegend": true,
         "type": "scatter",
         "x": [
          20,
          21,
          22,
          23,
          24,
          25,
          26,
          27,
          28,
          29,
          30,
          31,
          32,
          33,
          34,
          35,
          36,
          37,
          38,
          39,
          40,
          41,
          42,
          43,
          44,
          45,
          46,
          47,
          48,
          49,
          50,
          51,
          52,
          53,
          54,
          55,
          56,
          57,
          58,
          59,
          60,
          61,
          62,
          63,
          64,
          65,
          66,
          67,
          68,
          69,
          70,
          71,
          72,
          73,
          74,
          75,
          76,
          77,
          78,
          79,
          80,
          81,
          82,
          83,
          84,
          85,
          86,
          88,
          89,
          90,
          97,
          98,
          99
         ],
         "xaxis": "x",
         "y": [
          4809.142061094329,
          1486.8390412130186,
          2431.8444108761328,
          1609.9983959884134,
          2105.954691018951,
          3029.8448097620835,
          1690.0049093655584,
          2277.464159438649,
          2551.277455395312,
          2060.6106955208193,
          2139.0452787695694,
          1637.0335201247447,
          1584.9676824476526,
          1941.073443134197,
          2275.80854143562,
          1780.2321050927924,
          1974.8005017263695,
          1491.4241129284294,
          2970.7632848118656,
          1808.884603545575,
          7480.995057857834,
          1983.3839609752351,
          1541.843987915407,
          1435.5100100704938,
          1633.4619194828906,
          2156.529446551394,
          2096.0775400405587,
          1550.2801925981869,
          1784.4543491396278,
          1466.2283002758438,
          2685.7879067138997,
          1526.248973426228,
          1481.2869794080013,
          1489.3961536121983,
          1957.8111358779754,
          1987.7678310674726,
          2053.653962846306,
          2017.3520583012373,
          1723.2873185469007,
          1920.1722569349074,
          2985.655468277944,
          1960.763978079112,
          3817.7583081571,
          2178.2051004087425,
          677.2471573743475,
          2466.0654380664664,
          2037.0106495468272,
          2068.688260681915,
          1215.5805135951664,
          2265.9164954682783,
          3441.0754531722,
          1888.65649546828,
          1381.75468277946,
          2184.082477341388,
          2452.1358006042296,
          null,
          467.57583081571,
          3822.5478851963762,
          1445.321148036255,
          null,
          null,
          3593.09003021148,
          153.90271903323298,
          null,
          80.3211480362538,
          null,
          null,
          null,
          null,
          null,
          null,
          null,
          null
         ],
         "yaxis": "y"
        },
        {
         "hovertemplate": "VehUsage=Professional<br>DrivAge=%{x}<br>AvgClaim=%{y}<extra></extra>",
         "legendgroup": "Professional",
         "line": {
          "color": "#00cc96",
          "dash": "solid"
         },
         "mode": "lines",
         "name": "Professional",
         "orientation": "v",
         "showlegend": true,
         "type": "scatter",
         "x": [
          20,
          21,
          22,
          23,
          24,
          25,
          26,
          27,
          28,
          29,
          30,
          31,
          32,
          33,
          34,
          35,
          36,
          37,
          38,
          39,
          40,
          41,
          42,
          43,
          44,
          45,
          46,
          47,
          48,
          49,
          50,
          51,
          52,
          53,
          54,
          55,
          56,
          57,
          58,
          59,
          60,
          61,
          62,
          63,
          64,
          65,
          66,
          67,
          68,
          69,
          70,
          71,
          72,
          73,
          74,
          75,
          76,
          77,
          78,
          79,
          80,
          81,
          82,
          83,
          84,
          85,
          86,
          88,
          93
         ],
         "xaxis": "x",
         "y": [
          null,
          null,
          1757.6746223564965,
          714.6803021148037,
          4520.233534743197,
          653.8253776435039,
          685.6498489425982,
          2590.4746223564935,
          768.1337361530722,
          2921.232435045313,
          2303.570936555893,
          2755.4543927492423,
          1276.5493353474312,
          1835.8277945619332,
          2708.1637556646524,
          2016.8580870974888,
          3386.781952615677,
          1609.5610973241266,
          4745.073800323194,
          1603.0780966767354,
          2535.059357008492,
          1811.064357020885,
          5168.701550856001,
          1593.644864048338,
          1278.6320365004005,
          1384.6636208174195,
          1223.457099697885,
          1808.820471299093,
          2095.39577039275,
          1397.262386706949,
          1759.4651963746235,
          2286.659358991198,
          3034.3022933260077,
          1413.2381656671319,
          1377.1536253776433,
          2926.2797290712397,
          2336.2719245989515,
          1759.9957703927482,
          2438.287376855378,
          1492.786151057402,
          2637.870845921448,
          1493.6969593606857,
          2090.3138972809675,
          1202.883653999046,
          3306.8131419939614,
          2166.2736093833305,
          3589.6306948640486,
          3179.5044561933555,
          2471.106838780556,
          3188.411419939577,
          294.05528700906353,
          1236.97160120846,
          2202.115558912386,
          898.2577794561932,
          72.8216012084592,
          2068.56314199396,
          3563.751661631418,
          531.6430513595164,
          1017.9117824773396,
          null,
          null,
          null,
          null,
          2065.30332326284,
          null,
          null,
          null,
          null,
          8428.819033232628
         ],
         "yaxis": "y"
        },
        {
         "hovertemplate": "VehUsage=Professional run<br>DrivAge=%{x}<br>AvgClaim=%{y}<extra></extra>",
         "legendgroup": "Professional run",
         "line": {
          "color": "#ab63fa",
          "dash": "solid"
         },
         "mode": "lines",
         "name": "Professional run",
         "orientation": "v",
         "showlegend": true,
         "type": "scatter",
         "x": [
          20,
          21,
          22,
          23,
          24,
          25,
          26,
          27,
          28,
          29,
          30,
          31,
          32,
          33,
          34,
          35,
          36,
          37,
          38,
          39,
          40,
          41,
          42,
          43,
          44,
          45,
          46,
          47,
          48,
          49,
          50,
          51,
          52,
          53,
          54,
          55,
          56,
          57,
          58,
          59,
          60,
          61,
          62,
          63,
          64,
          65,
          66,
          67,
          68,
          69,
          70,
          71,
          72,
          74,
          75,
          77,
          78,
          79,
          80,
          81,
          82
         ],
         "xaxis": "x",
         "y": [
          null,
          null,
          null,
          null,
          null,
          243.47311178247702,
          189.19123867069476,
          617.024773413897,
          1264.61329305136,
          501.4327794561935,
          1652.268580060424,
          4480.982175226586,
          350.16344410876115,
          2551.574018126888,
          1258.5505538771406,
          1397.2038670694863,
          547.4518630412888,
          3811.7227341389807,
          3429.2412170910598,
          373.19650410012906,
          1108.5753272910363,
          545.8833534743196,
          962.6435476909792,
          1249.9794561933522,
          3480.2778593008125,
          1569.3052114803627,
          3063.328640483384,
          1123.9799999999998,
          979.303549848943,
          1019.9400517911088,
          1499.8492749244717,
          950.675528700906,
          1117.246223564954,
          7960.391918428992,
          3538.035750251762,
          1273.6322438890418,
          1063.4451661631424,
          1268.6578961823668,
          1307.0908070781177,
          1296.3113705026085,
          2734.373655589123,
          1422.9556495468282,
          3153.067522658612,
          1326.57734138973,
          1716.9720543806648,
          1192.65770392749,
          1306.13474320242,
          377.522356495468,
          null,
          null,
          null,
          null,
          null,
          null,
          null,
          null,
          null,
          null,
          376.33232628398804,
          null,
          null
         ],
         "yaxis": "y"
        }
       ],
       "layout": {
        "legend": {
         "title": {
          "text": "VehUsage"
         },
         "tracegroupgap": 0
        },
        "template": {
         "data": {
          "bar": [
           {
            "error_x": {
             "color": "#2a3f5f"
            },
            "error_y": {
             "color": "#2a3f5f"
            },
            "marker": {
             "line": {
              "color": "#E5ECF6",
              "width": 0.5
             }
            },
            "type": "bar"
           }
          ],
          "barpolar": [
           {
            "marker": {
             "line": {
              "color": "#E5ECF6",
              "width": 0.5
             }
            },
            "type": "barpolar"
           }
          ],
          "carpet": [
           {
            "aaxis": {
             "endlinecolor": "#2a3f5f",
             "gridcolor": "white",
             "linecolor": "white",
             "minorgridcolor": "white",
             "startlinecolor": "#2a3f5f"
            },
            "baxis": {
             "endlinecolor": "#2a3f5f",
             "gridcolor": "white",
             "linecolor": "white",
             "minorgridcolor": "white",
             "startlinecolor": "#2a3f5f"
            },
            "type": "carpet"
           }
          ],
          "choropleth": [
           {
            "colorbar": {
             "outlinewidth": 0,
             "ticks": ""
            },
            "type": "choropleth"
           }
          ],
          "contour": [
           {
            "colorbar": {
             "outlinewidth": 0,
             "ticks": ""
            },
            "colorscale": [
             [
              0,
              "#0d0887"
             ],
             [
              0.1111111111111111,
              "#46039f"
             ],
             [
              0.2222222222222222,
              "#7201a8"
             ],
             [
              0.3333333333333333,
              "#9c179e"
             ],
             [
              0.4444444444444444,
              "#bd3786"
             ],
             [
              0.5555555555555556,
              "#d8576b"
             ],
             [
              0.6666666666666666,
              "#ed7953"
             ],
             [
              0.7777777777777778,
              "#fb9f3a"
             ],
             [
              0.8888888888888888,
              "#fdca26"
             ],
             [
              1,
              "#f0f921"
             ]
            ],
            "type": "contour"
           }
          ],
          "contourcarpet": [
           {
            "colorbar": {
             "outlinewidth": 0,
             "ticks": ""
            },
            "type": "contourcarpet"
           }
          ],
          "heatmap": [
           {
            "colorbar": {
             "outlinewidth": 0,
             "ticks": ""
            },
            "colorscale": [
             [
              0,
              "#0d0887"
             ],
             [
              0.1111111111111111,
              "#46039f"
             ],
             [
              0.2222222222222222,
              "#7201a8"
             ],
             [
              0.3333333333333333,
              "#9c179e"
             ],
             [
              0.4444444444444444,
              "#bd3786"
             ],
             [
              0.5555555555555556,
              "#d8576b"
             ],
             [
              0.6666666666666666,
              "#ed7953"
             ],
             [
              0.7777777777777778,
              "#fb9f3a"
             ],
             [
              0.8888888888888888,
              "#fdca26"
             ],
             [
              1,
              "#f0f921"
             ]
            ],
            "type": "heatmap"
           }
          ],
          "heatmapgl": [
           {
            "colorbar": {
             "outlinewidth": 0,
             "ticks": ""
            },
            "colorscale": [
             [
              0,
              "#0d0887"
             ],
             [
              0.1111111111111111,
              "#46039f"
             ],
             [
              0.2222222222222222,
              "#7201a8"
             ],
             [
              0.3333333333333333,
              "#9c179e"
             ],
             [
              0.4444444444444444,
              "#bd3786"
             ],
             [
              0.5555555555555556,
              "#d8576b"
             ],
             [
              0.6666666666666666,
              "#ed7953"
             ],
             [
              0.7777777777777778,
              "#fb9f3a"
             ],
             [
              0.8888888888888888,
              "#fdca26"
             ],
             [
              1,
              "#f0f921"
             ]
            ],
            "type": "heatmapgl"
           }
          ],
          "histogram": [
           {
            "marker": {
             "colorbar": {
              "outlinewidth": 0,
              "ticks": ""
             }
            },
            "type": "histogram"
           }
          ],
          "histogram2d": [
           {
            "colorbar": {
             "outlinewidth": 0,
             "ticks": ""
            },
            "colorscale": [
             [
              0,
              "#0d0887"
             ],
             [
              0.1111111111111111,
              "#46039f"
             ],
             [
              0.2222222222222222,
              "#7201a8"
             ],
             [
              0.3333333333333333,
              "#9c179e"
             ],
             [
              0.4444444444444444,
              "#bd3786"
             ],
             [
              0.5555555555555556,
              "#d8576b"
             ],
             [
              0.6666666666666666,
              "#ed7953"
             ],
             [
              0.7777777777777778,
              "#fb9f3a"
             ],
             [
              0.8888888888888888,
              "#fdca26"
             ],
             [
              1,
              "#f0f921"
             ]
            ],
            "type": "histogram2d"
           }
          ],
          "histogram2dcontour": [
           {
            "colorbar": {
             "outlinewidth": 0,
             "ticks": ""
            },
            "colorscale": [
             [
              0,
              "#0d0887"
             ],
             [
              0.1111111111111111,
              "#46039f"
             ],
             [
              0.2222222222222222,
              "#7201a8"
             ],
             [
              0.3333333333333333,
              "#9c179e"
             ],
             [
              0.4444444444444444,
              "#bd3786"
             ],
             [
              0.5555555555555556,
              "#d8576b"
             ],
             [
              0.6666666666666666,
              "#ed7953"
             ],
             [
              0.7777777777777778,
              "#fb9f3a"
             ],
             [
              0.8888888888888888,
              "#fdca26"
             ],
             [
              1,
              "#f0f921"
             ]
            ],
            "type": "histogram2dcontour"
           }
          ],
          "mesh3d": [
           {
            "colorbar": {
             "outlinewidth": 0,
             "ticks": ""
            },
            "type": "mesh3d"
           }
          ],
          "parcoords": [
           {
            "line": {
             "colorbar": {
              "outlinewidth": 0,
              "ticks": ""
             }
            },
            "type": "parcoords"
           }
          ],
          "pie": [
           {
            "automargin": true,
            "type": "pie"
           }
          ],
          "scatter": [
           {
            "marker": {
             "colorbar": {
              "outlinewidth": 0,
              "ticks": ""
             }
            },
            "type": "scatter"
           }
          ],
          "scatter3d": [
           {
            "line": {
             "colorbar": {
              "outlinewidth": 0,
              "ticks": ""
             }
            },
            "marker": {
             "colorbar": {
              "outlinewidth": 0,
              "ticks": ""
             }
            },
            "type": "scatter3d"
           }
          ],
          "scattercarpet": [
           {
            "marker": {
             "colorbar": {
              "outlinewidth": 0,
              "ticks": ""
             }
            },
            "type": "scattercarpet"
           }
          ],
          "scattergeo": [
           {
            "marker": {
             "colorbar": {
              "outlinewidth": 0,
              "ticks": ""
             }
            },
            "type": "scattergeo"
           }
          ],
          "scattergl": [
           {
            "marker": {
             "colorbar": {
              "outlinewidth": 0,
              "ticks": ""
             }
            },
            "type": "scattergl"
           }
          ],
          "scattermapbox": [
           {
            "marker": {
             "colorbar": {
              "outlinewidth": 0,
              "ticks": ""
             }
            },
            "type": "scattermapbox"
           }
          ],
          "scatterpolar": [
           {
            "marker": {
             "colorbar": {
              "outlinewidth": 0,
              "ticks": ""
             }
            },
            "type": "scatterpolar"
           }
          ],
          "scatterpolargl": [
           {
            "marker": {
             "colorbar": {
              "outlinewidth": 0,
              "ticks": ""
             }
            },
            "type": "scatterpolargl"
           }
          ],
          "scatterternary": [
           {
            "marker": {
             "colorbar": {
              "outlinewidth": 0,
              "ticks": ""
             }
            },
            "type": "scatterternary"
           }
          ],
          "surface": [
           {
            "colorbar": {
             "outlinewidth": 0,
             "ticks": ""
            },
            "colorscale": [
             [
              0,
              "#0d0887"
             ],
             [
              0.1111111111111111,
              "#46039f"
             ],
             [
              0.2222222222222222,
              "#7201a8"
             ],
             [
              0.3333333333333333,
              "#9c179e"
             ],
             [
              0.4444444444444444,
              "#bd3786"
             ],
             [
              0.5555555555555556,
              "#d8576b"
             ],
             [
              0.6666666666666666,
              "#ed7953"
             ],
             [
              0.7777777777777778,
              "#fb9f3a"
             ],
             [
              0.8888888888888888,
              "#fdca26"
             ],
             [
              1,
              "#f0f921"
             ]
            ],
            "type": "surface"
           }
          ],
          "table": [
           {
            "cells": {
             "fill": {
              "color": "#EBF0F8"
             },
             "line": {
              "color": "white"
             }
            },
            "header": {
             "fill": {
              "color": "#C8D4E3"
             },
             "line": {
              "color": "white"
             }
            },
            "type": "table"
           }
          ]
         },
         "layout": {
          "annotationdefaults": {
           "arrowcolor": "#2a3f5f",
           "arrowhead": 0,
           "arrowwidth": 1
          },
          "coloraxis": {
           "colorbar": {
            "outlinewidth": 0,
            "ticks": ""
           }
          },
          "colorscale": {
           "diverging": [
            [
             0,
             "#8e0152"
            ],
            [
             0.1,
             "#c51b7d"
            ],
            [
             0.2,
             "#de77ae"
            ],
            [
             0.3,
             "#f1b6da"
            ],
            [
             0.4,
             "#fde0ef"
            ],
            [
             0.5,
             "#f7f7f7"
            ],
            [
             0.6,
             "#e6f5d0"
            ],
            [
             0.7,
             "#b8e186"
            ],
            [
             0.8,
             "#7fbc41"
            ],
            [
             0.9,
             "#4d9221"
            ],
            [
             1,
             "#276419"
            ]
           ],
           "sequential": [
            [
             0,
             "#0d0887"
            ],
            [
             0.1111111111111111,
             "#46039f"
            ],
            [
             0.2222222222222222,
             "#7201a8"
            ],
            [
             0.3333333333333333,
             "#9c179e"
            ],
            [
             0.4444444444444444,
             "#bd3786"
            ],
            [
             0.5555555555555556,
             "#d8576b"
            ],
            [
             0.6666666666666666,
             "#ed7953"
            ],
            [
             0.7777777777777778,
             "#fb9f3a"
            ],
            [
             0.8888888888888888,
             "#fdca26"
            ],
            [
             1,
             "#f0f921"
            ]
           ],
           "sequentialminus": [
            [
             0,
             "#0d0887"
            ],
            [
             0.1111111111111111,
             "#46039f"
            ],
            [
             0.2222222222222222,
             "#7201a8"
            ],
            [
             0.3333333333333333,
             "#9c179e"
            ],
            [
             0.4444444444444444,
             "#bd3786"
            ],
            [
             0.5555555555555556,
             "#d8576b"
            ],
            [
             0.6666666666666666,
             "#ed7953"
            ],
            [
             0.7777777777777778,
             "#fb9f3a"
            ],
            [
             0.8888888888888888,
             "#fdca26"
            ],
            [
             1,
             "#f0f921"
            ]
           ]
          },
          "colorway": [
           "#636efa",
           "#EF553B",
           "#00cc96",
           "#ab63fa",
           "#FFA15A",
           "#19d3f3",
           "#FF6692",
           "#B6E880",
           "#FF97FF",
           "#FECB52"
          ],
          "font": {
           "color": "#2a3f5f"
          },
          "geo": {
           "bgcolor": "white",
           "lakecolor": "white",
           "landcolor": "#E5ECF6",
           "showlakes": true,
           "showland": true,
           "subunitcolor": "white"
          },
          "hoverlabel": {
           "align": "left"
          },
          "hovermode": "closest",
          "mapbox": {
           "style": "light"
          },
          "paper_bgcolor": "white",
          "plot_bgcolor": "#E5ECF6",
          "polar": {
           "angularaxis": {
            "gridcolor": "white",
            "linecolor": "white",
            "ticks": ""
           },
           "bgcolor": "#E5ECF6",
           "radialaxis": {
            "gridcolor": "white",
            "linecolor": "white",
            "ticks": ""
           }
          },
          "scene": {
           "xaxis": {
            "backgroundcolor": "#E5ECF6",
            "gridcolor": "white",
            "gridwidth": 2,
            "linecolor": "white",
            "showbackground": true,
            "ticks": "",
            "zerolinecolor": "white"
           },
           "yaxis": {
            "backgroundcolor": "#E5ECF6",
            "gridcolor": "white",
            "gridwidth": 2,
            "linecolor": "white",
            "showbackground": true,
            "ticks": "",
            "zerolinecolor": "white"
           },
           "zaxis": {
            "backgroundcolor": "#E5ECF6",
            "gridcolor": "white",
            "gridwidth": 2,
            "linecolor": "white",
            "showbackground": true,
            "ticks": "",
            "zerolinecolor": "white"
           }
          },
          "shapedefaults": {
           "line": {
            "color": "#2a3f5f"
           }
          },
          "ternary": {
           "aaxis": {
            "gridcolor": "white",
            "linecolor": "white",
            "ticks": ""
           },
           "baxis": {
            "gridcolor": "white",
            "linecolor": "white",
            "ticks": ""
           },
           "bgcolor": "#E5ECF6",
           "caxis": {
            "gridcolor": "white",
            "linecolor": "white",
            "ticks": ""
           }
          },
          "title": {
           "x": 0.05
          },
          "xaxis": {
           "automargin": true,
           "gridcolor": "white",
           "linecolor": "white",
           "ticks": "",
           "title": {
            "standoff": 15
           },
           "zerolinecolor": "white",
           "zerolinewidth": 2
          },
          "yaxis": {
           "automargin": true,
           "gridcolor": "white",
           "linecolor": "white",
           "ticks": "",
           "title": {
            "standoff": 15
           },
           "zerolinecolor": "white",
           "zerolinewidth": 2
          }
         }
        },
        "title": {
         "text": "Зависимость среднего убытка от пола и возраста"
        },
        "xaxis": {
         "anchor": "y",
         "domain": [
          0,
          1
         ],
         "title": {
          "text": "DrivAge"
         }
        },
        "yaxis": {
         "anchor": "x",
         "domain": [
          0,
          1
         ],
         "title": {
          "text": "AvgClaim"
         }
        }
       }
      },
      "text/html": [
       "<div>\n",
       "        \n",
       "        \n",
       "            <div id=\"1cf0ac07-1e3f-4d82-b70b-b4997ab7aece\" class=\"plotly-graph-div\" style=\"height:525px; width:100%;\"></div>\n",
       "            <script type=\"text/javascript\">\n",
       "                require([\"plotly\"], function(Plotly) {\n",
       "                    window.PLOTLYENV=window.PLOTLYENV || {};\n",
       "                    \n",
       "                if (document.getElementById(\"1cf0ac07-1e3f-4d82-b70b-b4997ab7aece\")) {\n",
       "                    Plotly.newPlot(\n",
       "                        '1cf0ac07-1e3f-4d82-b70b-b4997ab7aece',\n",
       "                        [{\"hovertemplate\": \"VehUsage=Private<br>DrivAge=%{x}<br>AvgClaim=%{y}<extra></extra>\", \"legendgroup\": \"Private\", \"line\": {\"color\": \"#636efa\", \"dash\": \"solid\"}, \"mode\": \"lines\", \"name\": \"Private\", \"orientation\": \"v\", \"showlegend\": true, \"type\": \"scatter\", \"x\": [20, 21, 22, 23, 24, 25, 26, 27, 28, 29, 30, 31, 32, 33, 34, 35, 36, 37, 38, 39, 40, 41, 42, 43, 44, 45, 46, 47, 48, 49, 50, 51, 52, 53, 54, 55, 56, 57, 58, 59, 60, 61, 62, 63, 64, 65, 66, 67, 68, 69, 70, 71, 72, 73, 74, 75, 76, 77, 78, 79, 80, 81, 82, 83, 84, 85, 86, 87, 88, 89, 90, 91, 92, 93, 94, 95, 96, 97], \"xaxis\": \"x\", \"y\": [19039.0223564955, 3575.1040785498467, 3456.128549848947, 1682.0703927492439, 1173.1743957703927, 2606.9958975989834, 2295.194864048339, 1625.578608322776, 2349.6722736575375, 2101.1436555891237, 4387.906495468274, 1376.92158659, 901.0010574018123, 1483.9075830815705, 1126.7007049345416, 1409.1018126888218, 1023.2780463242691, 3096.329003021148, 3183.8839375629414, 2259.868634009494, 1000.1057099697879, 1514.2961631419944, 2253.7070466236614, 2259.94898681011, 972.3271450151057, 1884.3051480362537, 2215.8278377211896, 2492.5543938000774, 2733.9453172205403, 2889.7059818731123, 1761.733065670218, 1857.769412417536, 1062.4345509475415, 2733.7966978149343, 1571.2391980225202, 1316.5424310599733, 1531.2602169733593, 1275.2186447993085, 1947.167657815231, 1304.1194864048339, 2025.6956330678388, 1552.397298738227, 1303.4319871755351, 1770.5026893612423, 1208.0562127553414, 1465.2005204750087, 1869.592209100064, 1695.8501155144822, 1861.7180429674388, 1636.1852244783245, 1450.2083208968804, 1922.346248444997, 1750.6556322831239, 2000.2858851963729, 2014.982750877765, 2164.1988735433742, 1666.5702337414525, 2476.2736336171374, 1686.0251098599283, 1978.4594594594587, 1670.1907992309787, 1165.0772809667674, 2147.950668968494, 3180.237522658608, 2930.1628043362334, 3560.8094087181703, 2763.3279154078564, 5691.14695727233, 3507.706344410873, 1276.3015105740162, 1553.419486404835, 334.73429003021147, 210.623564954683, null, 12440.1163141994, null, null, null], \"yaxis\": \"y\"}, {\"hovertemplate\": \"VehUsage=Private+trip to office<br>DrivAge=%{x}<br>AvgClaim=%{y}<extra></extra>\", \"legendgroup\": \"Private+trip to office\", \"line\": {\"color\": \"#EF553B\", \"dash\": \"solid\"}, \"mode\": \"lines\", \"name\": \"Private+trip to office\", \"orientation\": \"v\", \"showlegend\": true, \"type\": \"scatter\", \"x\": [20, 21, 22, 23, 24, 25, 26, 27, 28, 29, 30, 31, 32, 33, 34, 35, 36, 37, 38, 39, 40, 41, 42, 43, 44, 45, 46, 47, 48, 49, 50, 51, 52, 53, 54, 55, 56, 57, 58, 59, 60, 61, 62, 63, 64, 65, 66, 67, 68, 69, 70, 71, 72, 73, 74, 75, 76, 77, 78, 79, 80, 81, 82, 83, 84, 85, 86, 88, 89, 90, 97, 98, 99], \"xaxis\": \"x\", \"y\": [4809.142061094329, 1486.8390412130186, 2431.8444108761328, 1609.9983959884134, 2105.954691018951, 3029.8448097620835, 1690.0049093655584, 2277.464159438649, 2551.277455395312, 2060.6106955208193, 2139.0452787695694, 1637.0335201247447, 1584.9676824476526, 1941.073443134197, 2275.80854143562, 1780.2321050927924, 1974.8005017263695, 1491.4241129284294, 2970.7632848118656, 1808.884603545575, 7480.995057857834, 1983.3839609752351, 1541.843987915407, 1435.5100100704938, 1633.4619194828906, 2156.529446551394, 2096.0775400405587, 1550.2801925981869, 1784.4543491396278, 1466.2283002758438, 2685.7879067138997, 1526.248973426228, 1481.2869794080013, 1489.3961536121983, 1957.8111358779754, 1987.7678310674726, 2053.653962846306, 2017.3520583012373, 1723.2873185469007, 1920.1722569349074, 2985.655468277944, 1960.763978079112, 3817.7583081571, 2178.2051004087425, 677.2471573743475, 2466.0654380664664, 2037.0106495468272, 2068.688260681915, 1215.5805135951664, 2265.9164954682783, 3441.0754531722, 1888.65649546828, 1381.75468277946, 2184.082477341388, 2452.1358006042296, null, 467.57583081571, 3822.5478851963762, 1445.321148036255, null, null, 3593.09003021148, 153.90271903323298, null, 80.3211480362538, null, null, null, null, null, null, null, null], \"yaxis\": \"y\"}, {\"hovertemplate\": \"VehUsage=Professional<br>DrivAge=%{x}<br>AvgClaim=%{y}<extra></extra>\", \"legendgroup\": \"Professional\", \"line\": {\"color\": \"#00cc96\", \"dash\": \"solid\"}, \"mode\": \"lines\", \"name\": \"Professional\", \"orientation\": \"v\", \"showlegend\": true, \"type\": \"scatter\", \"x\": [20, 21, 22, 23, 24, 25, 26, 27, 28, 29, 30, 31, 32, 33, 34, 35, 36, 37, 38, 39, 40, 41, 42, 43, 44, 45, 46, 47, 48, 49, 50, 51, 52, 53, 54, 55, 56, 57, 58, 59, 60, 61, 62, 63, 64, 65, 66, 67, 68, 69, 70, 71, 72, 73, 74, 75, 76, 77, 78, 79, 80, 81, 82, 83, 84, 85, 86, 88, 93], \"xaxis\": \"x\", \"y\": [null, null, 1757.6746223564965, 714.6803021148037, 4520.233534743197, 653.8253776435039, 685.6498489425982, 2590.4746223564935, 768.1337361530722, 2921.232435045313, 2303.570936555893, 2755.4543927492423, 1276.5493353474312, 1835.8277945619332, 2708.1637556646524, 2016.8580870974888, 3386.781952615677, 1609.5610973241266, 4745.073800323194, 1603.0780966767354, 2535.059357008492, 1811.064357020885, 5168.701550856001, 1593.644864048338, 1278.6320365004005, 1384.6636208174195, 1223.457099697885, 1808.820471299093, 2095.39577039275, 1397.262386706949, 1759.4651963746235, 2286.659358991198, 3034.3022933260077, 1413.2381656671319, 1377.1536253776433, 2926.2797290712397, 2336.2719245989515, 1759.9957703927482, 2438.287376855378, 1492.786151057402, 2637.870845921448, 1493.6969593606857, 2090.3138972809675, 1202.883653999046, 3306.8131419939614, 2166.2736093833305, 3589.6306948640486, 3179.5044561933555, 2471.106838780556, 3188.411419939577, 294.05528700906353, 1236.97160120846, 2202.115558912386, 898.2577794561932, 72.8216012084592, 2068.56314199396, 3563.751661631418, 531.6430513595164, 1017.9117824773396, null, null, null, null, 2065.30332326284, null, null, null, null, 8428.819033232628], \"yaxis\": \"y\"}, {\"hovertemplate\": \"VehUsage=Professional run<br>DrivAge=%{x}<br>AvgClaim=%{y}<extra></extra>\", \"legendgroup\": \"Professional run\", \"line\": {\"color\": \"#ab63fa\", \"dash\": \"solid\"}, \"mode\": \"lines\", \"name\": \"Professional run\", \"orientation\": \"v\", \"showlegend\": true, \"type\": \"scatter\", \"x\": [20, 21, 22, 23, 24, 25, 26, 27, 28, 29, 30, 31, 32, 33, 34, 35, 36, 37, 38, 39, 40, 41, 42, 43, 44, 45, 46, 47, 48, 49, 50, 51, 52, 53, 54, 55, 56, 57, 58, 59, 60, 61, 62, 63, 64, 65, 66, 67, 68, 69, 70, 71, 72, 74, 75, 77, 78, 79, 80, 81, 82], \"xaxis\": \"x\", \"y\": [null, null, null, null, null, 243.47311178247702, 189.19123867069476, 617.024773413897, 1264.61329305136, 501.4327794561935, 1652.268580060424, 4480.982175226586, 350.16344410876115, 2551.574018126888, 1258.5505538771406, 1397.2038670694863, 547.4518630412888, 3811.7227341389807, 3429.2412170910598, 373.19650410012906, 1108.5753272910363, 545.8833534743196, 962.6435476909792, 1249.9794561933522, 3480.2778593008125, 1569.3052114803627, 3063.328640483384, 1123.9799999999998, 979.303549848943, 1019.9400517911088, 1499.8492749244717, 950.675528700906, 1117.246223564954, 7960.391918428992, 3538.035750251762, 1273.6322438890418, 1063.4451661631424, 1268.6578961823668, 1307.0908070781177, 1296.3113705026085, 2734.373655589123, 1422.9556495468282, 3153.067522658612, 1326.57734138973, 1716.9720543806648, 1192.65770392749, 1306.13474320242, 377.522356495468, null, null, null, null, null, null, null, null, null, null, 376.33232628398804, null, null], \"yaxis\": \"y\"}],\n",
       "                        {\"legend\": {\"title\": {\"text\": \"VehUsage\"}, \"tracegroupgap\": 0}, \"template\": {\"data\": {\"bar\": [{\"error_x\": {\"color\": \"#2a3f5f\"}, \"error_y\": {\"color\": \"#2a3f5f\"}, \"marker\": {\"line\": {\"color\": \"#E5ECF6\", \"width\": 0.5}}, \"type\": \"bar\"}], \"barpolar\": [{\"marker\": {\"line\": {\"color\": \"#E5ECF6\", \"width\": 0.5}}, \"type\": \"barpolar\"}], \"carpet\": [{\"aaxis\": {\"endlinecolor\": \"#2a3f5f\", \"gridcolor\": \"white\", \"linecolor\": \"white\", \"minorgridcolor\": \"white\", \"startlinecolor\": \"#2a3f5f\"}, \"baxis\": {\"endlinecolor\": \"#2a3f5f\", \"gridcolor\": \"white\", \"linecolor\": \"white\", \"minorgridcolor\": \"white\", \"startlinecolor\": \"#2a3f5f\"}, \"type\": \"carpet\"}], \"choropleth\": [{\"colorbar\": {\"outlinewidth\": 0, \"ticks\": \"\"}, \"type\": \"choropleth\"}], \"contour\": [{\"colorbar\": {\"outlinewidth\": 0, \"ticks\": \"\"}, \"colorscale\": [[0.0, \"#0d0887\"], [0.1111111111111111, \"#46039f\"], [0.2222222222222222, \"#7201a8\"], [0.3333333333333333, \"#9c179e\"], [0.4444444444444444, \"#bd3786\"], [0.5555555555555556, \"#d8576b\"], [0.6666666666666666, \"#ed7953\"], [0.7777777777777778, \"#fb9f3a\"], [0.8888888888888888, \"#fdca26\"], [1.0, \"#f0f921\"]], \"type\": \"contour\"}], \"contourcarpet\": [{\"colorbar\": {\"outlinewidth\": 0, \"ticks\": \"\"}, \"type\": \"contourcarpet\"}], \"heatmap\": [{\"colorbar\": {\"outlinewidth\": 0, \"ticks\": \"\"}, \"colorscale\": [[0.0, \"#0d0887\"], [0.1111111111111111, \"#46039f\"], [0.2222222222222222, \"#7201a8\"], [0.3333333333333333, \"#9c179e\"], [0.4444444444444444, \"#bd3786\"], [0.5555555555555556, \"#d8576b\"], [0.6666666666666666, \"#ed7953\"], [0.7777777777777778, \"#fb9f3a\"], [0.8888888888888888, \"#fdca26\"], [1.0, \"#f0f921\"]], \"type\": \"heatmap\"}], \"heatmapgl\": [{\"colorbar\": {\"outlinewidth\": 0, \"ticks\": \"\"}, \"colorscale\": [[0.0, \"#0d0887\"], [0.1111111111111111, \"#46039f\"], [0.2222222222222222, \"#7201a8\"], [0.3333333333333333, \"#9c179e\"], [0.4444444444444444, \"#bd3786\"], [0.5555555555555556, \"#d8576b\"], [0.6666666666666666, \"#ed7953\"], [0.7777777777777778, \"#fb9f3a\"], [0.8888888888888888, \"#fdca26\"], [1.0, \"#f0f921\"]], \"type\": \"heatmapgl\"}], \"histogram\": [{\"marker\": {\"colorbar\": {\"outlinewidth\": 0, \"ticks\": \"\"}}, \"type\": \"histogram\"}], \"histogram2d\": [{\"colorbar\": {\"outlinewidth\": 0, \"ticks\": \"\"}, \"colorscale\": [[0.0, \"#0d0887\"], [0.1111111111111111, \"#46039f\"], [0.2222222222222222, \"#7201a8\"], [0.3333333333333333, \"#9c179e\"], [0.4444444444444444, \"#bd3786\"], [0.5555555555555556, \"#d8576b\"], [0.6666666666666666, \"#ed7953\"], [0.7777777777777778, \"#fb9f3a\"], [0.8888888888888888, \"#fdca26\"], [1.0, \"#f0f921\"]], \"type\": \"histogram2d\"}], \"histogram2dcontour\": [{\"colorbar\": {\"outlinewidth\": 0, \"ticks\": \"\"}, \"colorscale\": [[0.0, \"#0d0887\"], [0.1111111111111111, \"#46039f\"], [0.2222222222222222, \"#7201a8\"], [0.3333333333333333, \"#9c179e\"], [0.4444444444444444, \"#bd3786\"], [0.5555555555555556, \"#d8576b\"], [0.6666666666666666, \"#ed7953\"], [0.7777777777777778, \"#fb9f3a\"], [0.8888888888888888, \"#fdca26\"], [1.0, \"#f0f921\"]], \"type\": \"histogram2dcontour\"}], \"mesh3d\": [{\"colorbar\": {\"outlinewidth\": 0, \"ticks\": \"\"}, \"type\": \"mesh3d\"}], \"parcoords\": [{\"line\": {\"colorbar\": {\"outlinewidth\": 0, \"ticks\": \"\"}}, \"type\": \"parcoords\"}], \"pie\": [{\"automargin\": true, \"type\": \"pie\"}], \"scatter\": [{\"marker\": {\"colorbar\": {\"outlinewidth\": 0, \"ticks\": \"\"}}, \"type\": \"scatter\"}], \"scatter3d\": [{\"line\": {\"colorbar\": {\"outlinewidth\": 0, \"ticks\": \"\"}}, \"marker\": {\"colorbar\": {\"outlinewidth\": 0, \"ticks\": \"\"}}, \"type\": \"scatter3d\"}], \"scattercarpet\": [{\"marker\": {\"colorbar\": {\"outlinewidth\": 0, \"ticks\": \"\"}}, \"type\": \"scattercarpet\"}], \"scattergeo\": [{\"marker\": {\"colorbar\": {\"outlinewidth\": 0, \"ticks\": \"\"}}, \"type\": \"scattergeo\"}], \"scattergl\": [{\"marker\": {\"colorbar\": {\"outlinewidth\": 0, \"ticks\": \"\"}}, \"type\": \"scattergl\"}], \"scattermapbox\": [{\"marker\": {\"colorbar\": {\"outlinewidth\": 0, \"ticks\": \"\"}}, \"type\": \"scattermapbox\"}], \"scatterpolar\": [{\"marker\": {\"colorbar\": {\"outlinewidth\": 0, \"ticks\": \"\"}}, \"type\": \"scatterpolar\"}], \"scatterpolargl\": [{\"marker\": {\"colorbar\": {\"outlinewidth\": 0, \"ticks\": \"\"}}, \"type\": \"scatterpolargl\"}], \"scatterternary\": [{\"marker\": {\"colorbar\": {\"outlinewidth\": 0, \"ticks\": \"\"}}, \"type\": \"scatterternary\"}], \"surface\": [{\"colorbar\": {\"outlinewidth\": 0, \"ticks\": \"\"}, \"colorscale\": [[0.0, \"#0d0887\"], [0.1111111111111111, \"#46039f\"], [0.2222222222222222, \"#7201a8\"], [0.3333333333333333, \"#9c179e\"], [0.4444444444444444, \"#bd3786\"], [0.5555555555555556, \"#d8576b\"], [0.6666666666666666, \"#ed7953\"], [0.7777777777777778, \"#fb9f3a\"], [0.8888888888888888, \"#fdca26\"], [1.0, \"#f0f921\"]], \"type\": \"surface\"}], \"table\": [{\"cells\": {\"fill\": {\"color\": \"#EBF0F8\"}, \"line\": {\"color\": \"white\"}}, \"header\": {\"fill\": {\"color\": \"#C8D4E3\"}, \"line\": {\"color\": \"white\"}}, \"type\": \"table\"}]}, \"layout\": {\"annotationdefaults\": {\"arrowcolor\": \"#2a3f5f\", \"arrowhead\": 0, \"arrowwidth\": 1}, \"coloraxis\": {\"colorbar\": {\"outlinewidth\": 0, \"ticks\": \"\"}}, \"colorscale\": {\"diverging\": [[0, \"#8e0152\"], [0.1, \"#c51b7d\"], [0.2, \"#de77ae\"], [0.3, \"#f1b6da\"], [0.4, \"#fde0ef\"], [0.5, \"#f7f7f7\"], [0.6, \"#e6f5d0\"], [0.7, \"#b8e186\"], [0.8, \"#7fbc41\"], [0.9, \"#4d9221\"], [1, \"#276419\"]], \"sequential\": [[0.0, \"#0d0887\"], [0.1111111111111111, \"#46039f\"], [0.2222222222222222, \"#7201a8\"], [0.3333333333333333, \"#9c179e\"], [0.4444444444444444, \"#bd3786\"], [0.5555555555555556, \"#d8576b\"], [0.6666666666666666, \"#ed7953\"], [0.7777777777777778, \"#fb9f3a\"], [0.8888888888888888, \"#fdca26\"], [1.0, \"#f0f921\"]], \"sequentialminus\": [[0.0, \"#0d0887\"], [0.1111111111111111, \"#46039f\"], [0.2222222222222222, \"#7201a8\"], [0.3333333333333333, \"#9c179e\"], [0.4444444444444444, \"#bd3786\"], [0.5555555555555556, \"#d8576b\"], [0.6666666666666666, \"#ed7953\"], [0.7777777777777778, \"#fb9f3a\"], [0.8888888888888888, \"#fdca26\"], [1.0, \"#f0f921\"]]}, \"colorway\": [\"#636efa\", \"#EF553B\", \"#00cc96\", \"#ab63fa\", \"#FFA15A\", \"#19d3f3\", \"#FF6692\", \"#B6E880\", \"#FF97FF\", \"#FECB52\"], \"font\": {\"color\": \"#2a3f5f\"}, \"geo\": {\"bgcolor\": \"white\", \"lakecolor\": \"white\", \"landcolor\": \"#E5ECF6\", \"showlakes\": true, \"showland\": true, \"subunitcolor\": \"white\"}, \"hoverlabel\": {\"align\": \"left\"}, \"hovermode\": \"closest\", \"mapbox\": {\"style\": \"light\"}, \"paper_bgcolor\": \"white\", \"plot_bgcolor\": \"#E5ECF6\", \"polar\": {\"angularaxis\": {\"gridcolor\": \"white\", \"linecolor\": \"white\", \"ticks\": \"\"}, \"bgcolor\": \"#E5ECF6\", \"radialaxis\": {\"gridcolor\": \"white\", \"linecolor\": \"white\", \"ticks\": \"\"}}, \"scene\": {\"xaxis\": {\"backgroundcolor\": \"#E5ECF6\", \"gridcolor\": \"white\", \"gridwidth\": 2, \"linecolor\": \"white\", \"showbackground\": true, \"ticks\": \"\", \"zerolinecolor\": \"white\"}, \"yaxis\": {\"backgroundcolor\": \"#E5ECF6\", \"gridcolor\": \"white\", \"gridwidth\": 2, \"linecolor\": \"white\", \"showbackground\": true, \"ticks\": \"\", \"zerolinecolor\": \"white\"}, \"zaxis\": {\"backgroundcolor\": \"#E5ECF6\", \"gridcolor\": \"white\", \"gridwidth\": 2, \"linecolor\": \"white\", \"showbackground\": true, \"ticks\": \"\", \"zerolinecolor\": \"white\"}}, \"shapedefaults\": {\"line\": {\"color\": \"#2a3f5f\"}}, \"ternary\": {\"aaxis\": {\"gridcolor\": \"white\", \"linecolor\": \"white\", \"ticks\": \"\"}, \"baxis\": {\"gridcolor\": \"white\", \"linecolor\": \"white\", \"ticks\": \"\"}, \"bgcolor\": \"#E5ECF6\", \"caxis\": {\"gridcolor\": \"white\", \"linecolor\": \"white\", \"ticks\": \"\"}}, \"title\": {\"x\": 0.05}, \"xaxis\": {\"automargin\": true, \"gridcolor\": \"white\", \"linecolor\": \"white\", \"ticks\": \"\", \"title\": {\"standoff\": 15}, \"zerolinecolor\": \"white\", \"zerolinewidth\": 2}, \"yaxis\": {\"automargin\": true, \"gridcolor\": \"white\", \"linecolor\": \"white\", \"ticks\": \"\", \"title\": {\"standoff\": 15}, \"zerolinecolor\": \"white\", \"zerolinewidth\": 2}}}, \"title\": {\"text\": \"\\u0417\\u0430\\u0432\\u0438\\u0441\\u0438\\u043c\\u043e\\u0441\\u0442\\u044c \\u0441\\u0440\\u0435\\u0434\\u043d\\u0435\\u0433\\u043e \\u0443\\u0431\\u044b\\u0442\\u043a\\u0430 \\u043e\\u0442 \\u043f\\u043e\\u043b\\u0430 \\u0438 \\u0432\\u043e\\u0437\\u0440\\u0430\\u0441\\u0442\\u0430\"}, \"xaxis\": {\"anchor\": \"y\", \"domain\": [0.0, 1.0], \"title\": {\"text\": \"DrivAge\"}}, \"yaxis\": {\"anchor\": \"x\", \"domain\": [0.0, 1.0], \"title\": {\"text\": \"AvgClaim\"}}},\n",
       "                        {\"responsive\": true}\n",
       "                    ).then(function(){\n",
       "                            \n",
       "var gd = document.getElementById('1cf0ac07-1e3f-4d82-b70b-b4997ab7aece');\n",
       "var x = new MutationObserver(function (mutations, observer) {{\n",
       "        var display = window.getComputedStyle(gd).display;\n",
       "        if (!display || display === 'none') {{\n",
       "            console.log([gd, 'removed!']);\n",
       "            Plotly.purge(gd);\n",
       "            observer.disconnect();\n",
       "        }}\n",
       "}});\n",
       "\n",
       "// Listen for the removal of the full notebook cells\n",
       "var notebookContainer = gd.closest('#notebook-container');\n",
       "if (notebookContainer) {{\n",
       "    x.observe(notebookContainer, {childList: true});\n",
       "}}\n",
       "\n",
       "// Listen for the clearing of the current output cell\n",
       "var outputEl = gd.closest('.output');\n",
       "if (outputEl) {{\n",
       "    x.observe(outputEl, {childList: true});\n",
       "}}\n",
       "\n",
       "                        })\n",
       "                };\n",
       "                });\n",
       "            </script>\n",
       "        </div>"
      ]
     },
     "metadata": {},
     "output_type": "display_data"
    }
   ],
   "source": [
    "fig = px.line(df_group_VehUsage_Age, x='DrivAge', y='AvgClaim', color='VehUsage', title='Зависимость среднего убытка от пола и возраста')\n",
    "fig.show()"
   ]
  },
  {
   "cell_type": "markdown",
   "metadata": {},
   "source": [
    "Видим интересную картину с пиками на графике среднего убычка. Видим, что меньше всего количества выплат и их средний размер приходиться на частные машины. Хотя на графике видны пики, и он конечно требует более тщательного анализа."
   ]
  },
  {
   "cell_type": "code",
   "execution_count": null,
   "metadata": {},
   "outputs": [],
   "source": []
  }
 ],
 "metadata": {
  "kernelspec": {
   "display_name": "Python 3",
   "language": "python",
   "name": "python3"
  },
  "language_info": {
   "codemirror_mode": {
    "name": "ipython",
    "version": 3
   },
   "file_extension": ".py",
   "mimetype": "text/x-python",
   "name": "python",
   "nbconvert_exporter": "python",
   "pygments_lexer": "ipython3",
   "version": "3.8.5"
  }
 },
 "nbformat": 4,
 "nbformat_minor": 4
}
