{
 "cells": [
  {
   "cell_type": "code",
   "execution_count": 6,
   "metadata": {},
   "outputs": [],
   "source": [
    "%matplotlib inline\n",
    "import matplotlib.pyplot as plt\n",
    "\n",
    "import pandas as pd\n",
    "import numpy as np\n",
    "\n",
    "from datapackage import Package"
   ]
  },
  {
   "cell_type": "code",
   "execution_count": 7,
   "metadata": {},
   "outputs": [],
   "source": [
    "pd.set_option('display.max_columns', None)"
   ]
  },
  {
   "cell_type": "markdown",
   "metadata": {},
   "source": [
    "# Задача 1\n",
    "\n",
    "Прочитайте базу my_PJME_MW.csv и сделайте ее перерасчет (ресемплинг) в представление по неделям."
   ]
  },
  {
   "cell_type": "markdown",
   "metadata": {},
   "source": [
    "Для этой задачи я выбрал немного другой датасет - цены на золото на Лондонской бирже"
   ]
  },
  {
   "cell_type": "markdown",
   "metadata": {},
   "source": [
    "Считываем данные с datahub"
   ]
  },
  {
   "cell_type": "code",
   "execution_count": 8,
   "metadata": {},
   "outputs": [],
   "source": [
    "package = Package('https://datahub.io/core/gold-prices/datapackage.json')"
   ]
  },
  {
   "cell_type": "markdown",
   "metadata": {},
   "source": [
    "Переводим в pandas "
   ]
  },
  {
   "cell_type": "code",
   "execution_count": 9,
   "metadata": {},
   "outputs": [],
   "source": [
    "resources = package.resources\n",
    "for resource in resources:\n",
    "    if resource.tabular:\n",
    "        df = pd.read_csv(resource.descriptor['path'], index_col=[0], parse_dates=[0])"
   ]
  },
  {
   "cell_type": "code",
   "execution_count": 10,
   "metadata": {},
   "outputs": [
    {
     "data": {
      "text/html": [
       "<div>\n",
       "<style scoped>\n",
       "    .dataframe tbody tr th:only-of-type {\n",
       "        vertical-align: middle;\n",
       "    }\n",
       "\n",
       "    .dataframe tbody tr th {\n",
       "        vertical-align: top;\n",
       "    }\n",
       "\n",
       "    .dataframe thead th {\n",
       "        text-align: right;\n",
       "    }\n",
       "</style>\n",
       "<table border=\"1\" class=\"dataframe\">\n",
       "  <thead>\n",
       "    <tr style=\"text-align: right;\">\n",
       "      <th></th>\n",
       "      <th>Price</th>\n",
       "    </tr>\n",
       "    <tr>\n",
       "      <th>Date</th>\n",
       "      <th></th>\n",
       "    </tr>\n",
       "  </thead>\n",
       "  <tbody>\n",
       "    <tr>\n",
       "      <th>1950-01-01</th>\n",
       "      <td>34.73</td>\n",
       "    </tr>\n",
       "    <tr>\n",
       "      <th>1950-02-01</th>\n",
       "      <td>34.73</td>\n",
       "    </tr>\n",
       "    <tr>\n",
       "      <th>1950-03-01</th>\n",
       "      <td>34.73</td>\n",
       "    </tr>\n",
       "    <tr>\n",
       "      <th>1950-04-01</th>\n",
       "      <td>34.73</td>\n",
       "    </tr>\n",
       "    <tr>\n",
       "      <th>1950-05-01</th>\n",
       "      <td>34.73</td>\n",
       "    </tr>\n",
       "  </tbody>\n",
       "</table>\n",
       "</div>"
      ],
      "text/plain": [
       "            Price\n",
       "Date             \n",
       "1950-01-01  34.73\n",
       "1950-02-01  34.73\n",
       "1950-03-01  34.73\n",
       "1950-04-01  34.73\n",
       "1950-05-01  34.73"
      ]
     },
     "execution_count": 10,
     "metadata": {},
     "output_type": "execute_result"
    }
   ],
   "source": [
    "df.head()"
   ]
  },
  {
   "cell_type": "markdown",
   "metadata": {},
   "source": [
    "Посмотрим на датафрейм"
   ]
  },
  {
   "cell_type": "markdown",
   "metadata": {},
   "source": [
    "Датафрейм содержит информацию о ценах на золото по месяцам "
   ]
  },
  {
   "cell_type": "markdown",
   "metadata": {},
   "source": [
    "Видим, что у данных довольно большое std, это означет большой разброс данных от среднего значения"
   ]
  },
  {
   "cell_type": "code",
   "execution_count": 11,
   "metadata": {},
   "outputs": [
    {
     "data": {
      "text/html": [
       "<div>\n",
       "<style scoped>\n",
       "    .dataframe tbody tr th:only-of-type {\n",
       "        vertical-align: middle;\n",
       "    }\n",
       "\n",
       "    .dataframe tbody tr th {\n",
       "        vertical-align: top;\n",
       "    }\n",
       "\n",
       "    .dataframe thead th {\n",
       "        text-align: right;\n",
       "    }\n",
       "</style>\n",
       "<table border=\"1\" class=\"dataframe\">\n",
       "  <thead>\n",
       "    <tr style=\"text-align: right;\">\n",
       "      <th></th>\n",
       "      <th>Price</th>\n",
       "    </tr>\n",
       "  </thead>\n",
       "  <tbody>\n",
       "    <tr>\n",
       "      <th>count</th>\n",
       "      <td>847.000000</td>\n",
       "    </tr>\n",
       "    <tr>\n",
       "      <th>mean</th>\n",
       "      <td>416.556906</td>\n",
       "    </tr>\n",
       "    <tr>\n",
       "      <th>std</th>\n",
       "      <td>453.665313</td>\n",
       "    </tr>\n",
       "    <tr>\n",
       "      <th>min</th>\n",
       "      <td>34.490000</td>\n",
       "    </tr>\n",
       "    <tr>\n",
       "      <th>25%</th>\n",
       "      <td>35.190000</td>\n",
       "    </tr>\n",
       "    <tr>\n",
       "      <th>50%</th>\n",
       "      <td>319.622000</td>\n",
       "    </tr>\n",
       "    <tr>\n",
       "      <th>75%</th>\n",
       "      <td>447.029000</td>\n",
       "    </tr>\n",
       "    <tr>\n",
       "      <th>max</th>\n",
       "      <td>1840.807000</td>\n",
       "    </tr>\n",
       "  </tbody>\n",
       "</table>\n",
       "</div>"
      ],
      "text/plain": [
       "             Price\n",
       "count   847.000000\n",
       "mean    416.556906\n",
       "std     453.665313\n",
       "min      34.490000\n",
       "25%      35.190000\n",
       "50%     319.622000\n",
       "75%     447.029000\n",
       "max    1840.807000"
      ]
     },
     "execution_count": 11,
     "metadata": {},
     "output_type": "execute_result"
    }
   ],
   "source": [
    "df.describe()"
   ]
  },
  {
   "cell_type": "markdown",
   "metadata": {},
   "source": [
    "Проверим на пропуски и значения inf"
   ]
  },
  {
   "cell_type": "code",
   "execution_count": 12,
   "metadata": {},
   "outputs": [
    {
     "data": {
      "text/plain": [
       "Price    0\n",
       "dtype: int64"
      ]
     },
     "execution_count": 12,
     "metadata": {},
     "output_type": "execute_result"
    }
   ],
   "source": [
    "df.isnull().sum()"
   ]
  },
  {
   "cell_type": "markdown",
   "metadata": {},
   "source": [
    "Проверим на уникальные значения"
   ]
  },
  {
   "cell_type": "code",
   "execution_count": 13,
   "metadata": {},
   "outputs": [
    {
     "name": "stdout",
     "output_type": "stream",
     "text": [
      "число уникальных значений:    847  : число наблюдений :  847\n"
     ]
    }
   ],
   "source": [
    "ut = df.index.unique()\n",
    "print('число уникальных значений:   ',ut.shape[0],' : число наблюдений : ', df.shape[0])"
   ]
  },
  {
   "cell_type": "markdown",
   "metadata": {},
   "source": [
    "Пропущенных значений нет"
   ]
  },
  {
   "cell_type": "markdown",
   "metadata": {},
   "source": [
    "Построим график цен. \n",
    "\n",
    "#TODO узнать в какой валюте измеряется"
   ]
  },
  {
   "cell_type": "code",
   "execution_count": 14,
   "metadata": {},
   "outputs": [
    {
     "data": {
      "image/png": "[encoded data removed]",
      "text/plain": [
       "<Figure size 1440x288 with 1 Axes>"
      ]
     },
     "metadata": {
      "needs_background": "light"
     },
     "output_type": "display_data"
    }
   ],
   "source": [
    "plt.figure(figsize =(20,4))\n",
    "plt.plot( df.index, df['Price'], 'b' )\n",
    "plt.title('Стоимость золота' )\n",
    "plt.ylabel ( 'Валюта' )\n",
    "plt.show()"
   ]
  },
  {
   "cell_type": "markdown",
   "metadata": {},
   "source": [
    "До 1972 года ничего интересного не происходило, и золото торговалось по одной цене, есть смысл обрезать данные до цен на нефть равным 250"
   ]
  },
  {
   "cell_type": "code",
   "execution_count": 15,
   "metadata": {},
   "outputs": [
    {
     "data": {
      "text/plain": [
       "352"
      ]
     },
     "execution_count": 15,
     "metadata": {},
     "output_type": "execute_result"
    }
   ],
   "source": [
    "ind_start = np.where(df.loc[:,'Price'].values>250)[0]\n",
    "ind_start[0]"
   ]
  },
  {
   "cell_type": "code",
   "execution_count": 16,
   "metadata": {},
   "outputs": [],
   "source": [
    "df = df.iloc[ind_start[0]:,:]"
   ]
  },
  {
   "cell_type": "code",
   "execution_count": 17,
   "metadata": {},
   "outputs": [
    {
     "data": {
      "text/html": [
       "<div>\n",
       "<style scoped>\n",
       "    .dataframe tbody tr th:only-of-type {\n",
       "        vertical-align: middle;\n",
       "    }\n",
       "\n",
       "    .dataframe tbody tr th {\n",
       "        vertical-align: top;\n",
       "    }\n",
       "\n",
       "    .dataframe thead th {\n",
       "        text-align: right;\n",
       "    }\n",
       "</style>\n",
       "<table border=\"1\" class=\"dataframe\">\n",
       "  <thead>\n",
       "    <tr style=\"text-align: right;\">\n",
       "      <th></th>\n",
       "      <th>Price</th>\n",
       "    </tr>\n",
       "    <tr>\n",
       "      <th>Date</th>\n",
       "      <th></th>\n",
       "    </tr>\n",
       "  </thead>\n",
       "  <tbody>\n",
       "    <tr>\n",
       "      <th>1979-05-01</th>\n",
       "      <td>257.738</td>\n",
       "    </tr>\n",
       "    <tr>\n",
       "      <th>1979-06-01</th>\n",
       "      <td>279.360</td>\n",
       "    </tr>\n",
       "    <tr>\n",
       "      <th>1979-07-01</th>\n",
       "      <td>295.009</td>\n",
       "    </tr>\n",
       "    <tr>\n",
       "      <th>1979-08-01</th>\n",
       "      <td>300.793</td>\n",
       "    </tr>\n",
       "    <tr>\n",
       "      <th>1979-09-01</th>\n",
       "      <td>354.498</td>\n",
       "    </tr>\n",
       "  </tbody>\n",
       "</table>\n",
       "</div>"
      ],
      "text/plain": [
       "              Price\n",
       "Date               \n",
       "1979-05-01  257.738\n",
       "1979-06-01  279.360\n",
       "1979-07-01  295.009\n",
       "1979-08-01  300.793\n",
       "1979-09-01  354.498"
      ]
     },
     "execution_count": 17,
     "metadata": {},
     "output_type": "execute_result"
    }
   ],
   "source": [
    "df.head()"
   ]
  },
  {
   "cell_type": "code",
   "execution_count": 18,
   "metadata": {},
   "outputs": [
    {
     "data": {
      "text/plain": [
       "(495, 1)"
      ]
     },
     "execution_count": 18,
     "metadata": {},
     "output_type": "execute_result"
    }
   ],
   "source": [
    "df.shape"
   ]
  },
  {
   "cell_type": "code",
   "execution_count": 19,
   "metadata": {},
   "outputs": [
    {
     "data": {
      "image/png": "[encoded data removed]",
      "text/plain": [
       "<Figure size 1440x288 with 1 Axes>"
      ]
     },
     "metadata": {
      "needs_background": "light"
     },
     "output_type": "display_data"
    }
   ],
   "source": [
    "plt.figure(figsize =(20,4))\n",
    "plt.plot(df.index, df['Price'], 'b' )\n",
    "plt.title('Стоимость золота' )\n",
    "plt.ylabel ( 'Валюта' )\n",
    "plt.show()"
   ]
  },
  {
   "cell_type": "markdown",
   "metadata": {},
   "source": [
    "Данные уже предоставлены по месяцам, и особого смысла ресемпл делать не нужно"
   ]
  },
  {
   "cell_type": "code",
   "execution_count": 20,
   "metadata": {},
   "outputs": [],
   "source": [
    "df = df.resample('M').mean()"
   ]
  },
  {
   "cell_type": "code",
   "execution_count": 21,
   "metadata": {},
   "outputs": [
    {
     "data": {
      "text/html": [
       "<div>\n",
       "<style scoped>\n",
       "    .dataframe tbody tr th:only-of-type {\n",
       "        vertical-align: middle;\n",
       "    }\n",
       "\n",
       "    .dataframe tbody tr th {\n",
       "        vertical-align: top;\n",
       "    }\n",
       "\n",
       "    .dataframe thead th {\n",
       "        text-align: right;\n",
       "    }\n",
       "</style>\n",
       "<table border=\"1\" class=\"dataframe\">\n",
       "  <thead>\n",
       "    <tr style=\"text-align: right;\">\n",
       "      <th></th>\n",
       "      <th>Price</th>\n",
       "    </tr>\n",
       "    <tr>\n",
       "      <th>Date</th>\n",
       "      <th></th>\n",
       "    </tr>\n",
       "  </thead>\n",
       "  <tbody>\n",
       "    <tr>\n",
       "      <th>1979-05-31</th>\n",
       "      <td>257.738</td>\n",
       "    </tr>\n",
       "    <tr>\n",
       "      <th>1979-06-30</th>\n",
       "      <td>279.360</td>\n",
       "    </tr>\n",
       "    <tr>\n",
       "      <th>1979-07-31</th>\n",
       "      <td>295.009</td>\n",
       "    </tr>\n",
       "    <tr>\n",
       "      <th>1979-08-31</th>\n",
       "      <td>300.793</td>\n",
       "    </tr>\n",
       "    <tr>\n",
       "      <th>1979-09-30</th>\n",
       "      <td>354.498</td>\n",
       "    </tr>\n",
       "  </tbody>\n",
       "</table>\n",
       "</div>"
      ],
      "text/plain": [
       "              Price\n",
       "Date               \n",
       "1979-05-31  257.738\n",
       "1979-06-30  279.360\n",
       "1979-07-31  295.009\n",
       "1979-08-31  300.793\n",
       "1979-09-30  354.498"
      ]
     },
     "execution_count": 21,
     "metadata": {},
     "output_type": "execute_result"
    }
   ],
   "source": [
    "df.head()"
   ]
  },
  {
   "cell_type": "markdown",
   "metadata": {},
   "source": [
    "Создадим календарные фичи"
   ]
  },
  {
   "cell_type": "code",
   "execution_count": 22,
   "metadata": {},
   "outputs": [],
   "source": [
    "df['date'] = df.index"
   ]
  },
  {
   "cell_type": "code",
   "execution_count": 23,
   "metadata": {},
   "outputs": [],
   "source": [
    "df['year'] = df['date'].dt.year\n",
    "df['month'] = df['date'].dt.month\n",
    "df['dayofmonth'] = df['date'].dt.day\n",
    "df['quarter'] = df['date'].dt.quarter\n",
    "df['dayofyear'] = df['date'].dt.dayofyear\n",
    "df['weekofyear'] = df['date'].dt.isocalendar().week\n",
    "df['dayofweek'] = df['date'].dt.dayofweek"
   ]
  },
  {
   "cell_type": "markdown",
   "metadata": {},
   "source": [
    "После генерации фич дата, как фича, нам больше не нужна "
   ]
  },
  {
   "cell_type": "code",
   "execution_count": 24,
   "metadata": {},
   "outputs": [],
   "source": [
    "df.drop(['date'], inplace = True, axis = 1)"
   ]
  },
  {
   "cell_type": "markdown",
   "metadata": {},
   "source": [
    "Импортируем библиотеки"
   ]
  },
  {
   "cell_type": "code",
   "execution_count": 25,
   "metadata": {},
   "outputs": [],
   "source": [
    "from sklearn.cluster import KMeans, DBSCAN, Birch\n",
    "from sklearn.preprocessing import StandardScaler\n",
    "from sklearn.manifold import TSNE \n",
    "\n",
    "import seaborn as sns\n",
    "import umap"
   ]
  },
  {
   "cell_type": "markdown",
   "metadata": {},
   "source": [
    "Нормируем данные \n",
    "\n",
    "$$z = \\frac{x - \\mu}{std}$$"
   ]
  },
  {
   "cell_type": "code",
   "execution_count": 26,
   "metadata": {},
   "outputs": [],
   "source": [
    "scl=StandardScaler()\n",
    "Xscale = scl.fit_transform(df)"
   ]
  },
  {
   "cell_type": "markdown",
   "metadata": {},
   "source": [
    "Список разных метрик для UMAP, выберу ту, которая лучше выглядит\n",
    "\n",
    "Проверил много разных метрик, но решил остановится на простом манхетонском расстоянии "
   ]
  },
  {
   "cell_type": "markdown",
   "metadata": {},
   "source": [
    "Вместо t-sne я решил использовать umap, не забыв указать случайное зернышко. функция которая сохраняет картинки получившиеся после umap"
   ]
  },
  {
   "cell_type": "markdown",
   "metadata": {},
   "source": [
    "Попробовал вместо DBSCAN  применить Birch, с n_clusters = 4, он дал результат лучше "
   ]
  },
  {
   "cell_type": "code",
   "execution_count": 27,
   "metadata": {},
   "outputs": [],
   "source": [
    "def umap_metrics(X , metrics, n = 15, n_clusters = 4):\n",
    "    for metric in metrics:\n",
    "        brc = Birch(n_clusters=n_clusters)\n",
    "        dbscan = DBSCAN(eps=2, leaf_size=5)\n",
    "        df = umap.UMAP(n_neighbors=n, metric=metric, random_state =42).fit_transform(X)\n",
    "        X_brc =brc.fit_predict(df)\n",
    "        X_dbs =dbscan.fit_predict(df)\n",
    "        plt.figure(figsize = (16,9))\n",
    "        ax = sns.scatterplot(x=df[:,0], y=df[:,1],  hue=X_brc)\n",
    "        plt.title(\"Umap | metric -\"+ metric +\"  | n -\"+ str(n))\n",
    "        \n",
    "    return X_brc, X_dbs"
   ]
  },
  {
   "cell_type": "code",
   "execution_count": 28,
   "metadata": {},
   "outputs": [
    {
     "data": {
      "image/png": "[encoded data removed]",
      "text/plain": [
       "<Figure size 1152x648 with 1 Axes>"
      ]
     },
     "metadata": {
      "needs_background": "light"
     },
     "output_type": "display_data"
    }
   ],
   "source": [
    "X_brc, X_dbs = umap_metrics(df, ['manhattan'], n = 16, n_clusters = 3)"
   ]
  },
  {
   "cell_type": "code",
   "execution_count": 29,
   "metadata": {},
   "outputs": [
    {
     "name": "stdout",
     "output_type": "stream",
     "text": [
      "Число кластеров DBSCAN в календаре с масштабированием:  3\n",
      "Число кластеров BIRCH в календаре:  3\n"
     ]
    }
   ],
   "source": [
    "print('Число кластеров DBSCAN в календаре с масштабированием: ',len(np.unique(X_dbs)))\n",
    "print('Число кластеров BIRCH в календаре: ',len(np.unique(X_brc)))"
   ]
  },
  {
   "cell_type": "code",
   "execution_count": 30,
   "metadata": {},
   "outputs": [],
   "source": [
    "df['c_DBSCAN'] = X_dbs\n",
    "df['c_BIRCH'] = X_brc"
   ]
  },
  {
   "cell_type": "code",
   "execution_count": 31,
   "metadata": {},
   "outputs": [
    {
     "data": {
      "text/html": [
       "<div>\n",
       "<style scoped>\n",
       "    .dataframe tbody tr th:only-of-type {\n",
       "        vertical-align: middle;\n",
       "    }\n",
       "\n",
       "    .dataframe tbody tr th {\n",
       "        vertical-align: top;\n",
       "    }\n",
       "\n",
       "    .dataframe thead th {\n",
       "        text-align: right;\n",
       "    }\n",
       "</style>\n",
       "<table border=\"1\" class=\"dataframe\">\n",
       "  <thead>\n",
       "    <tr style=\"text-align: right;\">\n",
       "      <th></th>\n",
       "      <th>Price</th>\n",
       "      <th>year</th>\n",
       "      <th>month</th>\n",
       "      <th>dayofmonth</th>\n",
       "      <th>quarter</th>\n",
       "      <th>dayofyear</th>\n",
       "      <th>weekofyear</th>\n",
       "      <th>dayofweek</th>\n",
       "      <th>c_DBSCAN</th>\n",
       "      <th>c_BIRCH</th>\n",
       "    </tr>\n",
       "    <tr>\n",
       "      <th>Date</th>\n",
       "      <th></th>\n",
       "      <th></th>\n",
       "      <th></th>\n",
       "      <th></th>\n",
       "      <th></th>\n",
       "      <th></th>\n",
       "      <th></th>\n",
       "      <th></th>\n",
       "      <th></th>\n",
       "      <th></th>\n",
       "    </tr>\n",
       "  </thead>\n",
       "  <tbody>\n",
       "    <tr>\n",
       "      <th>1979-05-31</th>\n",
       "      <td>257.738</td>\n",
       "      <td>1979</td>\n",
       "      <td>5</td>\n",
       "      <td>31</td>\n",
       "      <td>2</td>\n",
       "      <td>151</td>\n",
       "      <td>22</td>\n",
       "      <td>3</td>\n",
       "      <td>0</td>\n",
       "      <td>0</td>\n",
       "    </tr>\n",
       "    <tr>\n",
       "      <th>1979-06-30</th>\n",
       "      <td>279.360</td>\n",
       "      <td>1979</td>\n",
       "      <td>6</td>\n",
       "      <td>30</td>\n",
       "      <td>2</td>\n",
       "      <td>181</td>\n",
       "      <td>26</td>\n",
       "      <td>5</td>\n",
       "      <td>0</td>\n",
       "      <td>0</td>\n",
       "    </tr>\n",
       "    <tr>\n",
       "      <th>1979-07-31</th>\n",
       "      <td>295.009</td>\n",
       "      <td>1979</td>\n",
       "      <td>7</td>\n",
       "      <td>31</td>\n",
       "      <td>3</td>\n",
       "      <td>212</td>\n",
       "      <td>31</td>\n",
       "      <td>1</td>\n",
       "      <td>1</td>\n",
       "      <td>2</td>\n",
       "    </tr>\n",
       "    <tr>\n",
       "      <th>1979-08-31</th>\n",
       "      <td>300.793</td>\n",
       "      <td>1979</td>\n",
       "      <td>8</td>\n",
       "      <td>31</td>\n",
       "      <td>3</td>\n",
       "      <td>243</td>\n",
       "      <td>35</td>\n",
       "      <td>4</td>\n",
       "      <td>1</td>\n",
       "      <td>2</td>\n",
       "    </tr>\n",
       "    <tr>\n",
       "      <th>1979-09-30</th>\n",
       "      <td>354.498</td>\n",
       "      <td>1979</td>\n",
       "      <td>9</td>\n",
       "      <td>30</td>\n",
       "      <td>3</td>\n",
       "      <td>273</td>\n",
       "      <td>39</td>\n",
       "      <td>6</td>\n",
       "      <td>1</td>\n",
       "      <td>2</td>\n",
       "    </tr>\n",
       "  </tbody>\n",
       "</table>\n",
       "</div>"
      ],
      "text/plain": [
       "              Price  year  month  dayofmonth  quarter  dayofyear  weekofyear  \\\n",
       "Date                                                                           \n",
       "1979-05-31  257.738  1979      5          31        2        151          22   \n",
       "1979-06-30  279.360  1979      6          30        2        181          26   \n",
       "1979-07-31  295.009  1979      7          31        3        212          31   \n",
       "1979-08-31  300.793  1979      8          31        3        243          35   \n",
       "1979-09-30  354.498  1979      9          30        3        273          39   \n",
       "\n",
       "            dayofweek  c_DBSCAN  c_BIRCH  \n",
       "Date                                      \n",
       "1979-05-31          3         0        0  \n",
       "1979-06-30          5         0        0  \n",
       "1979-07-31          1         1        2  \n",
       "1979-08-31          4         1        2  \n",
       "1979-09-30          6         1        2  "
      ]
     },
     "execution_count": 31,
     "metadata": {},
     "output_type": "execute_result"
    }
   ],
   "source": [
    "df.head()"
   ]
  },
  {
   "cell_type": "markdown",
   "metadata": {},
   "source": [
    "Тут беру из методички "
   ]
  },
  {
   "cell_type": "markdown",
   "metadata": {},
   "source": [
    "Дополнительные фичи можно получить применив алгоритм PCA "
   ]
  },
  {
   "cell_type": "code",
   "execution_count": 32,
   "metadata": {},
   "outputs": [],
   "source": [
    "from sklearn.decomposition import PCA"
   ]
  },
  {
   "cell_type": "code",
   "execution_count": 33,
   "metadata": {},
   "outputs": [
    {
     "data": {
      "text/plain": [
       "(495, 2)"
      ]
     },
     "execution_count": 33,
     "metadata": {},
     "output_type": "execute_result"
    }
   ],
   "source": [
    "pca = PCA(n_components=2, svd_solver='full')\n",
    "Xpca=pca.fit_transform(Xscale[:,1:])\n",
    "Xpca.shape"
   ]
  },
  {
   "cell_type": "code",
   "execution_count": 34,
   "metadata": {},
   "outputs": [],
   "source": [
    "df['pca1']=Xpca[:,0]\n",
    "df['pca2']=Xpca[:,1]"
   ]
  },
  {
   "cell_type": "markdown",
   "metadata": {},
   "source": [
    "Добавим новых признаков, описывающих содержание ряда. К таким признакам можно отнести разности ряда и разнообразные варианты сглаживания. Добавим к нашей модели 1-е разности. При этом следует помнить, что такие операции уменьшают общую длину корректной выборки на 1, т.е. первую строку данных следует исключить из модели в момент обучения."
   ]
  },
  {
   "cell_type": "code",
   "execution_count": 35,
   "metadata": {},
   "outputs": [],
   "source": [
    "first_diff =np.array(df.iloc[1:,0].values - df.iloc[:-1,0].values).astype('float32') "
   ]
  },
  {
   "cell_type": "code",
   "execution_count": 36,
   "metadata": {},
   "outputs": [],
   "source": [
    "df['diff1'] = 0.0\n",
    "df['diff1'] =  df['diff1'].astype('float') \n",
    "df['diff1'].values[1:] = first_diff"
   ]
  },
  {
   "cell_type": "code",
   "execution_count": 37,
   "metadata": {},
   "outputs": [
    {
     "data": {
      "text/html": [
       "<div>\n",
       "<style scoped>\n",
       "    .dataframe tbody tr th:only-of-type {\n",
       "        vertical-align: middle;\n",
       "    }\n",
       "\n",
       "    .dataframe tbody tr th {\n",
       "        vertical-align: top;\n",
       "    }\n",
       "\n",
       "    .dataframe thead th {\n",
       "        text-align: right;\n",
       "    }\n",
       "</style>\n",
       "<table border=\"1\" class=\"dataframe\">\n",
       "  <thead>\n",
       "    <tr style=\"text-align: right;\">\n",
       "      <th></th>\n",
       "      <th>Price</th>\n",
       "      <th>year</th>\n",
       "      <th>month</th>\n",
       "      <th>dayofmonth</th>\n",
       "      <th>quarter</th>\n",
       "      <th>dayofyear</th>\n",
       "      <th>weekofyear</th>\n",
       "      <th>dayofweek</th>\n",
       "      <th>c_DBSCAN</th>\n",
       "      <th>c_BIRCH</th>\n",
       "      <th>pca1</th>\n",
       "      <th>pca2</th>\n",
       "      <th>diff1</th>\n",
       "    </tr>\n",
       "    <tr>\n",
       "      <th>Date</th>\n",
       "      <th></th>\n",
       "      <th></th>\n",
       "      <th></th>\n",
       "      <th></th>\n",
       "      <th></th>\n",
       "      <th></th>\n",
       "      <th></th>\n",
       "      <th></th>\n",
       "      <th></th>\n",
       "      <th></th>\n",
       "      <th></th>\n",
       "      <th></th>\n",
       "      <th></th>\n",
       "    </tr>\n",
       "  </thead>\n",
       "  <tbody>\n",
       "    <tr>\n",
       "      <th>1979-05-31</th>\n",
       "      <td>257.738</td>\n",
       "      <td>1979</td>\n",
       "      <td>5</td>\n",
       "      <td>31</td>\n",
       "      <td>2</td>\n",
       "      <td>151</td>\n",
       "      <td>22</td>\n",
       "      <td>3</td>\n",
       "      <td>0</td>\n",
       "      <td>0</td>\n",
       "      <td>-0.646576</td>\n",
       "      <td>0.523947</td>\n",
       "      <td>0.000000</td>\n",
       "    </tr>\n",
       "    <tr>\n",
       "      <th>1979-06-30</th>\n",
       "      <td>279.360</td>\n",
       "      <td>1979</td>\n",
       "      <td>6</td>\n",
       "      <td>30</td>\n",
       "      <td>2</td>\n",
       "      <td>181</td>\n",
       "      <td>26</td>\n",
       "      <td>5</td>\n",
       "      <td>0</td>\n",
       "      <td>0</td>\n",
       "      <td>-0.436225</td>\n",
       "      <td>-0.644128</td>\n",
       "      <td>21.622000</td>\n",
       "    </tr>\n",
       "    <tr>\n",
       "      <th>1979-07-31</th>\n",
       "      <td>295.009</td>\n",
       "      <td>1979</td>\n",
       "      <td>7</td>\n",
       "      <td>31</td>\n",
       "      <td>3</td>\n",
       "      <td>212</td>\n",
       "      <td>31</td>\n",
       "      <td>1</td>\n",
       "      <td>1</td>\n",
       "      <td>2</td>\n",
       "      <td>0.653447</td>\n",
       "      <td>1.442625</td>\n",
       "      <td>15.649000</td>\n",
       "    </tr>\n",
       "    <tr>\n",
       "      <th>1979-08-31</th>\n",
       "      <td>300.793</td>\n",
       "      <td>1979</td>\n",
       "      <td>8</td>\n",
       "      <td>31</td>\n",
       "      <td>3</td>\n",
       "      <td>243</td>\n",
       "      <td>35</td>\n",
       "      <td>4</td>\n",
       "      <td>1</td>\n",
       "      <td>2</td>\n",
       "      <td>1.083816</td>\n",
       "      <td>-0.003650</td>\n",
       "      <td>5.784000</td>\n",
       "    </tr>\n",
       "    <tr>\n",
       "      <th>1979-09-30</th>\n",
       "      <td>354.498</td>\n",
       "      <td>1979</td>\n",
       "      <td>9</td>\n",
       "      <td>30</td>\n",
       "      <td>3</td>\n",
       "      <td>273</td>\n",
       "      <td>39</td>\n",
       "      <td>6</td>\n",
       "      <td>1</td>\n",
       "      <td>2</td>\n",
       "      <td>1.294167</td>\n",
       "      <td>-1.171725</td>\n",
       "      <td>53.705002</td>\n",
       "    </tr>\n",
       "  </tbody>\n",
       "</table>\n",
       "</div>"
      ],
      "text/plain": [
       "              Price  year  month  dayofmonth  quarter  dayofyear  weekofyear  \\\n",
       "Date                                                                           \n",
       "1979-05-31  257.738  1979      5          31        2        151          22   \n",
       "1979-06-30  279.360  1979      6          30        2        181          26   \n",
       "1979-07-31  295.009  1979      7          31        3        212          31   \n",
       "1979-08-31  300.793  1979      8          31        3        243          35   \n",
       "1979-09-30  354.498  1979      9          30        3        273          39   \n",
       "\n",
       "            dayofweek  c_DBSCAN  c_BIRCH      pca1      pca2      diff1  \n",
       "Date                                                                     \n",
       "1979-05-31          3         0        0 -0.646576  0.523947   0.000000  \n",
       "1979-06-30          5         0        0 -0.436225 -0.644128  21.622000  \n",
       "1979-07-31          1         1        2  0.653447  1.442625  15.649000  \n",
       "1979-08-31          4         1        2  1.083816 -0.003650   5.784000  \n",
       "1979-09-30          6         1        2  1.294167 -1.171725  53.705002  "
      ]
     },
     "execution_count": 37,
     "metadata": {},
     "output_type": "execute_result"
    }
   ],
   "source": [
    "df.head()"
   ]
  },
  {
   "cell_type": "markdown",
   "metadata": {},
   "source": [
    "Думаю, что стоит взять и вторую разность "
   ]
  },
  {
   "cell_type": "code",
   "execution_count": 38,
   "metadata": {},
   "outputs": [],
   "source": [
    "second_diff =np.array(df.iloc[2:,-1].values - df.iloc[:-2, -1].values).astype('float32') "
   ]
  },
  {
   "cell_type": "code",
   "execution_count": 39,
   "metadata": {},
   "outputs": [],
   "source": [
    "\n",
    "df['diff2'] = 0.0\n",
    "df['diff2'] =  df['diff2'].astype('float') \n",
    "df['diff2'].values[2:] = second_diff"
   ]
  },
  {
   "cell_type": "markdown",
   "metadata": {},
   "source": [
    "Вообще можно добавить все, что можем придумать. Например, логарифм признака, частные признаков , частные логарифмов и т.д. "
   ]
  },
  {
   "cell_type": "code",
   "execution_count": 40,
   "metadata": {},
   "outputs": [],
   "source": [
    "first_diff_d =(first_diff) / df.iloc[1:,0].values\n",
    "df['diff1_d'] = 0.0\n",
    "df['diff1_d'] =  df['diff1_d'].astype('float') \n",
    "df['diff1_d'].values[1:] = np.array(first_diff_d).astype('float32')"
   ]
  },
  {
   "cell_type": "markdown",
   "metadata": {},
   "source": [
    "И для второй разности "
   ]
  },
  {
   "cell_type": "code",
   "execution_count": 41,
   "metadata": {},
   "outputs": [
    {
     "data": {
      "text/html": [
       "<div>\n",
       "<style scoped>\n",
       "    .dataframe tbody tr th:only-of-type {\n",
       "        vertical-align: middle;\n",
       "    }\n",
       "\n",
       "    .dataframe tbody tr th {\n",
       "        vertical-align: top;\n",
       "    }\n",
       "\n",
       "    .dataframe thead th {\n",
       "        text-align: right;\n",
       "    }\n",
       "</style>\n",
       "<table border=\"1\" class=\"dataframe\">\n",
       "  <thead>\n",
       "    <tr style=\"text-align: right;\">\n",
       "      <th></th>\n",
       "      <th>Price</th>\n",
       "      <th>year</th>\n",
       "      <th>month</th>\n",
       "      <th>dayofmonth</th>\n",
       "      <th>quarter</th>\n",
       "      <th>dayofyear</th>\n",
       "      <th>weekofyear</th>\n",
       "      <th>dayofweek</th>\n",
       "      <th>c_DBSCAN</th>\n",
       "      <th>c_BIRCH</th>\n",
       "      <th>pca1</th>\n",
       "      <th>pca2</th>\n",
       "      <th>diff1</th>\n",
       "      <th>diff2</th>\n",
       "      <th>diff1_d</th>\n",
       "    </tr>\n",
       "    <tr>\n",
       "      <th>Date</th>\n",
       "      <th></th>\n",
       "      <th></th>\n",
       "      <th></th>\n",
       "      <th></th>\n",
       "      <th></th>\n",
       "      <th></th>\n",
       "      <th></th>\n",
       "      <th></th>\n",
       "      <th></th>\n",
       "      <th></th>\n",
       "      <th></th>\n",
       "      <th></th>\n",
       "      <th></th>\n",
       "      <th></th>\n",
       "      <th></th>\n",
       "    </tr>\n",
       "  </thead>\n",
       "  <tbody>\n",
       "    <tr>\n",
       "      <th>1979-05-31</th>\n",
       "      <td>257.738</td>\n",
       "      <td>1979</td>\n",
       "      <td>5</td>\n",
       "      <td>31</td>\n",
       "      <td>2</td>\n",
       "      <td>151</td>\n",
       "      <td>22</td>\n",
       "      <td>3</td>\n",
       "      <td>0</td>\n",
       "      <td>0</td>\n",
       "      <td>-0.646576</td>\n",
       "      <td>0.523947</td>\n",
       "      <td>0.000000</td>\n",
       "      <td>0.000000</td>\n",
       "      <td>0.000000</td>\n",
       "    </tr>\n",
       "    <tr>\n",
       "      <th>1979-06-30</th>\n",
       "      <td>279.360</td>\n",
       "      <td>1979</td>\n",
       "      <td>6</td>\n",
       "      <td>30</td>\n",
       "      <td>2</td>\n",
       "      <td>181</td>\n",
       "      <td>26</td>\n",
       "      <td>5</td>\n",
       "      <td>0</td>\n",
       "      <td>0</td>\n",
       "      <td>-0.436225</td>\n",
       "      <td>-0.644128</td>\n",
       "      <td>21.622000</td>\n",
       "      <td>0.000000</td>\n",
       "      <td>0.077398</td>\n",
       "    </tr>\n",
       "    <tr>\n",
       "      <th>1979-07-31</th>\n",
       "      <td>295.009</td>\n",
       "      <td>1979</td>\n",
       "      <td>7</td>\n",
       "      <td>31</td>\n",
       "      <td>3</td>\n",
       "      <td>212</td>\n",
       "      <td>31</td>\n",
       "      <td>1</td>\n",
       "      <td>1</td>\n",
       "      <td>2</td>\n",
       "      <td>0.653447</td>\n",
       "      <td>1.442625</td>\n",
       "      <td>15.649000</td>\n",
       "      <td>15.649000</td>\n",
       "      <td>0.053046</td>\n",
       "    </tr>\n",
       "    <tr>\n",
       "      <th>1979-08-31</th>\n",
       "      <td>300.793</td>\n",
       "      <td>1979</td>\n",
       "      <td>8</td>\n",
       "      <td>31</td>\n",
       "      <td>3</td>\n",
       "      <td>243</td>\n",
       "      <td>35</td>\n",
       "      <td>4</td>\n",
       "      <td>1</td>\n",
       "      <td>2</td>\n",
       "      <td>1.083816</td>\n",
       "      <td>-0.003650</td>\n",
       "      <td>5.784000</td>\n",
       "      <td>-15.837999</td>\n",
       "      <td>0.019229</td>\n",
       "    </tr>\n",
       "    <tr>\n",
       "      <th>1979-09-30</th>\n",
       "      <td>354.498</td>\n",
       "      <td>1979</td>\n",
       "      <td>9</td>\n",
       "      <td>30</td>\n",
       "      <td>3</td>\n",
       "      <td>273</td>\n",
       "      <td>39</td>\n",
       "      <td>6</td>\n",
       "      <td>1</td>\n",
       "      <td>2</td>\n",
       "      <td>1.294167</td>\n",
       "      <td>-1.171725</td>\n",
       "      <td>53.705002</td>\n",
       "      <td>38.056000</td>\n",
       "      <td>0.151496</td>\n",
       "    </tr>\n",
       "  </tbody>\n",
       "</table>\n",
       "</div>"
      ],
      "text/plain": [
       "              Price  year  month  dayofmonth  quarter  dayofyear  weekofyear  \\\n",
       "Date                                                                           \n",
       "1979-05-31  257.738  1979      5          31        2        151          22   \n",
       "1979-06-30  279.360  1979      6          30        2        181          26   \n",
       "1979-07-31  295.009  1979      7          31        3        212          31   \n",
       "1979-08-31  300.793  1979      8          31        3        243          35   \n",
       "1979-09-30  354.498  1979      9          30        3        273          39   \n",
       "\n",
       "            dayofweek  c_DBSCAN  c_BIRCH      pca1      pca2      diff1  \\\n",
       "Date                                                                      \n",
       "1979-05-31          3         0        0 -0.646576  0.523947   0.000000   \n",
       "1979-06-30          5         0        0 -0.436225 -0.644128  21.622000   \n",
       "1979-07-31          1         1        2  0.653447  1.442625  15.649000   \n",
       "1979-08-31          4         1        2  1.083816 -0.003650   5.784000   \n",
       "1979-09-30          6         1        2  1.294167 -1.171725  53.705002   \n",
       "\n",
       "                diff2   diff1_d  \n",
       "Date                             \n",
       "1979-05-31   0.000000  0.000000  \n",
       "1979-06-30   0.000000  0.077398  \n",
       "1979-07-31  15.649000  0.053046  \n",
       "1979-08-31 -15.837999  0.019229  \n",
       "1979-09-30  38.056000  0.151496  "
      ]
     },
     "execution_count": 41,
     "metadata": {},
     "output_type": "execute_result"
    }
   ],
   "source": [
    "df.head()"
   ]
  },
  {
   "cell_type": "code",
   "execution_count": 42,
   "metadata": {},
   "outputs": [],
   "source": [
    "second_diff_d =(second_diff) / df.iloc[2:,-3].values\n",
    "df['diff2_d'] = 0.0\n",
    "df['diff2_d'] =  df['diff2_d'].astype('float') \n",
    "df['diff2_d'].values[2:] = np.array(second_diff_d).astype('float32')"
   ]
  },
  {
   "cell_type": "markdown",
   "metadata": {},
   "source": [
    "Добавим скользящее среднее по всей модели с глубиной 3 месяца. Размер окна определен длиной циклов осень, зима, весна, лето\n",
    "\n",
    "и добавим скользящее среднее по всей модели с глубиной в 1 год "
   ]
  },
  {
   "cell_type": "code",
   "execution_count": 44,
   "metadata": {},
   "outputs": [],
   "source": [
    "df['d_m3']=df['Price'].rolling(window=3).mean()\n",
    "df['d_m12'] = df['Price'].rolling(window=12).mean()"
   ]
  },
  {
   "cell_type": "markdown",
   "metadata": {},
   "source": [
    "А теперь добавим еще и экспонентциальную среднюю. Медленную, т.к. интересная информация лежит на уровне сезонных колебаний цены.\n",
    "\n",
    "Просто взял из методички"
   ]
  },
  {
   "cell_type": "code",
   "execution_count": 45,
   "metadata": {},
   "outputs": [],
   "source": [
    "def exponential_smoothing(series, alpha):\n",
    "    result = [series[0]] \n",
    "    for n in range(1, len(series)):\n",
    "        result.append(alpha * series[n] + (1 - alpha) * result[n-1])\n",
    "    return result"
   ]
  },
  {
   "cell_type": "code",
   "execution_count": 46,
   "metadata": {},
   "outputs": [],
   "source": [
    "df['exp_0_05'] = exponential_smoothing(df['Price'], 0.05)\n",
    "df['exp_0_03'] = exponential_smoothing(df['Price'], 0.03)\n",
    "df['exp_0_08'] = exponential_smoothing(df['Price'], 0.08)"
   ]
  },
  {
   "cell_type": "code",
   "execution_count": 48,
   "metadata": {},
   "outputs": [],
   "source": [
    "df.to_csv('gold_2.csv', index=True)"
   ]
  },
  {
   "cell_type": "code",
   "execution_count": 3,
   "metadata": {},
   "outputs": [],
   "source": [
    "df = pd.read_csv('gold_2.csv', index_col=[0], parse_dates=[0])"
   ]
  },
  {
   "cell_type": "markdown",
   "metadata": {},
   "source": [
    "### В итоге данные примут вид"
   ]
  },
  {
   "cell_type": "code",
   "execution_count": 48,
   "metadata": {},
   "outputs": [
    {
     "data": {
      "text/html": [
       "<div>\n",
       "<style scoped>\n",
       "    .dataframe tbody tr th:only-of-type {\n",
       "        vertical-align: middle;\n",
       "    }\n",
       "\n",
       "    .dataframe tbody tr th {\n",
       "        vertical-align: top;\n",
       "    }\n",
       "\n",
       "    .dataframe thead th {\n",
       "        text-align: right;\n",
       "    }\n",
       "</style>\n",
       "<table border=\"1\" class=\"dataframe\">\n",
       "  <thead>\n",
       "    <tr style=\"text-align: right;\">\n",
       "      <th></th>\n",
       "      <th>Price</th>\n",
       "      <th>year</th>\n",
       "      <th>month</th>\n",
       "      <th>dayofmonth</th>\n",
       "      <th>quarter</th>\n",
       "      <th>dayofyear</th>\n",
       "      <th>weekofyear</th>\n",
       "      <th>dayofweek</th>\n",
       "      <th>c_DBSCAN</th>\n",
       "      <th>c_BIRCH</th>\n",
       "      <th>pca1</th>\n",
       "      <th>pca2</th>\n",
       "      <th>diff1</th>\n",
       "      <th>diff2</th>\n",
       "      <th>diff1_d</th>\n",
       "      <th>diff2_d</th>\n",
       "      <th>d_m3</th>\n",
       "      <th>d_m12</th>\n",
       "      <th>exp_0_05</th>\n",
       "      <th>exp_0_03</th>\n",
       "      <th>exp_0_08</th>\n",
       "    </tr>\n",
       "    <tr>\n",
       "      <th>Date</th>\n",
       "      <th></th>\n",
       "      <th></th>\n",
       "      <th></th>\n",
       "      <th></th>\n",
       "      <th></th>\n",
       "      <th></th>\n",
       "      <th></th>\n",
       "      <th></th>\n",
       "      <th></th>\n",
       "      <th></th>\n",
       "      <th></th>\n",
       "      <th></th>\n",
       "      <th></th>\n",
       "      <th></th>\n",
       "      <th></th>\n",
       "      <th></th>\n",
       "      <th></th>\n",
       "      <th></th>\n",
       "      <th></th>\n",
       "      <th></th>\n",
       "      <th></th>\n",
       "    </tr>\n",
       "  </thead>\n",
       "  <tbody>\n",
       "    <tr>\n",
       "      <th>1979-05-31</th>\n",
       "      <td>257.738</td>\n",
       "      <td>1979</td>\n",
       "      <td>5</td>\n",
       "      <td>31</td>\n",
       "      <td>2</td>\n",
       "      <td>151</td>\n",
       "      <td>22</td>\n",
       "      <td>3</td>\n",
       "      <td>0</td>\n",
       "      <td>0</td>\n",
       "      <td>-0.646576</td>\n",
       "      <td>0.523947</td>\n",
       "      <td>0.000000</td>\n",
       "      <td>0.000000</td>\n",
       "      <td>0.000000</td>\n",
       "      <td>0.000000</td>\n",
       "      <td>NaN</td>\n",
       "      <td>NaN</td>\n",
       "      <td>257.738000</td>\n",
       "      <td>257.738000</td>\n",
       "      <td>257.738000</td>\n",
       "    </tr>\n",
       "    <tr>\n",
       "      <th>1979-06-30</th>\n",
       "      <td>279.360</td>\n",
       "      <td>1979</td>\n",
       "      <td>6</td>\n",
       "      <td>30</td>\n",
       "      <td>2</td>\n",
       "      <td>181</td>\n",
       "      <td>26</td>\n",
       "      <td>5</td>\n",
       "      <td>0</td>\n",
       "      <td>0</td>\n",
       "      <td>-0.436225</td>\n",
       "      <td>-0.644128</td>\n",
       "      <td>21.622000</td>\n",
       "      <td>0.000000</td>\n",
       "      <td>0.077398</td>\n",
       "      <td>0.000000</td>\n",
       "      <td>NaN</td>\n",
       "      <td>NaN</td>\n",
       "      <td>258.819100</td>\n",
       "      <td>258.386660</td>\n",
       "      <td>259.467760</td>\n",
       "    </tr>\n",
       "    <tr>\n",
       "      <th>1979-07-31</th>\n",
       "      <td>295.009</td>\n",
       "      <td>1979</td>\n",
       "      <td>7</td>\n",
       "      <td>31</td>\n",
       "      <td>3</td>\n",
       "      <td>212</td>\n",
       "      <td>31</td>\n",
       "      <td>1</td>\n",
       "      <td>1</td>\n",
       "      <td>2</td>\n",
       "      <td>0.653447</td>\n",
       "      <td>1.442625</td>\n",
       "      <td>15.649000</td>\n",
       "      <td>15.649000</td>\n",
       "      <td>0.053046</td>\n",
       "      <td>1.000000</td>\n",
       "      <td>277.369000</td>\n",
       "      <td>NaN</td>\n",
       "      <td>260.628595</td>\n",
       "      <td>259.485330</td>\n",
       "      <td>262.311059</td>\n",
       "    </tr>\n",
       "    <tr>\n",
       "      <th>1979-08-31</th>\n",
       "      <td>300.793</td>\n",
       "      <td>1979</td>\n",
       "      <td>8</td>\n",
       "      <td>31</td>\n",
       "      <td>3</td>\n",
       "      <td>243</td>\n",
       "      <td>35</td>\n",
       "      <td>4</td>\n",
       "      <td>1</td>\n",
       "      <td>2</td>\n",
       "      <td>1.083816</td>\n",
       "      <td>-0.003650</td>\n",
       "      <td>5.784000</td>\n",
       "      <td>-15.837999</td>\n",
       "      <td>0.019229</td>\n",
       "      <td>-2.738243</td>\n",
       "      <td>291.720667</td>\n",
       "      <td>NaN</td>\n",
       "      <td>262.636815</td>\n",
       "      <td>260.724560</td>\n",
       "      <td>265.389614</td>\n",
       "    </tr>\n",
       "    <tr>\n",
       "      <th>1979-09-30</th>\n",
       "      <td>354.498</td>\n",
       "      <td>1979</td>\n",
       "      <td>9</td>\n",
       "      <td>30</td>\n",
       "      <td>3</td>\n",
       "      <td>273</td>\n",
       "      <td>39</td>\n",
       "      <td>6</td>\n",
       "      <td>1</td>\n",
       "      <td>2</td>\n",
       "      <td>1.294167</td>\n",
       "      <td>-1.171725</td>\n",
       "      <td>53.705002</td>\n",
       "      <td>38.056000</td>\n",
       "      <td>0.151496</td>\n",
       "      <td>0.708612</td>\n",
       "      <td>316.766667</td>\n",
       "      <td>NaN</td>\n",
       "      <td>267.229874</td>\n",
       "      <td>263.537763</td>\n",
       "      <td>272.518285</td>\n",
       "    </tr>\n",
       "  </tbody>\n",
       "</table>\n",
       "</div>"
      ],
      "text/plain": [
       "              Price  year  month  dayofmonth  quarter  dayofyear  weekofyear  \\\n",
       "Date                                                                           \n",
       "1979-05-31  257.738  1979      5          31        2        151          22   \n",
       "1979-06-30  279.360  1979      6          30        2        181          26   \n",
       "1979-07-31  295.009  1979      7          31        3        212          31   \n",
       "1979-08-31  300.793  1979      8          31        3        243          35   \n",
       "1979-09-30  354.498  1979      9          30        3        273          39   \n",
       "\n",
       "            dayofweek  c_DBSCAN  c_BIRCH      pca1      pca2      diff1  \\\n",
       "Date                                                                      \n",
       "1979-05-31          3         0        0 -0.646576  0.523947   0.000000   \n",
       "1979-06-30          5         0        0 -0.436225 -0.644128  21.622000   \n",
       "1979-07-31          1         1        2  0.653447  1.442625  15.649000   \n",
       "1979-08-31          4         1        2  1.083816 -0.003650   5.784000   \n",
       "1979-09-30          6         1        2  1.294167 -1.171725  53.705002   \n",
       "\n",
       "                diff2   diff1_d   diff2_d        d_m3  d_m12    exp_0_05  \\\n",
       "Date                                                                       \n",
       "1979-05-31   0.000000  0.000000  0.000000         NaN    NaN  257.738000   \n",
       "1979-06-30   0.000000  0.077398  0.000000         NaN    NaN  258.819100   \n",
       "1979-07-31  15.649000  0.053046  1.000000  277.369000    NaN  260.628595   \n",
       "1979-08-31 -15.837999  0.019229 -2.738243  291.720667    NaN  262.636815   \n",
       "1979-09-30  38.056000  0.151496  0.708612  316.766667    NaN  267.229874   \n",
       "\n",
       "              exp_0_03    exp_0_08  \n",
       "Date                                \n",
       "1979-05-31  257.738000  257.738000  \n",
       "1979-06-30  258.386660  259.467760  \n",
       "1979-07-31  259.485330  262.311059  \n",
       "1979-08-31  260.724560  265.389614  \n",
       "1979-09-30  263.537763  272.518285  "
      ]
     },
     "execution_count": 48,
     "metadata": {},
     "output_type": "execute_result"
    }
   ],
   "source": [
    "df.head()"
   ]
  },
  {
   "cell_type": "markdown",
   "metadata": {},
   "source": [
    "Построим графики "
   ]
  },
  {
   "cell_type": "code",
   "execution_count": 49,
   "metadata": {},
   "outputs": [
    {
     "data": {
      "image/png": "[encoded data removed]",
      "text/plain": [
       "<Figure size 1440x360 with 1 Axes>"
      ]
     },
     "metadata": {
      "needs_background": "light"
     },
     "output_type": "display_data"
    }
   ],
   "source": [
    "N100=484\n",
    "plt.figure(figsize=(20,5))\n",
    "plt.plot(df.index[:N100],df['Price'][:N100],'r',label ='Price')\n",
    "plt.plot(df.index[:N100],df['diff2'][:N100],'--k',label ='diff2')\n",
    "plt.plot(df.index[:N100],df['d_m3'][:N100],'--b',label ='d_m3')\n",
    "plt.plot(df.index[:N100],df['exp_0_05'][:N100],'--g',label ='exp_0_05')\n",
    "plt.legend()\n",
    "plt.show()"
   ]
  },
  {
   "cell_type": "code",
   "execution_count": 50,
   "metadata": {},
   "outputs": [
    {
     "data": {
      "image/png": "[encoded data removed]",
      "text/plain": [
       "<Figure size 1440x360 with 1 Axes>"
      ]
     },
     "metadata": {
      "needs_background": "light"
     },
     "output_type": "display_data"
    }
   ],
   "source": [
    "plt.figure(figsize=(20,5))\n",
    "plt.plot(df.index[:N100],df['diff2_d'][:N100],'r',label ='diff2_d ряд')\n",
    "plt.plot(df.index[:N100],df['diff1_d'][:N100],'--k',label ='diff1_d')\n",
    "plt.plot(df.index[:N100],df['exp_0_08'][:N100],'--b',label ='exp_0_08 ')\n",
    "plt.plot(df.index[:N100],df['exp_0_03'][:N100],'--g',label ='exp_0_03')\n",
    "plt.legend()\n",
    "plt.show()"
   ]
  },
  {
   "cell_type": "markdown",
   "metadata": {},
   "source": [
    "Видны две аномалии в 1985 и 2008 году"
   ]
  },
  {
   "cell_type": "markdown",
   "metadata": {},
   "source": [
    "### Думаю, что тут нет особого смысла применять Бокса Кокса, но еще подумаю "
   ]
  },
  {
   "cell_type": "markdown",
   "metadata": {},
   "source": [
    "Добавим истории длиной p в признаках автокорреляции"
   ]
  },
  {
   "cell_type": "code",
   "execution_count": 51,
   "metadata": {},
   "outputs": [],
   "source": [
    "p = 14"
   ]
  },
  {
   "cell_type": "code",
   "execution_count": 52,
   "metadata": {},
   "outputs": [],
   "source": [
    "\n",
    "for i in range(p):\n",
    "    df['t'+str(p-i)]=0\n",
    "    df['t'+str(p-i)].values[p:] = df['Price'].values[i:-(p)+i]"
   ]
  },
  {
   "cell_type": "markdown",
   "metadata": {},
   "source": [
    "Аналогично добавляем первые разности на глубину p"
   ]
  },
  {
   "cell_type": "code",
   "execution_count": 53,
   "metadata": {},
   "outputs": [],
   "source": [
    "p = 14\n",
    "for i in range(p):\n",
    "    df['d'+str(p-i)]=0\n",
    "    df['d'+str(p-i)].values[p:] = df['diff1'].values[i:-(p)+i]"
   ]
  },
  {
   "cell_type": "markdown",
   "metadata": {},
   "source": [
    "Итоговая система признаков"
   ]
  },
  {
   "cell_type": "code",
   "execution_count": 54,
   "metadata": {},
   "outputs": [
    {
     "data": {
      "text/html": [
       "<div>\n",
       "<style scoped>\n",
       "    .dataframe tbody tr th:only-of-type {\n",
       "        vertical-align: middle;\n",
       "    }\n",
       "\n",
       "    .dataframe tbody tr th {\n",
       "        vertical-align: top;\n",
       "    }\n",
       "\n",
       "    .dataframe thead th {\n",
       "        text-align: right;\n",
       "    }\n",
       "</style>\n",
       "<table border=\"1\" class=\"dataframe\">\n",
       "  <thead>\n",
       "    <tr style=\"text-align: right;\">\n",
       "      <th></th>\n",
       "      <th>Price</th>\n",
       "      <th>year</th>\n",
       "      <th>month</th>\n",
       "      <th>dayofmonth</th>\n",
       "      <th>quarter</th>\n",
       "      <th>dayofyear</th>\n",
       "      <th>weekofyear</th>\n",
       "      <th>dayofweek</th>\n",
       "      <th>c_DBSCAN</th>\n",
       "      <th>c_BIRCH</th>\n",
       "      <th>pca1</th>\n",
       "      <th>pca2</th>\n",
       "      <th>diff1</th>\n",
       "      <th>diff2</th>\n",
       "      <th>diff1_d</th>\n",
       "      <th>diff2_d</th>\n",
       "      <th>d_m3</th>\n",
       "      <th>d_m12</th>\n",
       "      <th>exp_0_05</th>\n",
       "      <th>exp_0_03</th>\n",
       "      <th>exp_0_08</th>\n",
       "      <th>t14</th>\n",
       "      <th>t13</th>\n",
       "      <th>t12</th>\n",
       "      <th>t11</th>\n",
       "      <th>t10</th>\n",
       "      <th>t9</th>\n",
       "      <th>t8</th>\n",
       "      <th>t7</th>\n",
       "      <th>t6</th>\n",
       "      <th>t5</th>\n",
       "      <th>t4</th>\n",
       "      <th>t3</th>\n",
       "      <th>t2</th>\n",
       "      <th>t1</th>\n",
       "      <th>d14</th>\n",
       "      <th>d13</th>\n",
       "      <th>d12</th>\n",
       "      <th>d11</th>\n",
       "      <th>d10</th>\n",
       "      <th>d9</th>\n",
       "      <th>d8</th>\n",
       "      <th>d7</th>\n",
       "      <th>d6</th>\n",
       "      <th>d5</th>\n",
       "      <th>d4</th>\n",
       "      <th>d3</th>\n",
       "      <th>d2</th>\n",
       "      <th>d1</th>\n",
       "    </tr>\n",
       "    <tr>\n",
       "      <th>Date</th>\n",
       "      <th></th>\n",
       "      <th></th>\n",
       "      <th></th>\n",
       "      <th></th>\n",
       "      <th></th>\n",
       "      <th></th>\n",
       "      <th></th>\n",
       "      <th></th>\n",
       "      <th></th>\n",
       "      <th></th>\n",
       "      <th></th>\n",
       "      <th></th>\n",
       "      <th></th>\n",
       "      <th></th>\n",
       "      <th></th>\n",
       "      <th></th>\n",
       "      <th></th>\n",
       "      <th></th>\n",
       "      <th></th>\n",
       "      <th></th>\n",
       "      <th></th>\n",
       "      <th></th>\n",
       "      <th></th>\n",
       "      <th></th>\n",
       "      <th></th>\n",
       "      <th></th>\n",
       "      <th></th>\n",
       "      <th></th>\n",
       "      <th></th>\n",
       "      <th></th>\n",
       "      <th></th>\n",
       "      <th></th>\n",
       "      <th></th>\n",
       "      <th></th>\n",
       "      <th></th>\n",
       "      <th></th>\n",
       "      <th></th>\n",
       "      <th></th>\n",
       "      <th></th>\n",
       "      <th></th>\n",
       "      <th></th>\n",
       "      <th></th>\n",
       "      <th></th>\n",
       "      <th></th>\n",
       "      <th></th>\n",
       "      <th></th>\n",
       "      <th></th>\n",
       "      <th></th>\n",
       "      <th></th>\n",
       "    </tr>\n",
       "  </thead>\n",
       "  <tbody>\n",
       "    <tr>\n",
       "      <th>1979-05-31</th>\n",
       "      <td>257.738</td>\n",
       "      <td>1979</td>\n",
       "      <td>5</td>\n",
       "      <td>31</td>\n",
       "      <td>2</td>\n",
       "      <td>151</td>\n",
       "      <td>22</td>\n",
       "      <td>3</td>\n",
       "      <td>0</td>\n",
       "      <td>0</td>\n",
       "      <td>-0.646576</td>\n",
       "      <td>0.523947</td>\n",
       "      <td>0.000000</td>\n",
       "      <td>0.000000</td>\n",
       "      <td>0.000000</td>\n",
       "      <td>0.000000</td>\n",
       "      <td>NaN</td>\n",
       "      <td>NaN</td>\n",
       "      <td>257.738000</td>\n",
       "      <td>257.738000</td>\n",
       "      <td>257.738000</td>\n",
       "      <td>0</td>\n",
       "      <td>0</td>\n",
       "      <td>0</td>\n",
       "      <td>0</td>\n",
       "      <td>0</td>\n",
       "      <td>0</td>\n",
       "      <td>0</td>\n",
       "      <td>0</td>\n",
       "      <td>0</td>\n",
       "      <td>0</td>\n",
       "      <td>0</td>\n",
       "      <td>0</td>\n",
       "      <td>0</td>\n",
       "      <td>0</td>\n",
       "      <td>0</td>\n",
       "      <td>0</td>\n",
       "      <td>0</td>\n",
       "      <td>0</td>\n",
       "      <td>0</td>\n",
       "      <td>0</td>\n",
       "      <td>0</td>\n",
       "      <td>0</td>\n",
       "      <td>0</td>\n",
       "      <td>0</td>\n",
       "      <td>0</td>\n",
       "      <td>0</td>\n",
       "      <td>0</td>\n",
       "      <td>0</td>\n",
       "    </tr>\n",
       "    <tr>\n",
       "      <th>1979-06-30</th>\n",
       "      <td>279.360</td>\n",
       "      <td>1979</td>\n",
       "      <td>6</td>\n",
       "      <td>30</td>\n",
       "      <td>2</td>\n",
       "      <td>181</td>\n",
       "      <td>26</td>\n",
       "      <td>5</td>\n",
       "      <td>0</td>\n",
       "      <td>0</td>\n",
       "      <td>-0.436225</td>\n",
       "      <td>-0.644128</td>\n",
       "      <td>21.622000</td>\n",
       "      <td>0.000000</td>\n",
       "      <td>0.077398</td>\n",
       "      <td>0.000000</td>\n",
       "      <td>NaN</td>\n",
       "      <td>NaN</td>\n",
       "      <td>258.819100</td>\n",
       "      <td>258.386660</td>\n",
       "      <td>259.467760</td>\n",
       "      <td>0</td>\n",
       "      <td>0</td>\n",
       "      <td>0</td>\n",
       "      <td>0</td>\n",
       "      <td>0</td>\n",
       "      <td>0</td>\n",
       "      <td>0</td>\n",
       "      <td>0</td>\n",
       "      <td>0</td>\n",
       "      <td>0</td>\n",
       "      <td>0</td>\n",
       "      <td>0</td>\n",
       "      <td>0</td>\n",
       "      <td>0</td>\n",
       "      <td>0</td>\n",
       "      <td>0</td>\n",
       "      <td>0</td>\n",
       "      <td>0</td>\n",
       "      <td>0</td>\n",
       "      <td>0</td>\n",
       "      <td>0</td>\n",
       "      <td>0</td>\n",
       "      <td>0</td>\n",
       "      <td>0</td>\n",
       "      <td>0</td>\n",
       "      <td>0</td>\n",
       "      <td>0</td>\n",
       "      <td>0</td>\n",
       "    </tr>\n",
       "    <tr>\n",
       "      <th>1979-07-31</th>\n",
       "      <td>295.009</td>\n",
       "      <td>1979</td>\n",
       "      <td>7</td>\n",
       "      <td>31</td>\n",
       "      <td>3</td>\n",
       "      <td>212</td>\n",
       "      <td>31</td>\n",
       "      <td>1</td>\n",
       "      <td>1</td>\n",
       "      <td>2</td>\n",
       "      <td>0.653447</td>\n",
       "      <td>1.442625</td>\n",
       "      <td>15.649000</td>\n",
       "      <td>15.649000</td>\n",
       "      <td>0.053046</td>\n",
       "      <td>1.000000</td>\n",
       "      <td>277.369000</td>\n",
       "      <td>NaN</td>\n",
       "      <td>260.628595</td>\n",
       "      <td>259.485330</td>\n",
       "      <td>262.311059</td>\n",
       "      <td>0</td>\n",
       "      <td>0</td>\n",
       "      <td>0</td>\n",
       "      <td>0</td>\n",
       "      <td>0</td>\n",
       "      <td>0</td>\n",
       "      <td>0</td>\n",
       "      <td>0</td>\n",
       "      <td>0</td>\n",
       "      <td>0</td>\n",
       "      <td>0</td>\n",
       "      <td>0</td>\n",
       "      <td>0</td>\n",
       "      <td>0</td>\n",
       "      <td>0</td>\n",
       "      <td>0</td>\n",
       "      <td>0</td>\n",
       "      <td>0</td>\n",
       "      <td>0</td>\n",
       "      <td>0</td>\n",
       "      <td>0</td>\n",
       "      <td>0</td>\n",
       "      <td>0</td>\n",
       "      <td>0</td>\n",
       "      <td>0</td>\n",
       "      <td>0</td>\n",
       "      <td>0</td>\n",
       "      <td>0</td>\n",
       "    </tr>\n",
       "    <tr>\n",
       "      <th>1979-08-31</th>\n",
       "      <td>300.793</td>\n",
       "      <td>1979</td>\n",
       "      <td>8</td>\n",
       "      <td>31</td>\n",
       "      <td>3</td>\n",
       "      <td>243</td>\n",
       "      <td>35</td>\n",
       "      <td>4</td>\n",
       "      <td>1</td>\n",
       "      <td>2</td>\n",
       "      <td>1.083816</td>\n",
       "      <td>-0.003650</td>\n",
       "      <td>5.784000</td>\n",
       "      <td>-15.837999</td>\n",
       "      <td>0.019229</td>\n",
       "      <td>-2.738243</td>\n",
       "      <td>291.720667</td>\n",
       "      <td>NaN</td>\n",
       "      <td>262.636815</td>\n",
       "      <td>260.724560</td>\n",
       "      <td>265.389614</td>\n",
       "      <td>0</td>\n",
       "      <td>0</td>\n",
       "      <td>0</td>\n",
       "      <td>0</td>\n",
       "      <td>0</td>\n",
       "      <td>0</td>\n",
       "      <td>0</td>\n",
       "      <td>0</td>\n",
       "      <td>0</td>\n",
       "      <td>0</td>\n",
       "      <td>0</td>\n",
       "      <td>0</td>\n",
       "      <td>0</td>\n",
       "      <td>0</td>\n",
       "      <td>0</td>\n",
       "      <td>0</td>\n",
       "      <td>0</td>\n",
       "      <td>0</td>\n",
       "      <td>0</td>\n",
       "      <td>0</td>\n",
       "      <td>0</td>\n",
       "      <td>0</td>\n",
       "      <td>0</td>\n",
       "      <td>0</td>\n",
       "      <td>0</td>\n",
       "      <td>0</td>\n",
       "      <td>0</td>\n",
       "      <td>0</td>\n",
       "    </tr>\n",
       "    <tr>\n",
       "      <th>1979-09-30</th>\n",
       "      <td>354.498</td>\n",
       "      <td>1979</td>\n",
       "      <td>9</td>\n",
       "      <td>30</td>\n",
       "      <td>3</td>\n",
       "      <td>273</td>\n",
       "      <td>39</td>\n",
       "      <td>6</td>\n",
       "      <td>1</td>\n",
       "      <td>2</td>\n",
       "      <td>1.294167</td>\n",
       "      <td>-1.171725</td>\n",
       "      <td>53.705002</td>\n",
       "      <td>38.056000</td>\n",
       "      <td>0.151496</td>\n",
       "      <td>0.708612</td>\n",
       "      <td>316.766667</td>\n",
       "      <td>NaN</td>\n",
       "      <td>267.229874</td>\n",
       "      <td>263.537763</td>\n",
       "      <td>272.518285</td>\n",
       "      <td>0</td>\n",
       "      <td>0</td>\n",
       "      <td>0</td>\n",
       "      <td>0</td>\n",
       "      <td>0</td>\n",
       "      <td>0</td>\n",
       "      <td>0</td>\n",
       "      <td>0</td>\n",
       "      <td>0</td>\n",
       "      <td>0</td>\n",
       "      <td>0</td>\n",
       "      <td>0</td>\n",
       "      <td>0</td>\n",
       "      <td>0</td>\n",
       "      <td>0</td>\n",
       "      <td>0</td>\n",
       "      <td>0</td>\n",
       "      <td>0</td>\n",
       "      <td>0</td>\n",
       "      <td>0</td>\n",
       "      <td>0</td>\n",
       "      <td>0</td>\n",
       "      <td>0</td>\n",
       "      <td>0</td>\n",
       "      <td>0</td>\n",
       "      <td>0</td>\n",
       "      <td>0</td>\n",
       "      <td>0</td>\n",
       "    </tr>\n",
       "    <tr>\n",
       "      <th>1979-10-31</th>\n",
       "      <td>390.959</td>\n",
       "      <td>1979</td>\n",
       "      <td>10</td>\n",
       "      <td>31</td>\n",
       "      <td>4</td>\n",
       "      <td>304</td>\n",
       "      <td>44</td>\n",
       "      <td>2</td>\n",
       "      <td>1</td>\n",
       "      <td>2</td>\n",
       "      <td>2.383840</td>\n",
       "      <td>0.915027</td>\n",
       "      <td>36.460999</td>\n",
       "      <td>30.676998</td>\n",
       "      <td>0.093260</td>\n",
       "      <td>0.841365</td>\n",
       "      <td>348.750000</td>\n",
       "      <td>NaN</td>\n",
       "      <td>273.416331</td>\n",
       "      <td>267.360401</td>\n",
       "      <td>281.993542</td>\n",
       "      <td>0</td>\n",
       "      <td>0</td>\n",
       "      <td>0</td>\n",
       "      <td>0</td>\n",
       "      <td>0</td>\n",
       "      <td>0</td>\n",
       "      <td>0</td>\n",
       "      <td>0</td>\n",
       "      <td>0</td>\n",
       "      <td>0</td>\n",
       "      <td>0</td>\n",
       "      <td>0</td>\n",
       "      <td>0</td>\n",
       "      <td>0</td>\n",
       "      <td>0</td>\n",
       "      <td>0</td>\n",
       "      <td>0</td>\n",
       "      <td>0</td>\n",
       "      <td>0</td>\n",
       "      <td>0</td>\n",
       "      <td>0</td>\n",
       "      <td>0</td>\n",
       "      <td>0</td>\n",
       "      <td>0</td>\n",
       "      <td>0</td>\n",
       "      <td>0</td>\n",
       "      <td>0</td>\n",
       "      <td>0</td>\n",
       "    </tr>\n",
       "    <tr>\n",
       "      <th>1979-11-30</th>\n",
       "      <td>391.518</td>\n",
       "      <td>1979</td>\n",
       "      <td>11</td>\n",
       "      <td>30</td>\n",
       "      <td>4</td>\n",
       "      <td>334</td>\n",
       "      <td>48</td>\n",
       "      <td>4</td>\n",
       "      <td>1</td>\n",
       "      <td>2</td>\n",
       "      <td>2.594191</td>\n",
       "      <td>-0.253047</td>\n",
       "      <td>0.559000</td>\n",
       "      <td>-53.146004</td>\n",
       "      <td>0.001428</td>\n",
       "      <td>-95.073349</td>\n",
       "      <td>378.991667</td>\n",
       "      <td>NaN</td>\n",
       "      <td>279.321414</td>\n",
       "      <td>271.085129</td>\n",
       "      <td>290.755499</td>\n",
       "      <td>0</td>\n",
       "      <td>0</td>\n",
       "      <td>0</td>\n",
       "      <td>0</td>\n",
       "      <td>0</td>\n",
       "      <td>0</td>\n",
       "      <td>0</td>\n",
       "      <td>0</td>\n",
       "      <td>0</td>\n",
       "      <td>0</td>\n",
       "      <td>0</td>\n",
       "      <td>0</td>\n",
       "      <td>0</td>\n",
       "      <td>0</td>\n",
       "      <td>0</td>\n",
       "      <td>0</td>\n",
       "      <td>0</td>\n",
       "      <td>0</td>\n",
       "      <td>0</td>\n",
       "      <td>0</td>\n",
       "      <td>0</td>\n",
       "      <td>0</td>\n",
       "      <td>0</td>\n",
       "      <td>0</td>\n",
       "      <td>0</td>\n",
       "      <td>0</td>\n",
       "      <td>0</td>\n",
       "      <td>0</td>\n",
       "    </tr>\n",
       "    <tr>\n",
       "      <th>1979-12-31</th>\n",
       "      <td>463.666</td>\n",
       "      <td>1979</td>\n",
       "      <td>12</td>\n",
       "      <td>31</td>\n",
       "      <td>4</td>\n",
       "      <td>365</td>\n",
       "      <td>1</td>\n",
       "      <td>0</td>\n",
       "      <td>1</td>\n",
       "      <td>2</td>\n",
       "      <td>1.692546</td>\n",
       "      <td>2.310277</td>\n",
       "      <td>72.148003</td>\n",
       "      <td>35.687004</td>\n",
       "      <td>0.155603</td>\n",
       "      <td>0.494636</td>\n",
       "      <td>415.381000</td>\n",
       "      <td>NaN</td>\n",
       "      <td>288.538644</td>\n",
       "      <td>276.862555</td>\n",
       "      <td>304.588339</td>\n",
       "      <td>0</td>\n",
       "      <td>0</td>\n",
       "      <td>0</td>\n",
       "      <td>0</td>\n",
       "      <td>0</td>\n",
       "      <td>0</td>\n",
       "      <td>0</td>\n",
       "      <td>0</td>\n",
       "      <td>0</td>\n",
       "      <td>0</td>\n",
       "      <td>0</td>\n",
       "      <td>0</td>\n",
       "      <td>0</td>\n",
       "      <td>0</td>\n",
       "      <td>0</td>\n",
       "      <td>0</td>\n",
       "      <td>0</td>\n",
       "      <td>0</td>\n",
       "      <td>0</td>\n",
       "      <td>0</td>\n",
       "      <td>0</td>\n",
       "      <td>0</td>\n",
       "      <td>0</td>\n",
       "      <td>0</td>\n",
       "      <td>0</td>\n",
       "      <td>0</td>\n",
       "      <td>0</td>\n",
       "      <td>0</td>\n",
       "    </tr>\n",
       "    <tr>\n",
       "      <th>1980-01-31</th>\n",
       "      <td>674.580</td>\n",
       "      <td>1980</td>\n",
       "      <td>1</td>\n",
       "      <td>31</td>\n",
       "      <td>1</td>\n",
       "      <td>31</td>\n",
       "      <td>5</td>\n",
       "      <td>3</td>\n",
       "      <td>0</td>\n",
       "      <td>0</td>\n",
       "      <td>-2.775231</td>\n",
       "      <td>0.581415</td>\n",
       "      <td>210.914001</td>\n",
       "      <td>210.354996</td>\n",
       "      <td>0.312660</td>\n",
       "      <td>0.997350</td>\n",
       "      <td>509.921333</td>\n",
       "      <td>NaN</td>\n",
       "      <td>307.840711</td>\n",
       "      <td>288.794078</td>\n",
       "      <td>334.187672</td>\n",
       "      <td>0</td>\n",
       "      <td>0</td>\n",
       "      <td>0</td>\n",
       "      <td>0</td>\n",
       "      <td>0</td>\n",
       "      <td>0</td>\n",
       "      <td>0</td>\n",
       "      <td>0</td>\n",
       "      <td>0</td>\n",
       "      <td>0</td>\n",
       "      <td>0</td>\n",
       "      <td>0</td>\n",
       "      <td>0</td>\n",
       "      <td>0</td>\n",
       "      <td>0</td>\n",
       "      <td>0</td>\n",
       "      <td>0</td>\n",
       "      <td>0</td>\n",
       "      <td>0</td>\n",
       "      <td>0</td>\n",
       "      <td>0</td>\n",
       "      <td>0</td>\n",
       "      <td>0</td>\n",
       "      <td>0</td>\n",
       "      <td>0</td>\n",
       "      <td>0</td>\n",
       "      <td>0</td>\n",
       "      <td>0</td>\n",
       "    </tr>\n",
       "    <tr>\n",
       "      <th>1980-02-29</th>\n",
       "      <td>665.893</td>\n",
       "      <td>1980</td>\n",
       "      <td>2</td>\n",
       "      <td>29</td>\n",
       "      <td>1</td>\n",
       "      <td>60</td>\n",
       "      <td>9</td>\n",
       "      <td>4</td>\n",
       "      <td>0</td>\n",
       "      <td>0</td>\n",
       "      <td>-2.784898</td>\n",
       "      <td>-0.308459</td>\n",
       "      <td>-8.687000</td>\n",
       "      <td>-80.835007</td>\n",
       "      <td>-0.013046</td>\n",
       "      <td>9.305285</td>\n",
       "      <td>601.379667</td>\n",
       "      <td>NaN</td>\n",
       "      <td>325.743326</td>\n",
       "      <td>300.107046</td>\n",
       "      <td>360.724098</td>\n",
       "      <td>0</td>\n",
       "      <td>0</td>\n",
       "      <td>0</td>\n",
       "      <td>0</td>\n",
       "      <td>0</td>\n",
       "      <td>0</td>\n",
       "      <td>0</td>\n",
       "      <td>0</td>\n",
       "      <td>0</td>\n",
       "      <td>0</td>\n",
       "      <td>0</td>\n",
       "      <td>0</td>\n",
       "      <td>0</td>\n",
       "      <td>0</td>\n",
       "      <td>0</td>\n",
       "      <td>0</td>\n",
       "      <td>0</td>\n",
       "      <td>0</td>\n",
       "      <td>0</td>\n",
       "      <td>0</td>\n",
       "      <td>0</td>\n",
       "      <td>0</td>\n",
       "      <td>0</td>\n",
       "      <td>0</td>\n",
       "      <td>0</td>\n",
       "      <td>0</td>\n",
       "      <td>0</td>\n",
       "      <td>0</td>\n",
       "    </tr>\n",
       "    <tr>\n",
       "      <th>1980-03-31</th>\n",
       "      <td>554.276</td>\n",
       "      <td>1980</td>\n",
       "      <td>3</td>\n",
       "      <td>31</td>\n",
       "      <td>1</td>\n",
       "      <td>91</td>\n",
       "      <td>14</td>\n",
       "      <td>0</td>\n",
       "      <td>0</td>\n",
       "      <td>0</td>\n",
       "      <td>-1.938749</td>\n",
       "      <td>1.948076</td>\n",
       "      <td>-111.616997</td>\n",
       "      <td>-322.531006</td>\n",
       "      <td>-0.201374</td>\n",
       "      <td>2.889623</td>\n",
       "      <td>631.583000</td>\n",
       "      <td>NaN</td>\n",
       "      <td>337.169959</td>\n",
       "      <td>307.732114</td>\n",
       "      <td>376.208250</td>\n",
       "      <td>0</td>\n",
       "      <td>0</td>\n",
       "      <td>0</td>\n",
       "      <td>0</td>\n",
       "      <td>0</td>\n",
       "      <td>0</td>\n",
       "      <td>0</td>\n",
       "      <td>0</td>\n",
       "      <td>0</td>\n",
       "      <td>0</td>\n",
       "      <td>0</td>\n",
       "      <td>0</td>\n",
       "      <td>0</td>\n",
       "      <td>0</td>\n",
       "      <td>0</td>\n",
       "      <td>0</td>\n",
       "      <td>0</td>\n",
       "      <td>0</td>\n",
       "      <td>0</td>\n",
       "      <td>0</td>\n",
       "      <td>0</td>\n",
       "      <td>0</td>\n",
       "      <td>0</td>\n",
       "      <td>0</td>\n",
       "      <td>0</td>\n",
       "      <td>0</td>\n",
       "      <td>0</td>\n",
       "      <td>0</td>\n",
       "    </tr>\n",
       "    <tr>\n",
       "      <th>1980-04-30</th>\n",
       "      <td>516.710</td>\n",
       "      <td>1980</td>\n",
       "      <td>4</td>\n",
       "      <td>30</td>\n",
       "      <td>2</td>\n",
       "      <td>121</td>\n",
       "      <td>18</td>\n",
       "      <td>2</td>\n",
       "      <td>0</td>\n",
       "      <td>0</td>\n",
       "      <td>-1.274598</td>\n",
       "      <td>0.806139</td>\n",
       "      <td>-37.566002</td>\n",
       "      <td>-28.879002</td>\n",
       "      <td>-0.072702</td>\n",
       "      <td>0.768754</td>\n",
       "      <td>578.959667</td>\n",
       "      <td>428.750000</td>\n",
       "      <td>346.146962</td>\n",
       "      <td>314.001451</td>\n",
       "      <td>387.448390</td>\n",
       "      <td>0</td>\n",
       "      <td>0</td>\n",
       "      <td>0</td>\n",
       "      <td>0</td>\n",
       "      <td>0</td>\n",
       "      <td>0</td>\n",
       "      <td>0</td>\n",
       "      <td>0</td>\n",
       "      <td>0</td>\n",
       "      <td>0</td>\n",
       "      <td>0</td>\n",
       "      <td>0</td>\n",
       "      <td>0</td>\n",
       "      <td>0</td>\n",
       "      <td>0</td>\n",
       "      <td>0</td>\n",
       "      <td>0</td>\n",
       "      <td>0</td>\n",
       "      <td>0</td>\n",
       "      <td>0</td>\n",
       "      <td>0</td>\n",
       "      <td>0</td>\n",
       "      <td>0</td>\n",
       "      <td>0</td>\n",
       "      <td>0</td>\n",
       "      <td>0</td>\n",
       "      <td>0</td>\n",
       "      <td>0</td>\n",
       "    </tr>\n",
       "    <tr>\n",
       "      <th>1980-05-31</th>\n",
       "      <td>514.268</td>\n",
       "      <td>1980</td>\n",
       "      <td>5</td>\n",
       "      <td>31</td>\n",
       "      <td>2</td>\n",
       "      <td>152</td>\n",
       "      <td>22</td>\n",
       "      <td>5</td>\n",
       "      <td>0</td>\n",
       "      <td>0</td>\n",
       "      <td>-0.633954</td>\n",
       "      <td>-0.444215</td>\n",
       "      <td>-2.442000</td>\n",
       "      <td>109.174995</td>\n",
       "      <td>-0.004748</td>\n",
       "      <td>-44.707207</td>\n",
       "      <td>528.418000</td>\n",
       "      <td>450.127500</td>\n",
       "      <td>354.553013</td>\n",
       "      <td>320.009447</td>\n",
       "      <td>397.593959</td>\n",
       "      <td>0</td>\n",
       "      <td>0</td>\n",
       "      <td>0</td>\n",
       "      <td>0</td>\n",
       "      <td>0</td>\n",
       "      <td>0</td>\n",
       "      <td>0</td>\n",
       "      <td>0</td>\n",
       "      <td>0</td>\n",
       "      <td>0</td>\n",
       "      <td>0</td>\n",
       "      <td>0</td>\n",
       "      <td>0</td>\n",
       "      <td>0</td>\n",
       "      <td>0</td>\n",
       "      <td>0</td>\n",
       "      <td>0</td>\n",
       "      <td>0</td>\n",
       "      <td>0</td>\n",
       "      <td>0</td>\n",
       "      <td>0</td>\n",
       "      <td>0</td>\n",
       "      <td>0</td>\n",
       "      <td>0</td>\n",
       "      <td>0</td>\n",
       "      <td>0</td>\n",
       "      <td>0</td>\n",
       "      <td>0</td>\n",
       "    </tr>\n",
       "    <tr>\n",
       "      <th>1980-06-30</th>\n",
       "      <td>600.786</td>\n",
       "      <td>1980</td>\n",
       "      <td>6</td>\n",
       "      <td>30</td>\n",
       "      <td>2</td>\n",
       "      <td>182</td>\n",
       "      <td>27</td>\n",
       "      <td>0</td>\n",
       "      <td>0</td>\n",
       "      <td>0</td>\n",
       "      <td>-0.428374</td>\n",
       "      <td>1.698679</td>\n",
       "      <td>86.517998</td>\n",
       "      <td>124.084000</td>\n",
       "      <td>0.144008</td>\n",
       "      <td>1.434199</td>\n",
       "      <td>543.921333</td>\n",
       "      <td>476.913000</td>\n",
       "      <td>366.864663</td>\n",
       "      <td>328.432744</td>\n",
       "      <td>413.849322</td>\n",
       "      <td>0</td>\n",
       "      <td>0</td>\n",
       "      <td>0</td>\n",
       "      <td>0</td>\n",
       "      <td>0</td>\n",
       "      <td>0</td>\n",
       "      <td>0</td>\n",
       "      <td>0</td>\n",
       "      <td>0</td>\n",
       "      <td>0</td>\n",
       "      <td>0</td>\n",
       "      <td>0</td>\n",
       "      <td>0</td>\n",
       "      <td>0</td>\n",
       "      <td>0</td>\n",
       "      <td>0</td>\n",
       "      <td>0</td>\n",
       "      <td>0</td>\n",
       "      <td>0</td>\n",
       "      <td>0</td>\n",
       "      <td>0</td>\n",
       "      <td>0</td>\n",
       "      <td>0</td>\n",
       "      <td>0</td>\n",
       "      <td>0</td>\n",
       "      <td>0</td>\n",
       "      <td>0</td>\n",
       "      <td>0</td>\n",
       "    </tr>\n",
       "    <tr>\n",
       "      <th>1980-07-31</th>\n",
       "      <td>645.750</td>\n",
       "      <td>1980</td>\n",
       "      <td>7</td>\n",
       "      <td>31</td>\n",
       "      <td>3</td>\n",
       "      <td>213</td>\n",
       "      <td>31</td>\n",
       "      <td>3</td>\n",
       "      <td>0</td>\n",
       "      <td>0</td>\n",
       "      <td>0.666070</td>\n",
       "      <td>0.474463</td>\n",
       "      <td>44.964001</td>\n",
       "      <td>47.406002</td>\n",
       "      <td>0.069631</td>\n",
       "      <td>1.054310</td>\n",
       "      <td>586.934667</td>\n",
       "      <td>506.141417</td>\n",
       "      <td>380.808930</td>\n",
       "      <td>337.952262</td>\n",
       "      <td>432.401377</td>\n",
       "      <td>257</td>\n",
       "      <td>279</td>\n",
       "      <td>295</td>\n",
       "      <td>300</td>\n",
       "      <td>354</td>\n",
       "      <td>390</td>\n",
       "      <td>391</td>\n",
       "      <td>463</td>\n",
       "      <td>674</td>\n",
       "      <td>665</td>\n",
       "      <td>554</td>\n",
       "      <td>516</td>\n",
       "      <td>514</td>\n",
       "      <td>600</td>\n",
       "      <td>0</td>\n",
       "      <td>21</td>\n",
       "      <td>15</td>\n",
       "      <td>5</td>\n",
       "      <td>53</td>\n",
       "      <td>36</td>\n",
       "      <td>0</td>\n",
       "      <td>72</td>\n",
       "      <td>210</td>\n",
       "      <td>-8</td>\n",
       "      <td>-111</td>\n",
       "      <td>-37</td>\n",
       "      <td>-2</td>\n",
       "      <td>86</td>\n",
       "    </tr>\n",
       "    <tr>\n",
       "      <th>1980-08-31</th>\n",
       "      <td>626.360</td>\n",
       "      <td>1980</td>\n",
       "      <td>8</td>\n",
       "      <td>31</td>\n",
       "      <td>3</td>\n",
       "      <td>244</td>\n",
       "      <td>35</td>\n",
       "      <td>6</td>\n",
       "      <td>0</td>\n",
       "      <td>0</td>\n",
       "      <td>1.096439</td>\n",
       "      <td>-0.971812</td>\n",
       "      <td>-19.389999</td>\n",
       "      <td>-105.907997</td>\n",
       "      <td>-0.030957</td>\n",
       "      <td>5.461991</td>\n",
       "      <td>624.298667</td>\n",
       "      <td>533.272000</td>\n",
       "      <td>393.086483</td>\n",
       "      <td>346.604494</td>\n",
       "      <td>447.918066</td>\n",
       "      <td>279</td>\n",
       "      <td>295</td>\n",
       "      <td>300</td>\n",
       "      <td>354</td>\n",
       "      <td>390</td>\n",
       "      <td>391</td>\n",
       "      <td>463</td>\n",
       "      <td>674</td>\n",
       "      <td>665</td>\n",
       "      <td>554</td>\n",
       "      <td>516</td>\n",
       "      <td>514</td>\n",
       "      <td>600</td>\n",
       "      <td>645</td>\n",
       "      <td>21</td>\n",
       "      <td>15</td>\n",
       "      <td>5</td>\n",
       "      <td>53</td>\n",
       "      <td>36</td>\n",
       "      <td>0</td>\n",
       "      <td>72</td>\n",
       "      <td>210</td>\n",
       "      <td>-8</td>\n",
       "      <td>-111</td>\n",
       "      <td>-37</td>\n",
       "      <td>-2</td>\n",
       "      <td>86</td>\n",
       "      <td>44</td>\n",
       "    </tr>\n",
       "    <tr>\n",
       "      <th>1980-09-30</th>\n",
       "      <td>673.941</td>\n",
       "      <td>1980</td>\n",
       "      <td>9</td>\n",
       "      <td>30</td>\n",
       "      <td>3</td>\n",
       "      <td>274</td>\n",
       "      <td>40</td>\n",
       "      <td>1</td>\n",
       "      <td>0</td>\n",
       "      <td>0</td>\n",
       "      <td>1.302019</td>\n",
       "      <td>1.171082</td>\n",
       "      <td>47.581001</td>\n",
       "      <td>2.617001</td>\n",
       "      <td>0.070601</td>\n",
       "      <td>0.055001</td>\n",
       "      <td>648.683667</td>\n",
       "      <td>559.892250</td>\n",
       "      <td>407.129209</td>\n",
       "      <td>356.424589</td>\n",
       "      <td>465.999901</td>\n",
       "      <td>295</td>\n",
       "      <td>300</td>\n",
       "      <td>354</td>\n",
       "      <td>390</td>\n",
       "      <td>391</td>\n",
       "      <td>463</td>\n",
       "      <td>674</td>\n",
       "      <td>665</td>\n",
       "      <td>554</td>\n",
       "      <td>516</td>\n",
       "      <td>514</td>\n",
       "      <td>600</td>\n",
       "      <td>645</td>\n",
       "      <td>626</td>\n",
       "      <td>15</td>\n",
       "      <td>5</td>\n",
       "      <td>53</td>\n",
       "      <td>36</td>\n",
       "      <td>0</td>\n",
       "      <td>72</td>\n",
       "      <td>210</td>\n",
       "      <td>-8</td>\n",
       "      <td>-111</td>\n",
       "      <td>-37</td>\n",
       "      <td>-2</td>\n",
       "      <td>86</td>\n",
       "      <td>44</td>\n",
       "      <td>-19</td>\n",
       "    </tr>\n",
       "    <tr>\n",
       "      <th>1980-10-31</th>\n",
       "      <td>662.270</td>\n",
       "      <td>1980</td>\n",
       "      <td>10</td>\n",
       "      <td>31</td>\n",
       "      <td>4</td>\n",
       "      <td>305</td>\n",
       "      <td>44</td>\n",
       "      <td>4</td>\n",
       "      <td>0</td>\n",
       "      <td>0</td>\n",
       "      <td>2.396463</td>\n",
       "      <td>-0.053134</td>\n",
       "      <td>-11.671000</td>\n",
       "      <td>7.719000</td>\n",
       "      <td>-0.017623</td>\n",
       "      <td>-0.661383</td>\n",
       "      <td>654.190333</td>\n",
       "      <td>582.501500</td>\n",
       "      <td>419.886249</td>\n",
       "      <td>365.599951</td>\n",
       "      <td>481.701509</td>\n",
       "      <td>300</td>\n",
       "      <td>354</td>\n",
       "      <td>390</td>\n",
       "      <td>391</td>\n",
       "      <td>463</td>\n",
       "      <td>674</td>\n",
       "      <td>665</td>\n",
       "      <td>554</td>\n",
       "      <td>516</td>\n",
       "      <td>514</td>\n",
       "      <td>600</td>\n",
       "      <td>645</td>\n",
       "      <td>626</td>\n",
       "      <td>673</td>\n",
       "      <td>5</td>\n",
       "      <td>53</td>\n",
       "      <td>36</td>\n",
       "      <td>0</td>\n",
       "      <td>72</td>\n",
       "      <td>210</td>\n",
       "      <td>-8</td>\n",
       "      <td>-111</td>\n",
       "      <td>-37</td>\n",
       "      <td>-2</td>\n",
       "      <td>86</td>\n",
       "      <td>44</td>\n",
       "      <td>-19</td>\n",
       "      <td>47</td>\n",
       "    </tr>\n",
       "    <tr>\n",
       "      <th>1980-11-30</th>\n",
       "      <td>623.875</td>\n",
       "      <td>1980</td>\n",
       "      <td>11</td>\n",
       "      <td>30</td>\n",
       "      <td>4</td>\n",
       "      <td>335</td>\n",
       "      <td>48</td>\n",
       "      <td>6</td>\n",
       "      <td>0</td>\n",
       "      <td>0</td>\n",
       "      <td>2.606814</td>\n",
       "      <td>-1.221209</td>\n",
       "      <td>-38.395000</td>\n",
       "      <td>-85.975998</td>\n",
       "      <td>-0.061543</td>\n",
       "      <td>2.239250</td>\n",
       "      <td>653.362000</td>\n",
       "      <td>601.864583</td>\n",
       "      <td>430.085686</td>\n",
       "      <td>373.348203</td>\n",
       "      <td>493.075388</td>\n",
       "      <td>354</td>\n",
       "      <td>390</td>\n",
       "      <td>391</td>\n",
       "      <td>463</td>\n",
       "      <td>674</td>\n",
       "      <td>665</td>\n",
       "      <td>554</td>\n",
       "      <td>516</td>\n",
       "      <td>514</td>\n",
       "      <td>600</td>\n",
       "      <td>645</td>\n",
       "      <td>626</td>\n",
       "      <td>673</td>\n",
       "      <td>662</td>\n",
       "      <td>53</td>\n",
       "      <td>36</td>\n",
       "      <td>0</td>\n",
       "      <td>72</td>\n",
       "      <td>210</td>\n",
       "      <td>-8</td>\n",
       "      <td>-111</td>\n",
       "      <td>-37</td>\n",
       "      <td>-2</td>\n",
       "      <td>86</td>\n",
       "      <td>44</td>\n",
       "      <td>-19</td>\n",
       "      <td>47</td>\n",
       "      <td>-11</td>\n",
       "    </tr>\n",
       "    <tr>\n",
       "      <th>1980-12-31</th>\n",
       "      <td>596.712</td>\n",
       "      <td>1980</td>\n",
       "      <td>12</td>\n",
       "      <td>31</td>\n",
       "      <td>4</td>\n",
       "      <td>366</td>\n",
       "      <td>1</td>\n",
       "      <td>2</td>\n",
       "      <td>0</td>\n",
       "      <td>0</td>\n",
       "      <td>1.705169</td>\n",
       "      <td>1.342116</td>\n",
       "      <td>-27.163000</td>\n",
       "      <td>-15.492001</td>\n",
       "      <td>-0.045521</td>\n",
       "      <td>0.570335</td>\n",
       "      <td>627.619000</td>\n",
       "      <td>612.951750</td>\n",
       "      <td>438.417002</td>\n",
       "      <td>380.049117</td>\n",
       "      <td>501.366317</td>\n",
       "      <td>390</td>\n",
       "      <td>391</td>\n",
       "      <td>463</td>\n",
       "      <td>674</td>\n",
       "      <td>665</td>\n",
       "      <td>554</td>\n",
       "      <td>516</td>\n",
       "      <td>514</td>\n",
       "      <td>600</td>\n",
       "      <td>645</td>\n",
       "      <td>626</td>\n",
       "      <td>673</td>\n",
       "      <td>662</td>\n",
       "      <td>623</td>\n",
       "      <td>36</td>\n",
       "      <td>0</td>\n",
       "      <td>72</td>\n",
       "      <td>210</td>\n",
       "      <td>-8</td>\n",
       "      <td>-111</td>\n",
       "      <td>-37</td>\n",
       "      <td>-2</td>\n",
       "      <td>86</td>\n",
       "      <td>44</td>\n",
       "      <td>-19</td>\n",
       "      <td>47</td>\n",
       "      <td>-11</td>\n",
       "      <td>-38</td>\n",
       "    </tr>\n",
       "  </tbody>\n",
       "</table>\n",
       "</div>"
      ],
      "text/plain": [
       "              Price  year  month  dayofmonth  quarter  dayofyear  weekofyear  \\\n",
       "Date                                                                           \n",
       "1979-05-31  257.738  1979      5          31        2        151          22   \n",
       "1979-06-30  279.360  1979      6          30        2        181          26   \n",
       "1979-07-31  295.009  1979      7          31        3        212          31   \n",
       "1979-08-31  300.793  1979      8          31        3        243          35   \n",
       "1979-09-30  354.498  1979      9          30        3        273          39   \n",
       "1979-10-31  390.959  1979     10          31        4        304          44   \n",
       "1979-11-30  391.518  1979     11          30        4        334          48   \n",
       "1979-12-31  463.666  1979     12          31        4        365           1   \n",
       "1980-01-31  674.580  1980      1          31        1         31           5   \n",
       "1980-02-29  665.893  1980      2          29        1         60           9   \n",
       "1980-03-31  554.276  1980      3          31        1         91          14   \n",
       "1980-04-30  516.710  1980      4          30        2        121          18   \n",
       "1980-05-31  514.268  1980      5          31        2        152          22   \n",
       "1980-06-30  600.786  1980      6          30        2        182          27   \n",
       "1980-07-31  645.750  1980      7          31        3        213          31   \n",
       "1980-08-31  626.360  1980      8          31        3        244          35   \n",
       "1980-09-30  673.941  1980      9          30        3        274          40   \n",
       "1980-10-31  662.270  1980     10          31        4        305          44   \n",
       "1980-11-30  623.875  1980     11          30        4        335          48   \n",
       "1980-12-31  596.712  1980     12          31        4        366           1   \n",
       "\n",
       "            dayofweek  c_DBSCAN  c_BIRCH      pca1      pca2       diff1  \\\n",
       "Date                                                                       \n",
       "1979-05-31          3         0        0 -0.646576  0.523947    0.000000   \n",
       "1979-06-30          5         0        0 -0.436225 -0.644128   21.622000   \n",
       "1979-07-31          1         1        2  0.653447  1.442625   15.649000   \n",
       "1979-08-31          4         1        2  1.083816 -0.003650    5.784000   \n",
       "1979-09-30          6         1        2  1.294167 -1.171725   53.705002   \n",
       "1979-10-31          2         1        2  2.383840  0.915027   36.460999   \n",
       "1979-11-30          4         1        2  2.594191 -0.253047    0.559000   \n",
       "1979-12-31          0         1        2  1.692546  2.310277   72.148003   \n",
       "1980-01-31          3         0        0 -2.775231  0.581415  210.914001   \n",
       "1980-02-29          4         0        0 -2.784898 -0.308459   -8.687000   \n",
       "1980-03-31          0         0        0 -1.938749  1.948076 -111.616997   \n",
       "1980-04-30          2         0        0 -1.274598  0.806139  -37.566002   \n",
       "1980-05-31          5         0        0 -0.633954 -0.444215   -2.442000   \n",
       "1980-06-30          0         0        0 -0.428374  1.698679   86.517998   \n",
       "1980-07-31          3         0        0  0.666070  0.474463   44.964001   \n",
       "1980-08-31          6         0        0  1.096439 -0.971812  -19.389999   \n",
       "1980-09-30          1         0        0  1.302019  1.171082   47.581001   \n",
       "1980-10-31          4         0        0  2.396463 -0.053134  -11.671000   \n",
       "1980-11-30          6         0        0  2.606814 -1.221209  -38.395000   \n",
       "1980-12-31          2         0        0  1.705169  1.342116  -27.163000   \n",
       "\n",
       "                 diff2   diff1_d    diff2_d        d_m3       d_m12  \\\n",
       "Date                                                                  \n",
       "1979-05-31    0.000000  0.000000   0.000000         NaN         NaN   \n",
       "1979-06-30    0.000000  0.077398   0.000000         NaN         NaN   \n",
       "1979-07-31   15.649000  0.053046   1.000000  277.369000         NaN   \n",
       "1979-08-31  -15.837999  0.019229  -2.738243  291.720667         NaN   \n",
       "1979-09-30   38.056000  0.151496   0.708612  316.766667         NaN   \n",
       "1979-10-31   30.676998  0.093260   0.841365  348.750000         NaN   \n",
       "1979-11-30  -53.146004  0.001428 -95.073349  378.991667         NaN   \n",
       "1979-12-31   35.687004  0.155603   0.494636  415.381000         NaN   \n",
       "1980-01-31  210.354996  0.312660   0.997350  509.921333         NaN   \n",
       "1980-02-29  -80.835007 -0.013046   9.305285  601.379667         NaN   \n",
       "1980-03-31 -322.531006 -0.201374   2.889623  631.583000         NaN   \n",
       "1980-04-30  -28.879002 -0.072702   0.768754  578.959667  428.750000   \n",
       "1980-05-31  109.174995 -0.004748 -44.707207  528.418000  450.127500   \n",
       "1980-06-30  124.084000  0.144008   1.434199  543.921333  476.913000   \n",
       "1980-07-31   47.406002  0.069631   1.054310  586.934667  506.141417   \n",
       "1980-08-31 -105.907997 -0.030957   5.461991  624.298667  533.272000   \n",
       "1980-09-30    2.617001  0.070601   0.055001  648.683667  559.892250   \n",
       "1980-10-31    7.719000 -0.017623  -0.661383  654.190333  582.501500   \n",
       "1980-11-30  -85.975998 -0.061543   2.239250  653.362000  601.864583   \n",
       "1980-12-31  -15.492001 -0.045521   0.570335  627.619000  612.951750   \n",
       "\n",
       "              exp_0_05    exp_0_03    exp_0_08  t14  t13  t12  t11  t10   t9  \\\n",
       "Date                                                                           \n",
       "1979-05-31  257.738000  257.738000  257.738000    0    0    0    0    0    0   \n",
       "1979-06-30  258.819100  258.386660  259.467760    0    0    0    0    0    0   \n",
       "1979-07-31  260.628595  259.485330  262.311059    0    0    0    0    0    0   \n",
       "1979-08-31  262.636815  260.724560  265.389614    0    0    0    0    0    0   \n",
       "1979-09-30  267.229874  263.537763  272.518285    0    0    0    0    0    0   \n",
       "1979-10-31  273.416331  267.360401  281.993542    0    0    0    0    0    0   \n",
       "1979-11-30  279.321414  271.085129  290.755499    0    0    0    0    0    0   \n",
       "1979-12-31  288.538644  276.862555  304.588339    0    0    0    0    0    0   \n",
       "1980-01-31  307.840711  288.794078  334.187672    0    0    0    0    0    0   \n",
       "1980-02-29  325.743326  300.107046  360.724098    0    0    0    0    0    0   \n",
       "1980-03-31  337.169959  307.732114  376.208250    0    0    0    0    0    0   \n",
       "1980-04-30  346.146962  314.001451  387.448390    0    0    0    0    0    0   \n",
       "1980-05-31  354.553013  320.009447  397.593959    0    0    0    0    0    0   \n",
       "1980-06-30  366.864663  328.432744  413.849322    0    0    0    0    0    0   \n",
       "1980-07-31  380.808930  337.952262  432.401377  257  279  295  300  354  390   \n",
       "1980-08-31  393.086483  346.604494  447.918066  279  295  300  354  390  391   \n",
       "1980-09-30  407.129209  356.424589  465.999901  295  300  354  390  391  463   \n",
       "1980-10-31  419.886249  365.599951  481.701509  300  354  390  391  463  674   \n",
       "1980-11-30  430.085686  373.348203  493.075388  354  390  391  463  674  665   \n",
       "1980-12-31  438.417002  380.049117  501.366317  390  391  463  674  665  554   \n",
       "\n",
       "             t8   t7   t6   t5   t4   t3   t2   t1  d14  d13  d12  d11  d10  \\\n",
       "Date                                                                          \n",
       "1979-05-31    0    0    0    0    0    0    0    0    0    0    0    0    0   \n",
       "1979-06-30    0    0    0    0    0    0    0    0    0    0    0    0    0   \n",
       "1979-07-31    0    0    0    0    0    0    0    0    0    0    0    0    0   \n",
       "1979-08-31    0    0    0    0    0    0    0    0    0    0    0    0    0   \n",
       "1979-09-30    0    0    0    0    0    0    0    0    0    0    0    0    0   \n",
       "1979-10-31    0    0    0    0    0    0    0    0    0    0    0    0    0   \n",
       "1979-11-30    0    0    0    0    0    0    0    0    0    0    0    0    0   \n",
       "1979-12-31    0    0    0    0    0    0    0    0    0    0    0    0    0   \n",
       "1980-01-31    0    0    0    0    0    0    0    0    0    0    0    0    0   \n",
       "1980-02-29    0    0    0    0    0    0    0    0    0    0    0    0    0   \n",
       "1980-03-31    0    0    0    0    0    0    0    0    0    0    0    0    0   \n",
       "1980-04-30    0    0    0    0    0    0    0    0    0    0    0    0    0   \n",
       "1980-05-31    0    0    0    0    0    0    0    0    0    0    0    0    0   \n",
       "1980-06-30    0    0    0    0    0    0    0    0    0    0    0    0    0   \n",
       "1980-07-31  391  463  674  665  554  516  514  600    0   21   15    5   53   \n",
       "1980-08-31  463  674  665  554  516  514  600  645   21   15    5   53   36   \n",
       "1980-09-30  674  665  554  516  514  600  645  626   15    5   53   36    0   \n",
       "1980-10-31  665  554  516  514  600  645  626  673    5   53   36    0   72   \n",
       "1980-11-30  554  516  514  600  645  626  673  662   53   36    0   72  210   \n",
       "1980-12-31  516  514  600  645  626  673  662  623   36    0   72  210   -8   \n",
       "\n",
       "             d9   d8   d7   d6   d5   d4  d3  d2  d1  \n",
       "Date                                                  \n",
       "1979-05-31    0    0    0    0    0    0   0   0   0  \n",
       "1979-06-30    0    0    0    0    0    0   0   0   0  \n",
       "1979-07-31    0    0    0    0    0    0   0   0   0  \n",
       "1979-08-31    0    0    0    0    0    0   0   0   0  \n",
       "1979-09-30    0    0    0    0    0    0   0   0   0  \n",
       "1979-10-31    0    0    0    0    0    0   0   0   0  \n",
       "1979-11-30    0    0    0    0    0    0   0   0   0  \n",
       "1979-12-31    0    0    0    0    0    0   0   0   0  \n",
       "1980-01-31    0    0    0    0    0    0   0   0   0  \n",
       "1980-02-29    0    0    0    0    0    0   0   0   0  \n",
       "1980-03-31    0    0    0    0    0    0   0   0   0  \n",
       "1980-04-30    0    0    0    0    0    0   0   0   0  \n",
       "1980-05-31    0    0    0    0    0    0   0   0   0  \n",
       "1980-06-30    0    0    0    0    0    0   0   0   0  \n",
       "1980-07-31   36    0   72  210   -8 -111 -37  -2  86  \n",
       "1980-08-31    0   72  210   -8 -111  -37  -2  86  44  \n",
       "1980-09-30   72  210   -8 -111  -37   -2  86  44 -19  \n",
       "1980-10-31  210   -8 -111  -37   -2   86  44 -19  47  \n",
       "1980-11-30   -8 -111  -37   -2   86   44 -19  47 -11  \n",
       "1980-12-31 -111  -37   -2   86   44  -19  47 -11 -38  "
      ]
     },
     "execution_count": 54,
     "metadata": {},
     "output_type": "execute_result"
    }
   ],
   "source": [
    "df.head(20)"
   ]
  },
  {
   "cell_type": "markdown",
   "metadata": {},
   "source": [
    "Отрежу первые 11 строк, для которых нет скользящего среднего"
   ]
  },
  {
   "cell_type": "code",
   "execution_count": 55,
   "metadata": {},
   "outputs": [],
   "source": [
    "df = df.iloc[14:, :]"
   ]
  },
  {
   "cell_type": "code",
   "execution_count": 60,
   "metadata": {},
   "outputs": [],
   "source": [
    "df.to_csv('gold_after_loc.csv', index=True)"
   ]
  },
  {
   "cell_type": "code",
   "execution_count": 56,
   "metadata": {},
   "outputs": [],
   "source": [
    "df.to_csv('gold_after_loc2.csv', index=True)"
   ]
  },
  {
   "cell_type": "code",
   "execution_count": 3,
   "metadata": {},
   "outputs": [],
   "source": [
    "df = pd.read_csv('gold_3.csv', index_col=[0], parse_dates=[0])"
   ]
  },
  {
   "cell_type": "code",
   "execution_count": 57,
   "metadata": {},
   "outputs": [
    {
     "data": {
      "text/html": [
       "<div>\n",
       "<style scoped>\n",
       "    .dataframe tbody tr th:only-of-type {\n",
       "        vertical-align: middle;\n",
       "    }\n",
       "\n",
       "    .dataframe tbody tr th {\n",
       "        vertical-align: top;\n",
       "    }\n",
       "\n",
       "    .dataframe thead th {\n",
       "        text-align: right;\n",
       "    }\n",
       "</style>\n",
       "<table border=\"1\" class=\"dataframe\">\n",
       "  <thead>\n",
       "    <tr style=\"text-align: right;\">\n",
       "      <th></th>\n",
       "      <th>Price</th>\n",
       "      <th>year</th>\n",
       "      <th>month</th>\n",
       "      <th>dayofmonth</th>\n",
       "      <th>quarter</th>\n",
       "      <th>dayofyear</th>\n",
       "      <th>weekofyear</th>\n",
       "      <th>dayofweek</th>\n",
       "      <th>c_DBSCAN</th>\n",
       "      <th>c_BIRCH</th>\n",
       "      <th>pca1</th>\n",
       "      <th>pca2</th>\n",
       "      <th>diff1</th>\n",
       "      <th>diff2</th>\n",
       "      <th>diff1_d</th>\n",
       "      <th>diff2_d</th>\n",
       "      <th>d_m3</th>\n",
       "      <th>d_m12</th>\n",
       "      <th>exp_0_05</th>\n",
       "      <th>exp_0_03</th>\n",
       "      <th>exp_0_08</th>\n",
       "      <th>t14</th>\n",
       "      <th>t13</th>\n",
       "      <th>t12</th>\n",
       "      <th>t11</th>\n",
       "      <th>t10</th>\n",
       "      <th>t9</th>\n",
       "      <th>t8</th>\n",
       "      <th>t7</th>\n",
       "      <th>t6</th>\n",
       "      <th>t5</th>\n",
       "      <th>t4</th>\n",
       "      <th>t3</th>\n",
       "      <th>t2</th>\n",
       "      <th>t1</th>\n",
       "      <th>d14</th>\n",
       "      <th>d13</th>\n",
       "      <th>d12</th>\n",
       "      <th>d11</th>\n",
       "      <th>d10</th>\n",
       "      <th>d9</th>\n",
       "      <th>d8</th>\n",
       "      <th>d7</th>\n",
       "      <th>d6</th>\n",
       "      <th>d5</th>\n",
       "      <th>d4</th>\n",
       "      <th>d3</th>\n",
       "      <th>d2</th>\n",
       "      <th>d1</th>\n",
       "    </tr>\n",
       "    <tr>\n",
       "      <th>Date</th>\n",
       "      <th></th>\n",
       "      <th></th>\n",
       "      <th></th>\n",
       "      <th></th>\n",
       "      <th></th>\n",
       "      <th></th>\n",
       "      <th></th>\n",
       "      <th></th>\n",
       "      <th></th>\n",
       "      <th></th>\n",
       "      <th></th>\n",
       "      <th></th>\n",
       "      <th></th>\n",
       "      <th></th>\n",
       "      <th></th>\n",
       "      <th></th>\n",
       "      <th></th>\n",
       "      <th></th>\n",
       "      <th></th>\n",
       "      <th></th>\n",
       "      <th></th>\n",
       "      <th></th>\n",
       "      <th></th>\n",
       "      <th></th>\n",
       "      <th></th>\n",
       "      <th></th>\n",
       "      <th></th>\n",
       "      <th></th>\n",
       "      <th></th>\n",
       "      <th></th>\n",
       "      <th></th>\n",
       "      <th></th>\n",
       "      <th></th>\n",
       "      <th></th>\n",
       "      <th></th>\n",
       "      <th></th>\n",
       "      <th></th>\n",
       "      <th></th>\n",
       "      <th></th>\n",
       "      <th></th>\n",
       "      <th></th>\n",
       "      <th></th>\n",
       "      <th></th>\n",
       "      <th></th>\n",
       "      <th></th>\n",
       "      <th></th>\n",
       "      <th></th>\n",
       "      <th></th>\n",
       "      <th></th>\n",
       "    </tr>\n",
       "  </thead>\n",
       "  <tbody>\n",
       "    <tr>\n",
       "      <th>1980-07-31</th>\n",
       "      <td>645.750</td>\n",
       "      <td>1980</td>\n",
       "      <td>7</td>\n",
       "      <td>31</td>\n",
       "      <td>3</td>\n",
       "      <td>213</td>\n",
       "      <td>31</td>\n",
       "      <td>3</td>\n",
       "      <td>0</td>\n",
       "      <td>0</td>\n",
       "      <td>0.666070</td>\n",
       "      <td>0.474463</td>\n",
       "      <td>44.964001</td>\n",
       "      <td>47.406002</td>\n",
       "      <td>0.069631</td>\n",
       "      <td>1.054310</td>\n",
       "      <td>586.934667</td>\n",
       "      <td>506.141417</td>\n",
       "      <td>380.808930</td>\n",
       "      <td>337.952262</td>\n",
       "      <td>432.401377</td>\n",
       "      <td>257</td>\n",
       "      <td>279</td>\n",
       "      <td>295</td>\n",
       "      <td>300</td>\n",
       "      <td>354</td>\n",
       "      <td>390</td>\n",
       "      <td>391</td>\n",
       "      <td>463</td>\n",
       "      <td>674</td>\n",
       "      <td>665</td>\n",
       "      <td>554</td>\n",
       "      <td>516</td>\n",
       "      <td>514</td>\n",
       "      <td>600</td>\n",
       "      <td>0</td>\n",
       "      <td>21</td>\n",
       "      <td>15</td>\n",
       "      <td>5</td>\n",
       "      <td>53</td>\n",
       "      <td>36</td>\n",
       "      <td>0</td>\n",
       "      <td>72</td>\n",
       "      <td>210</td>\n",
       "      <td>-8</td>\n",
       "      <td>-111</td>\n",
       "      <td>-37</td>\n",
       "      <td>-2</td>\n",
       "      <td>86</td>\n",
       "    </tr>\n",
       "    <tr>\n",
       "      <th>1980-08-31</th>\n",
       "      <td>626.360</td>\n",
       "      <td>1980</td>\n",
       "      <td>8</td>\n",
       "      <td>31</td>\n",
       "      <td>3</td>\n",
       "      <td>244</td>\n",
       "      <td>35</td>\n",
       "      <td>6</td>\n",
       "      <td>0</td>\n",
       "      <td>0</td>\n",
       "      <td>1.096439</td>\n",
       "      <td>-0.971812</td>\n",
       "      <td>-19.389999</td>\n",
       "      <td>-105.907997</td>\n",
       "      <td>-0.030957</td>\n",
       "      <td>5.461991</td>\n",
       "      <td>624.298667</td>\n",
       "      <td>533.272000</td>\n",
       "      <td>393.086483</td>\n",
       "      <td>346.604494</td>\n",
       "      <td>447.918066</td>\n",
       "      <td>279</td>\n",
       "      <td>295</td>\n",
       "      <td>300</td>\n",
       "      <td>354</td>\n",
       "      <td>390</td>\n",
       "      <td>391</td>\n",
       "      <td>463</td>\n",
       "      <td>674</td>\n",
       "      <td>665</td>\n",
       "      <td>554</td>\n",
       "      <td>516</td>\n",
       "      <td>514</td>\n",
       "      <td>600</td>\n",
       "      <td>645</td>\n",
       "      <td>21</td>\n",
       "      <td>15</td>\n",
       "      <td>5</td>\n",
       "      <td>53</td>\n",
       "      <td>36</td>\n",
       "      <td>0</td>\n",
       "      <td>72</td>\n",
       "      <td>210</td>\n",
       "      <td>-8</td>\n",
       "      <td>-111</td>\n",
       "      <td>-37</td>\n",
       "      <td>-2</td>\n",
       "      <td>86</td>\n",
       "      <td>44</td>\n",
       "    </tr>\n",
       "    <tr>\n",
       "      <th>1980-09-30</th>\n",
       "      <td>673.941</td>\n",
       "      <td>1980</td>\n",
       "      <td>9</td>\n",
       "      <td>30</td>\n",
       "      <td>3</td>\n",
       "      <td>274</td>\n",
       "      <td>40</td>\n",
       "      <td>1</td>\n",
       "      <td>0</td>\n",
       "      <td>0</td>\n",
       "      <td>1.302019</td>\n",
       "      <td>1.171082</td>\n",
       "      <td>47.581001</td>\n",
       "      <td>2.617001</td>\n",
       "      <td>0.070601</td>\n",
       "      <td>0.055001</td>\n",
       "      <td>648.683667</td>\n",
       "      <td>559.892250</td>\n",
       "      <td>407.129209</td>\n",
       "      <td>356.424589</td>\n",
       "      <td>465.999901</td>\n",
       "      <td>295</td>\n",
       "      <td>300</td>\n",
       "      <td>354</td>\n",
       "      <td>390</td>\n",
       "      <td>391</td>\n",
       "      <td>463</td>\n",
       "      <td>674</td>\n",
       "      <td>665</td>\n",
       "      <td>554</td>\n",
       "      <td>516</td>\n",
       "      <td>514</td>\n",
       "      <td>600</td>\n",
       "      <td>645</td>\n",
       "      <td>626</td>\n",
       "      <td>15</td>\n",
       "      <td>5</td>\n",
       "      <td>53</td>\n",
       "      <td>36</td>\n",
       "      <td>0</td>\n",
       "      <td>72</td>\n",
       "      <td>210</td>\n",
       "      <td>-8</td>\n",
       "      <td>-111</td>\n",
       "      <td>-37</td>\n",
       "      <td>-2</td>\n",
       "      <td>86</td>\n",
       "      <td>44</td>\n",
       "      <td>-19</td>\n",
       "    </tr>\n",
       "    <tr>\n",
       "      <th>1980-10-31</th>\n",
       "      <td>662.270</td>\n",
       "      <td>1980</td>\n",
       "      <td>10</td>\n",
       "      <td>31</td>\n",
       "      <td>4</td>\n",
       "      <td>305</td>\n",
       "      <td>44</td>\n",
       "      <td>4</td>\n",
       "      <td>0</td>\n",
       "      <td>0</td>\n",
       "      <td>2.396463</td>\n",
       "      <td>-0.053134</td>\n",
       "      <td>-11.671000</td>\n",
       "      <td>7.719000</td>\n",
       "      <td>-0.017623</td>\n",
       "      <td>-0.661383</td>\n",
       "      <td>654.190333</td>\n",
       "      <td>582.501500</td>\n",
       "      <td>419.886249</td>\n",
       "      <td>365.599951</td>\n",
       "      <td>481.701509</td>\n",
       "      <td>300</td>\n",
       "      <td>354</td>\n",
       "      <td>390</td>\n",
       "      <td>391</td>\n",
       "      <td>463</td>\n",
       "      <td>674</td>\n",
       "      <td>665</td>\n",
       "      <td>554</td>\n",
       "      <td>516</td>\n",
       "      <td>514</td>\n",
       "      <td>600</td>\n",
       "      <td>645</td>\n",
       "      <td>626</td>\n",
       "      <td>673</td>\n",
       "      <td>5</td>\n",
       "      <td>53</td>\n",
       "      <td>36</td>\n",
       "      <td>0</td>\n",
       "      <td>72</td>\n",
       "      <td>210</td>\n",
       "      <td>-8</td>\n",
       "      <td>-111</td>\n",
       "      <td>-37</td>\n",
       "      <td>-2</td>\n",
       "      <td>86</td>\n",
       "      <td>44</td>\n",
       "      <td>-19</td>\n",
       "      <td>47</td>\n",
       "    </tr>\n",
       "    <tr>\n",
       "      <th>1980-11-30</th>\n",
       "      <td>623.875</td>\n",
       "      <td>1980</td>\n",
       "      <td>11</td>\n",
       "      <td>30</td>\n",
       "      <td>4</td>\n",
       "      <td>335</td>\n",
       "      <td>48</td>\n",
       "      <td>6</td>\n",
       "      <td>0</td>\n",
       "      <td>0</td>\n",
       "      <td>2.606814</td>\n",
       "      <td>-1.221209</td>\n",
       "      <td>-38.395000</td>\n",
       "      <td>-85.975998</td>\n",
       "      <td>-0.061543</td>\n",
       "      <td>2.239250</td>\n",
       "      <td>653.362000</td>\n",
       "      <td>601.864583</td>\n",
       "      <td>430.085686</td>\n",
       "      <td>373.348203</td>\n",
       "      <td>493.075388</td>\n",
       "      <td>354</td>\n",
       "      <td>390</td>\n",
       "      <td>391</td>\n",
       "      <td>463</td>\n",
       "      <td>674</td>\n",
       "      <td>665</td>\n",
       "      <td>554</td>\n",
       "      <td>516</td>\n",
       "      <td>514</td>\n",
       "      <td>600</td>\n",
       "      <td>645</td>\n",
       "      <td>626</td>\n",
       "      <td>673</td>\n",
       "      <td>662</td>\n",
       "      <td>53</td>\n",
       "      <td>36</td>\n",
       "      <td>0</td>\n",
       "      <td>72</td>\n",
       "      <td>210</td>\n",
       "      <td>-8</td>\n",
       "      <td>-111</td>\n",
       "      <td>-37</td>\n",
       "      <td>-2</td>\n",
       "      <td>86</td>\n",
       "      <td>44</td>\n",
       "      <td>-19</td>\n",
       "      <td>47</td>\n",
       "      <td>-11</td>\n",
       "    </tr>\n",
       "  </tbody>\n",
       "</table>\n",
       "</div>"
      ],
      "text/plain": [
       "              Price  year  month  dayofmonth  quarter  dayofyear  weekofyear  \\\n",
       "Date                                                                           \n",
       "1980-07-31  645.750  1980      7          31        3        213          31   \n",
       "1980-08-31  626.360  1980      8          31        3        244          35   \n",
       "1980-09-30  673.941  1980      9          30        3        274          40   \n",
       "1980-10-31  662.270  1980     10          31        4        305          44   \n",
       "1980-11-30  623.875  1980     11          30        4        335          48   \n",
       "\n",
       "            dayofweek  c_DBSCAN  c_BIRCH      pca1      pca2      diff1  \\\n",
       "Date                                                                      \n",
       "1980-07-31          3         0        0  0.666070  0.474463  44.964001   \n",
       "1980-08-31          6         0        0  1.096439 -0.971812 -19.389999   \n",
       "1980-09-30          1         0        0  1.302019  1.171082  47.581001   \n",
       "1980-10-31          4         0        0  2.396463 -0.053134 -11.671000   \n",
       "1980-11-30          6         0        0  2.606814 -1.221209 -38.395000   \n",
       "\n",
       "                 diff2   diff1_d   diff2_d        d_m3       d_m12  \\\n",
       "Date                                                                 \n",
       "1980-07-31   47.406002  0.069631  1.054310  586.934667  506.141417   \n",
       "1980-08-31 -105.907997 -0.030957  5.461991  624.298667  533.272000   \n",
       "1980-09-30    2.617001  0.070601  0.055001  648.683667  559.892250   \n",
       "1980-10-31    7.719000 -0.017623 -0.661383  654.190333  582.501500   \n",
       "1980-11-30  -85.975998 -0.061543  2.239250  653.362000  601.864583   \n",
       "\n",
       "              exp_0_05    exp_0_03    exp_0_08  t14  t13  t12  t11  t10   t9  \\\n",
       "Date                                                                           \n",
       "1980-07-31  380.808930  337.952262  432.401377  257  279  295  300  354  390   \n",
       "1980-08-31  393.086483  346.604494  447.918066  279  295  300  354  390  391   \n",
       "1980-09-30  407.129209  356.424589  465.999901  295  300  354  390  391  463   \n",
       "1980-10-31  419.886249  365.599951  481.701509  300  354  390  391  463  674   \n",
       "1980-11-30  430.085686  373.348203  493.075388  354  390  391  463  674  665   \n",
       "\n",
       "             t8   t7   t6   t5   t4   t3   t2   t1  d14  d13  d12  d11  d10  \\\n",
       "Date                                                                          \n",
       "1980-07-31  391  463  674  665  554  516  514  600    0   21   15    5   53   \n",
       "1980-08-31  463  674  665  554  516  514  600  645   21   15    5   53   36   \n",
       "1980-09-30  674  665  554  516  514  600  645  626   15    5   53   36    0   \n",
       "1980-10-31  665  554  516  514  600  645  626  673    5   53   36    0   72   \n",
       "1980-11-30  554  516  514  600  645  626  673  662   53   36    0   72  210   \n",
       "\n",
       "             d9   d8   d7   d6   d5   d4  d3  d2  d1  \n",
       "Date                                                  \n",
       "1980-07-31   36    0   72  210   -8 -111 -37  -2  86  \n",
       "1980-08-31    0   72  210   -8 -111  -37  -2  86  44  \n",
       "1980-09-30   72  210   -8 -111  -37   -2  86  44 -19  \n",
       "1980-10-31  210   -8 -111  -37   -2   86  44 -19  47  \n",
       "1980-11-30   -8 -111  -37   -2   86   44 -19  47 -11  "
      ]
     },
     "execution_count": 57,
     "metadata": {},
     "output_type": "execute_result"
    }
   ],
   "source": [
    "df.head()"
   ]
  },
  {
   "cell_type": "markdown",
   "metadata": {},
   "source": [
    "## Выделение существенных признаков"
   ]
  },
  {
   "cell_type": "markdown",
   "metadata": {},
   "source": [
    "Запишем итоговую систему признаков и проведем ее анализ. Горизонт прогнозирования h = 1, тогда target = y(t+h)=y(t+1) "
   ]
  },
  {
   "cell_type": "code",
   "execution_count": 58,
   "metadata": {},
   "outputs": [],
   "source": [
    "from sklearn.feature_selection import SelectKBest, SelectPercentile\n",
    "from sklearn.feature_selection import SelectFromModel\n",
    "\n",
    "from sklearn.ensemble import GradientBoostingRegressor\n",
    "\n",
    "from sklearn.feature_selection import f_regression, mutual_info_regression"
   ]
  },
  {
   "cell_type": "code",
   "execution_count": 59,
   "metadata": {},
   "outputs": [],
   "source": [
    "scl_target=StandardScaler() "
   ]
  },
  {
   "cell_type": "code",
   "execution_count": 60,
   "metadata": {},
   "outputs": [
    {
     "data": {
      "text/plain": [
       "(466, 1)"
      ]
     },
     "execution_count": 60,
     "metadata": {},
     "output_type": "execute_result"
    }
   ],
   "source": [
    "h = 1 \n",
    "target_1 = df['Price'].values[h+p:].reshape((df.shape[0]-h-p,1))\n",
    "y_1 = scl_target.fit_transform(target_1)\n",
    "y_1.shape"
   ]
  },
  {
   "cell_type": "markdown",
   "metadata": {},
   "source": [
    "Входной набор признаков берем из нашей таблицы. Необходимо помнить, что у нас есть интегральные признаки (для календаря), которые связаны с базовыми признаками. Обычно такие признаки рассматривают отдельно. Однако для эксперимента оставим все признаки для процедуры селекции."
   ]
  },
  {
   "cell_type": "code",
   "execution_count": 61,
   "metadata": {},
   "outputs": [
    {
     "data": {
      "text/plain": [
       "(466, 49)"
      ]
     },
     "execution_count": 61,
     "metadata": {},
     "output_type": "execute_result"
    }
   ],
   "source": [
    "scl_x=StandardScaler() \n",
    "\n",
    "X_1 = df.iloc[p:-h,:].values\n",
    "X_1 = scl_x.fit_transform(X_1.astype('float64'))\n",
    "X_1.shape"
   ]
  },
  {
   "cell_type": "code",
   "execution_count": 62,
   "metadata": {},
   "outputs": [
    {
     "data": {
      "text/plain": [
       "0"
      ]
     },
     "execution_count": 62,
     "metadata": {},
     "output_type": "execute_result"
    }
   ],
   "source": [
    "np.isnan(X_1).sum()"
   ]
  },
  {
   "cell_type": "code",
   "execution_count": 63,
   "metadata": {},
   "outputs": [
    {
     "name": "stdout",
     "output_type": "stream",
     "text": [
      "F-test=1.00,  I=0\n",
      "F-test=0.01,  I=1\n",
      "F-test=0.00,  I=2\n",
      "F-test=0.00,  I=3\n",
      "F-test=0.00,  I=4\n",
      "F-test=0.00,  I=5\n",
      "F-test=0.00,  I=6\n",
      "F-test=0.00,  I=7\n",
      "F-test=0.01,  I=8\n",
      "F-test=0.00,  I=9\n",
      "F-test=0.00,  I=10\n",
      "F-test=0.00,  I=11\n",
      "F-test=0.00,  I=12\n",
      "F-test=0.00,  I=13\n",
      "F-test=0.00,  I=14\n",
      "F-test=0.00,  I=15\n",
      "F-test=0.53,  I=16\n",
      "F-test=0.15,  I=17\n",
      "F-test=0.05,  I=18\n",
      "F-test=0.03,  I=19\n",
      "F-test=0.09,  I=20\n",
      "F-test=0.04,  I=21\n",
      "F-test=0.04,  I=22\n",
      "F-test=0.04,  I=23\n",
      "F-test=0.05,  I=24\n",
      "F-test=0.06,  I=25\n",
      "F-test=0.06,  I=26\n",
      "F-test=0.07,  I=27\n",
      "F-test=0.08,  I=28\n",
      "F-test=0.10,  I=29\n",
      "F-test=0.12,  I=30\n",
      "F-test=0.15,  I=31\n",
      "F-test=0.19,  I=32\n",
      "F-test=0.27,  I=33\n",
      "F-test=0.42,  I=34\n",
      "F-test=0.00,  I=35\n",
      "F-test=0.00,  I=36\n",
      "F-test=0.00,  I=37\n",
      "F-test=0.00,  I=38\n",
      "F-test=0.00,  I=39\n",
      "F-test=0.00,  I=40\n",
      "F-test=0.00,  I=41\n",
      "F-test=0.00,  I=42\n",
      "F-test=0.00,  I=43\n",
      "F-test=0.00,  I=44\n",
      "F-test=0.00,  I=45\n",
      "F-test=0.00,  I=46\n",
      "F-test=0.00,  I=47\n",
      "F-test=0.00,  I=48\n"
     ]
    }
   ],
   "source": [
    "f_test, _ = f_regression(X_1, y_1.ravel())\n",
    "f_test /= np.nanmax(f_test)\n",
    "for i in range(X_1.shape[1]):\n",
    "    print(\"F-test={:.2f},  I={}\".format(f_test[i],i))"
   ]
  },
  {
   "cell_type": "markdown",
   "metadata": {},
   "source": [
    "Проверка через F-test показывает, что есть корреляционная связь с предшествующим значением ряда (признак X[:,0]), а кроме этого интересные признаки от 14 и 34. Применим автоматизацию выбора через SelectKBest c выделением 5 лучших признаков.\n"
   ]
  },
  {
   "cell_type": "code",
   "execution_count": 64,
   "metadata": {},
   "outputs": [
    {
     "data": {
      "text/plain": [
       "(466, 6)"
      ]
     },
     "execution_count": 64,
     "metadata": {},
     "output_type": "execute_result"
    }
   ],
   "source": [
    "sfk =SelectKBest(f_regression, k=6)\n",
    "X_new1 =sfk.fit_transform(X_1, y_1.ravel())\n",
    "X_new1.shape"
   ]
  },
  {
   "cell_type": "code",
   "execution_count": 65,
   "metadata": {},
   "outputs": [
    {
     "data": {
      "text/plain": [
       "Index(['Price', 'd_m3', 't4', 't3', 't2', 't1'], dtype='object')"
      ]
     },
     "execution_count": 65,
     "metadata": {},
     "output_type": "execute_result"
    }
   ],
   "source": [
    "column_names = df.columns[sfk.get_support()]\n",
    "column_names"
   ]
  },
  {
   "cell_type": "markdown",
   "metadata": {},
   "source": [
    "Как видим, были выбраны параметры, которые показывают корреляцию цен на золото со своими значениями в прошлом, плюс может быть угадал с циклом "
   ]
  },
  {
   "cell_type": "markdown",
   "metadata": {},
   "source": [
    "Лучшее множество признаков отделено в X_new1. Проверим результат оценки признаков по процентному отбору и сохраним его в X_new2."
   ]
  },
  {
   "cell_type": "code",
   "execution_count": 66,
   "metadata": {},
   "outputs": [
    {
     "data": {
      "text/plain": [
       "(466, 5)"
      ]
     },
     "execution_count": 66,
     "metadata": {},
     "output_type": "execute_result"
    }
   ],
   "source": [
    "sfp=SelectPercentile(f_regression, percentile=10)\n",
    "X_new2 = sfp.fit_transform(X_1, y_1.ravel())\n",
    "X_new2.shape"
   ]
  },
  {
   "cell_type": "code",
   "execution_count": 67,
   "metadata": {},
   "outputs": [
    {
     "data": {
      "text/plain": [
       "Index(['Price', 'd_m3', 't3', 't2', 't1'], dtype='object')"
      ]
     },
     "execution_count": 67,
     "metadata": {},
     "output_type": "execute_result"
    }
   ],
   "source": [
    "column_namesp = df.columns[sfp.get_support()]\n",
    "column_namesp"
   ]
  },
  {
   "cell_type": "markdown",
   "metadata": {},
   "source": [
    "Видим тот же результат"
   ]
  },
  {
   "cell_type": "code",
   "execution_count": 68,
   "metadata": {},
   "outputs": [
    {
     "data": {
      "text/plain": [
       "0"
      ]
     },
     "execution_count": 68,
     "metadata": {},
     "output_type": "execute_result"
    }
   ],
   "source": [
    "np.isinf(X_1).sum()"
   ]
  },
  {
   "cell_type": "code",
   "execution_count": 69,
   "metadata": {},
   "outputs": [
    {
     "data": {
      "text/plain": [
       "(466, 1)"
      ]
     },
     "execution_count": 69,
     "metadata": {},
     "output_type": "execute_result"
    }
   ],
   "source": [
    "gr_model = GradientBoostingRegressor(max_depth=5, random_state=40, n_estimators=100).fit(X_1, y_1.ravel())\n",
    "sfm = SelectFromModel(gr_model,  max_features = 5)\n",
    "\n",
    "sfm.fit(X_1, y_1.ravel())\n",
    "X_new3 = sfm.transform(X_1)\n",
    "X_new3.shape"
   ]
  },
  {
   "cell_type": "code",
   "execution_count": 70,
   "metadata": {},
   "outputs": [
    {
     "name": "stdout",
     "output_type": "stream",
     "text": [
      "Номера признаков k лучших признаков :  [ 0 16 31 32 33 34]\n",
      "Номера признаков лучших признаков по процентной форме:  [ 0 16 32 33 34]\n",
      "Номера признаков для выбора по модели :  [0]\n"
     ]
    }
   ],
   "source": [
    "list_param_k =np.where(sfk.get_support())[0]\n",
    "list_param_p =np.where(sfp.get_support())[0]\n",
    "list_param_m =np.where(sfm.get_support())[0]\n",
    "\n",
    "print('Номера признаков k лучших признаков : ',list_param_k)\n",
    "print('Номера признаков лучших признаков по процентной форме: ',list_param_p)\n",
    "print('Номера признаков для выбора по модели : ',list_param_m)"
   ]
  },
  {
   "cell_type": "code",
   "execution_count": 71,
   "metadata": {},
   "outputs": [
    {
     "data": {
      "text/plain": [
       "Index(['d_m3', 't4', 't3', 't2', 't1'], dtype='object')"
      ]
     },
     "execution_count": 71,
     "metadata": {},
     "output_type": "execute_result"
    }
   ],
   "source": [
    "list_par=[16, 31 , 32 , 33 , 34]\n",
    "X_new = X_1[:,list_par]\n",
    "df.columns[list_par]"
   ]
  },
  {
   "cell_type": "markdown",
   "metadata": {},
   "source": [
    "## Разделение данных на тестовые и тренировочные \n",
    "\n",
    "Построение модели начинаем с выделения тестовой части нашего ряда. Напомним, что для временных рядов тест - непрерывная часть ряда не входившая в обучение (временные ряды 1). Будем отделять по индексу, который задаст дату разделения модели на тест и обучение."
   ]
  },
  {
   "cell_type": "code",
   "execution_count": 72,
   "metadata": {},
   "outputs": [],
   "source": [
    "# сделаем функцию\n",
    "def split_data( data, split_date ):\n",
    "    return data.loc[data.index.get_level_values('Date') <= split_date].copy(), \\\n",
    "           data.loc[data.index.get_level_values('Date') >  split_date].copy()"
   ]
  },
  {
   "cell_type": "code",
   "execution_count": 73,
   "metadata": {},
   "outputs": [],
   "source": [
    "train, test = split_data( df, '06-2016')"
   ]
  },
  {
   "cell_type": "code",
   "execution_count": 74,
   "metadata": {},
   "outputs": [
    {
     "data": {
      "image/png": "[encoded data removed]",
      "text/plain": [
       "<Figure size 1080x504 with 1 Axes>"
      ]
     },
     "metadata": {
      "needs_background": "light"
     },
     "output_type": "display_data"
    }
   ],
   "source": [
    "plt.figure( figsize=( 15, 7 ))\n",
    "plt.xlabel('Время')\n",
    "plt.ylabel('Потребление энергии, МВт')\n",
    "plt.plot(train.index, train['Price'], label='train data' )\n",
    "plt.plot(test.index ,test['Price'], label='test data')\n",
    "plt.title( 'Тестовые и тренировочные данные' )\n",
    "plt.legend()\n",
    "plt.show()"
   ]
  },
  {
   "cell_type": "code",
   "execution_count": 75,
   "metadata": {},
   "outputs": [],
   "source": [
    "X_train =X_new[:train.shape[0],:]\n",
    "y_train =y_1[:train.shape[0],0]\n",
    "X_test =X_new[train.shape[0]:,:]\n",
    "y_test =y_1[train.shape[0]:,0]"
   ]
  },
  {
   "cell_type": "markdown",
   "metadata": {},
   "source": [
    "# Строим Модель"
   ]
  },
  {
   "cell_type": "markdown",
   "metadata": {},
   "source": [
    "SARIMAX и ARIMA были использованы в прошлой работе. Попробую GradientBoostingRegressor"
   ]
  },
  {
   "cell_type": "code",
   "execution_count": 76,
   "metadata": {},
   "outputs": [],
   "source": [
    "from sklearn.ensemble import GradientBoostingRegressor"
   ]
  },
  {
   "cell_type": "markdown",
   "metadata": {},
   "source": [
    "Все модели возьмем в варианте параметров по умолчанию, кроме глубины деревьев."
   ]
  },
  {
   "cell_type": "code",
   "execution_count": 77,
   "metadata": {},
   "outputs": [],
   "source": [
    "model_g = GradientBoostingRegressor(max_depth=5, random_state=42, n_estimators=100)"
   ]
  },
  {
   "cell_type": "code",
   "execution_count": 78,
   "metadata": {},
   "outputs": [
    {
     "data": {
      "text/plain": [
       "GradientBoostingRegressor(max_depth=5, random_state=42)"
      ]
     },
     "execution_count": 78,
     "metadata": {},
     "output_type": "execute_result"
    }
   ],
   "source": [
    "model_g.fit( X_train, y_train )"
   ]
  },
  {
   "cell_type": "code",
   "execution_count": 79,
   "metadata": {},
   "outputs": [],
   "source": [
    "y_test_pred_g = model_g.predict(X_test)"
   ]
  },
  {
   "cell_type": "code",
   "execution_count": 80,
   "metadata": {},
   "outputs": [
    {
     "data": {
      "image/png": "[encoded data removed]",
      "text/plain": [
       "<Figure size 1080x504 with 1 Axes>"
      ]
     },
     "metadata": {
      "needs_background": "light"
     },
     "output_type": "display_data"
    }
   ],
   "source": [
    "plt.figure( figsize=( 15, 7 ))\n",
    "\n",
    "\n",
    "plt.xlabel('Время')\n",
    "plt.ylabel('Стоимость')\n",
    "plt.plot(test.index[h+p:],y_test_pred_g, label='predict GB data' )\n",
    "plt.plot(test.index[h+p:],y_test, label='test data')\n",
    "\n",
    "plt.legend()\n",
    "plt.show()"
   ]
  },
  {
   "cell_type": "code",
   "execution_count": 81,
   "metadata": {},
   "outputs": [],
   "source": [
    "class Model():\n",
    "    \n",
    "    def __init__(self, df , h = 3 , p = 14, k = 6, percentile = 10, g_max_depth = 5, g_n_estimators = 100):\n",
    "        self.df = df \n",
    "        self.h = h\n",
    "        self.p = p\n",
    "        self.k = k\n",
    "        self.y, self.scl_target = self.scale_scl_y()\n",
    "        self.X, self.scl_x = self.scale_scl_x()\n",
    "        self.f = self.f_test()\n",
    "        self.sfk, self.X_new = self.select_k_best()\n",
    "        self.percentile = percentile\n",
    "        self.sfp, self.X_new2 = self.select_p()\n",
    "        self.g_max_depth = g_max_depth\n",
    "        self.g_n_estimators = g_n_estimators\n",
    "        self.sfm, self.X_new3 = self.gr_model_estimator()\n",
    "        self.X_n = self.print_params()\n",
    "    \n",
    "    def scale_scl_y(self):\n",
    "        scl_target = StandardScaler()\n",
    "        target_1 = self.df['Price'].values[self.h+self.p:].reshape((self.df.shape[0]-self.h-self.p,1))\n",
    "        y = scl_target.fit_transform(target_1)\n",
    "        print(f'y shape after noramalize - {y.shape}')\n",
    "        return y, scl_target\n",
    "    \n",
    "    def scale_scl_x(self):\n",
    "        scl_x=StandardScaler() \n",
    "        X = self.df.iloc[self.p:-self.h,:].values\n",
    "        X = scl_x.fit_transform(X.astype('float64'))\n",
    "        print(f'X shape after normalize - {X.shape}')\n",
    "        return X, scl_x\n",
    "    \n",
    "    def f_test(self):\n",
    "        f_test, _ = f_regression(self.X, self.y.ravel())\n",
    "        f_test /= np.nanmax(f_test)\n",
    "        print(f'Значения F-test')\n",
    "        for i in range(self.X.shape[1]):\n",
    "            print(\"F-test={:.2f},  I={}\".format(f_test[i],i))\n",
    "    \n",
    "    \n",
    "    def select_k_best(self):\n",
    "        sfk =SelectKBest(f_regression, k = self.k)\n",
    "        X_new =sfk.fit_transform(self.X, self.y.ravel())\n",
    "        print(f'SelectKBest  shape - {X_new.shape}')\n",
    "        return sfk, X_new\n",
    "    \n",
    "    def select_p(self):\n",
    "        sfp=SelectPercentile(f_regression, percentile=self.percentile)\n",
    "        X_new2 = sfp.fit_transform(self.X, self.y.ravel())\n",
    "        print(f'SelectKBest  shape - {X_new2.shape}')\n",
    "        return sfp, X_new2\n",
    "        \n",
    "    def gr_model_estimator(self):\n",
    "        gr_model = GradientBoostingRegressor(max_depth=self.g_max_depth, random_state=40, n_estimators = self.g_n_estimators).fit(self.X, self.y.ravel())\n",
    "        sfm = SelectFromModel(gr_model,  max_features = self.k)\n",
    "        sfm.fit(self.X, self.y.ravel())\n",
    "        X_new3 = sfm.transform(self.X)\n",
    "        print(f'GradientBoostingRegressor - {X_new3.shape}')\n",
    "        return sfm, X_new3\n",
    "        \n",
    "    def print_params(self):\n",
    "        list_param_k =np.where(self.sfk.get_support())[0]\n",
    "        list_param_p =np.where(self.sfp.get_support())[0]\n",
    "        list_param_m =np.where(self.sfm.get_support())[0]\n",
    "\n",
    "        print('Номера признаков k лучших признаков : ',list_param_k)\n",
    "        print('Номера признаков лучших признаков по процентной форме: ',list_param_p)\n",
    "        print('Номера признаков для выбора по модели : ',list_param_m)\n",
    "        columns = np.intersect1d(list_param_k , list_param_p)\n",
    "        columns = np.unique(np.concatenate((columns, list_param_m[1:]), 0))\n",
    "        #print(f'Фичи - {columns} \\n Хотите дополнить список?')\n",
    "        #c = int(input())\n",
    "        print(f'Самые важные фичи - {columns}')\n",
    "        X_n = self.X[:,columns]\n",
    "        return X_n\n",
    "       \n",
    "    \n",
    "        "
   ]
  },
  {
   "cell_type": "code",
   "execution_count": 82,
   "metadata": {},
   "outputs": [
    {
     "name": "stdout",
     "output_type": "stream",
     "text": [
      "y shape after noramalize - (466, 1)\n",
      "X shape after normalize - (466, 49)\n",
      "Значения F-test\n",
      "F-test=1.00,  I=0\n",
      "F-test=0.01,  I=1\n",
      "F-test=0.00,  I=2\n",
      "F-test=0.00,  I=3\n",
      "F-test=0.00,  I=4\n",
      "F-test=0.00,  I=5\n",
      "F-test=0.00,  I=6\n",
      "F-test=0.00,  I=7\n",
      "F-test=0.01,  I=8\n",
      "F-test=0.00,  I=9\n",
      "F-test=0.00,  I=10\n",
      "F-test=0.00,  I=11\n",
      "F-test=0.00,  I=12\n",
      "F-test=0.00,  I=13\n",
      "F-test=0.00,  I=14\n",
      "F-test=0.00,  I=15\n",
      "F-test=0.53,  I=16\n",
      "F-test=0.15,  I=17\n",
      "F-test=0.05,  I=18\n",
      "F-test=0.03,  I=19\n",
      "F-test=0.09,  I=20\n",
      "F-test=0.04,  I=21\n",
      "F-test=0.04,  I=22\n",
      "F-test=0.04,  I=23\n",
      "F-test=0.05,  I=24\n",
      "F-test=0.06,  I=25\n",
      "F-test=0.06,  I=26\n",
      "F-test=0.07,  I=27\n",
      "F-test=0.08,  I=28\n",
      "F-test=0.10,  I=29\n",
      "F-test=0.12,  I=30\n",
      "F-test=0.15,  I=31\n",
      "F-test=0.19,  I=32\n",
      "F-test=0.27,  I=33\n",
      "F-test=0.42,  I=34\n",
      "F-test=0.00,  I=35\n",
      "F-test=0.00,  I=36\n",
      "F-test=0.00,  I=37\n",
      "F-test=0.00,  I=38\n",
      "F-test=0.00,  I=39\n",
      "F-test=0.00,  I=40\n",
      "F-test=0.00,  I=41\n",
      "F-test=0.00,  I=42\n",
      "F-test=0.00,  I=43\n",
      "F-test=0.00,  I=44\n",
      "F-test=0.00,  I=45\n",
      "F-test=0.00,  I=46\n",
      "F-test=0.00,  I=47\n",
      "F-test=0.00,  I=48\n",
      "SelectKBest  shape - (466, 6)\n",
      "SelectKBest  shape - (466, 5)\n",
      "GradientBoostingRegressor - (466, 1)\n",
      "Номера признаков k лучших признаков :  [ 0 16 31 32 33 34]\n",
      "Номера признаков лучших признаков по процентной форме:  [ 0 16 32 33 34]\n",
      "Номера признаков для выбора по модели :  [0]\n",
      "Самые важные фичи - [ 0 16 32 33 34]\n"
     ]
    }
   ],
   "source": [
    "m_1 = Model(df, h = 1, p = 14)"
   ]
  },
  {
   "cell_type": "code",
   "execution_count": 83,
   "metadata": {},
   "outputs": [
    {
     "name": "stdout",
     "output_type": "stream",
     "text": [
      "y shape after noramalize - (464, 1)\n",
      "X shape after normalize - (464, 49)\n",
      "Значения F-test\n",
      "F-test=1.00,  I=0\n",
      "F-test=0.03,  I=1\n",
      "F-test=0.00,  I=2\n",
      "F-test=0.00,  I=3\n",
      "F-test=0.00,  I=4\n",
      "F-test=0.00,  I=5\n",
      "F-test=0.00,  I=6\n",
      "F-test=0.00,  I=7\n",
      "F-test=0.02,  I=8\n",
      "F-test=0.00,  I=9\n",
      "F-test=0.00,  I=10\n",
      "F-test=0.00,  I=11\n",
      "F-test=0.00,  I=12\n",
      "F-test=0.00,  I=13\n",
      "F-test=0.00,  I=14\n",
      "F-test=0.00,  I=15\n",
      "F-test=0.80,  I=16\n",
      "F-test=0.37,  I=17\n",
      "F-test=0.16,  I=18\n",
      "F-test=0.10,  I=19\n",
      "F-test=0.24,  I=20\n",
      "F-test=0.12,  I=21\n",
      "F-test=0.13,  I=22\n",
      "F-test=0.14,  I=23\n",
      "F-test=0.15,  I=24\n",
      "F-test=0.17,  I=25\n",
      "F-test=0.19,  I=26\n",
      "F-test=0.22,  I=27\n",
      "F-test=0.24,  I=28\n",
      "F-test=0.27,  I=29\n",
      "F-test=0.31,  I=30\n",
      "F-test=0.37,  I=31\n",
      "F-test=0.45,  I=32\n",
      "F-test=0.57,  I=33\n",
      "F-test=0.72,  I=34\n",
      "F-test=0.00,  I=35\n",
      "F-test=0.00,  I=36\n",
      "F-test=0.00,  I=37\n",
      "F-test=0.00,  I=38\n",
      "F-test=0.00,  I=39\n",
      "F-test=0.00,  I=40\n",
      "F-test=0.00,  I=41\n",
      "F-test=0.00,  I=42\n",
      "F-test=0.00,  I=43\n",
      "F-test=0.00,  I=44\n",
      "F-test=0.00,  I=45\n",
      "F-test=0.00,  I=46\n",
      "F-test=0.00,  I=47\n",
      "F-test=0.00,  I=48\n",
      "SelectKBest  shape - (464, 6)\n",
      "SelectKBest  shape - (464, 5)\n",
      "GradientBoostingRegressor - (464, 6)\n",
      "Номера признаков k лучших признаков :  [ 0 16 17 32 33 34]\n",
      "Номера признаков лучших признаков по процентной форме:  [ 0 16 32 33 34]\n",
      "Номера признаков для выбора по модели :  [ 0 16 17 19 20 34]\n",
      "Самые важные фичи - [ 0 16 17 19 20 32 33 34]\n"
     ]
    }
   ],
   "source": [
    "m_3 = Model(df, h = 3, p = 14)"
   ]
  },
  {
   "cell_type": "code",
   "execution_count": 84,
   "metadata": {},
   "outputs": [],
   "source": [
    "class Split_data():\n",
    "    \n",
    "    def __init__(self, df, X, y, split_date  = '06-2018'):\n",
    "        self.X = X \n",
    "        self.df = df\n",
    "        self.y = y\n",
    "        self.split_date = split_date\n",
    "        self.train_index, self.test_index = self.split_data()\n",
    "        self.X_train, self.y_train, self.X_test, self.y_test = self.X_y_train_test()\n",
    "        \n",
    "    def split_data(self):\n",
    "        return self.df.loc[self.df.index <= self.split_date].copy(), \\\n",
    "               self.df.loc[self.df.index >  self.split_date].copy()\n",
    "    \n",
    "    def X_y_train_test(self):\n",
    "        return  self.X[:self.train_index.shape[0],:], \\\n",
    "                self.y[:self.train_index.shape[0],0], \\\n",
    "                self.X[self.train_index.shape[0]:,:], \\\n",
    "                self.y[self.train_index.shape[0]:,0]"
   ]
  },
  {
   "cell_type": "code",
   "execution_count": 85,
   "metadata": {},
   "outputs": [],
   "source": [
    "r_1 = Split_data(df, m_1.X_n, m_1.y, split_date = '2016-10')"
   ]
  },
  {
   "cell_type": "code",
   "execution_count": 86,
   "metadata": {},
   "outputs": [],
   "source": [
    "r_3 = Split_data(df, m_3.X_n, m_3.y, split_date = '2016-10')"
   ]
  },
  {
   "cell_type": "code",
   "execution_count": 87,
   "metadata": {},
   "outputs": [
    {
     "data": {
      "text/plain": [
       "435"
      ]
     },
     "execution_count": 87,
     "metadata": {},
     "output_type": "execute_result"
    }
   ],
   "source": [
    "r_3.X_train.shape[0]"
   ]
  },
  {
   "cell_type": "code",
   "execution_count": 88,
   "metadata": {},
   "outputs": [
    {
     "data": {
      "text/plain": [
       "29"
      ]
     },
     "execution_count": 88,
     "metadata": {},
     "output_type": "execute_result"
    }
   ],
   "source": [
    "r_3.y_test.shape[0]"
   ]
  },
  {
   "cell_type": "code",
   "execution_count": 89,
   "metadata": {},
   "outputs": [],
   "source": [
    "model_g_1 = GradientBoostingRegressor(max_depth=5, random_state=42, n_estimators=100)"
   ]
  },
  {
   "cell_type": "code",
   "execution_count": 90,
   "metadata": {},
   "outputs": [],
   "source": [
    "model_g_3 = GradientBoostingRegressor(max_depth=5, random_state=42, n_estimators=100)"
   ]
  },
  {
   "cell_type": "code",
   "execution_count": 91,
   "metadata": {},
   "outputs": [
    {
     "data": {
      "text/plain": [
       "GradientBoostingRegressor(max_depth=5, random_state=42)"
      ]
     },
     "execution_count": 91,
     "metadata": {},
     "output_type": "execute_result"
    }
   ],
   "source": [
    "model_g_1.fit( r_1.X_train, r_1.y_train )"
   ]
  },
  {
   "cell_type": "code",
   "execution_count": 92,
   "metadata": {},
   "outputs": [
    {
     "data": {
      "text/plain": [
       "GradientBoostingRegressor(max_depth=5, random_state=42)"
      ]
     },
     "execution_count": 92,
     "metadata": {},
     "output_type": "execute_result"
    }
   ],
   "source": [
    "model_g_3.fit( r_3.X_train, r_3.y_train )"
   ]
  },
  {
   "cell_type": "code",
   "execution_count": 93,
   "metadata": {},
   "outputs": [],
   "source": [
    "y_test_pred_g_1 = model_g_1.predict(r_1.X_test)"
   ]
  },
  {
   "cell_type": "code",
   "execution_count": 94,
   "metadata": {},
   "outputs": [],
   "source": [
    "y_test_pred_g_3 = model_g_3.predict(r_3.X_test)"
   ]
  },
  {
   "cell_type": "code",
   "execution_count": 95,
   "metadata": {},
   "outputs": [
    {
     "data": {
      "image/png": "[encoded data removed]",
      "text/plain": [
       "<Figure size 1080x504 with 1 Axes>"
      ]
     },
     "metadata": {
      "needs_background": "light"
     },
     "output_type": "display_data"
    }
   ],
   "source": [
    "plt.figure( figsize=( 15, 7 ))\n",
    "\n",
    "\n",
    "plt.xlabel('Время')\n",
    "plt.ylabel('Стоимость')\n",
    "plt.plot(r_1.test_index.index[m_1.h+m_1.p:],y_test_pred_g_1, label='predict GB data' )\n",
    "plt.plot(r_1.test_index.index[m_1.h+m_1.p:],r_1.y_test, label='test data')\n",
    "\n",
    "plt.legend()\n",
    "plt.show()"
   ]
  },
  {
   "cell_type": "code",
   "execution_count": 96,
   "metadata": {},
   "outputs": [
    {
     "data": {
      "image/png": "[encoded data removed]",
      "text/plain": [
       "<Figure size 1080x504 with 1 Axes>"
      ]
     },
     "metadata": {
      "needs_background": "light"
     },
     "output_type": "display_data"
    }
   ],
   "source": [
    "plt.figure( figsize=( 15, 7 ))\n",
    "\n",
    "\n",
    "plt.xlabel('Время')\n",
    "plt.ylabel('Стоимость')\n",
    "plt.plot(r_3.test_index.index[m_3.h+m_3.p:],y_test_pred_g_3, label='predict GB data' )\n",
    "plt.plot(r_3.test_index.index[m_3.h+m_3.p:],r_3.y_test, label='test data')\n",
    "\n",
    "plt.legend()\n",
    "plt.show()"
   ]
  },
  {
   "cell_type": "markdown",
   "metadata": {},
   "source": [
    "## Оценки для сравнения моделей c h = 3 "
   ]
  },
  {
   "cell_type": "code",
   "execution_count": 97,
   "metadata": {},
   "outputs": [],
   "source": [
    "from sklearn.metrics import mean_squared_error\n",
    "from sklearn.metrics import mean_absolute_error\n",
    "from sklearn.metrics import r2_score"
   ]
  },
  {
   "cell_type": "code",
   "execution_count": 98,
   "metadata": {},
   "outputs": [],
   "source": [
    "class Error_count():\n",
    "\n",
    "    def __init__(self, y_true, y_test_pred_g, scl_target):\n",
    "        self.y_true = y_true\n",
    "        self.scl_target = scl_target\n",
    "        self.y_test_pred_g = y_test_pred_g\n",
    "        self.er_s, self.er_a, self.er_r2 = self.error_c()\n",
    "        self.er_g = self.mean_absolute_percentage_error()\n",
    "        \n",
    "        \n",
    "    def error_c(self):\n",
    "        er_s = mean_squared_error(y_true=self.y_true, y_pred=self.y_test_pred_g) \n",
    "        er_a = mean_absolute_error(y_true=self.y_true, y_pred=self.y_test_pred_g) \n",
    "        er_r2 = r2_score(y_true=self.y_true, y_pred=self.y_test_pred_g)\n",
    "\n",
    "        print('ошибка mse :  ', er_s,'\\nошибка mae  :  ', er_a,'\\nоценка R2 :  ', er_r2)\n",
    "           \n",
    "        return er_s, er_a, er_r2\n",
    "    \n",
    "    def mean_absolute_percentage_error(self): \n",
    "        y_true, y_pred = np.array(self.scl_target.inverse_transform(self.y_true)), np.array(self.y_test_pred_g)\n",
    "        mape = np.mean(np.abs((y_true - y_pred) / y_true)) * 100\n",
    "        print('#TODO тут явно ошибка вычисления')\n",
    "        print(f'ошибка градиентного бустинга MAPE : {mape} %')\n",
    "        return mape\n",
    "    \n",
    " "
   ]
  },
  {
   "cell_type": "code",
   "execution_count": 99,
   "metadata": {},
   "outputs": [
    {
     "name": "stdout",
     "output_type": "stream",
     "text": [
      "ошибка mse :   0.01724983617021951 \n",
      "ошибка mae  :   0.09818036656032769 \n",
      "оценка R2 :   0.8802138490616406\n",
      "#TODO тут явно ошибка вычисления\n",
      "ошибка градиентного бустинга MAPE : 99.8881217547582 %\n"
     ]
    }
   ],
   "source": [
    "e_1 = Error_count(r_1.y_test, y_test_pred_g_1, m_1.scl_target)"
   ]
  },
  {
   "cell_type": "code",
   "execution_count": 100,
   "metadata": {},
   "outputs": [
    {
     "name": "stdout",
     "output_type": "stream",
     "text": [
      "ошибка mse :   0.1583759667998628 \n",
      "ошибка mae  :   0.29531433716622657 \n",
      "оценка R2 :   -0.04574387254145673\n",
      "#TODO тут явно ошибка вычисления\n",
      "ошибка градиентного бустинга MAPE : 99.90540244770352 %\n"
     ]
    }
   ],
   "source": [
    "e_3 = Error_count(r_3.y_test, y_test_pred_g_3, m_3.scl_target)"
   ]
  },
  {
   "cell_type": "markdown",
   "metadata": {},
   "source": [
    "## Сохраним модель"
   ]
  },
  {
   "cell_type": "code",
   "execution_count": 101,
   "metadata": {},
   "outputs": [],
   "source": [
    "import pickle\n",
    "# save the model to disk\n",
    "filename = 'model/m_3.sav'\n",
    "pickle.dump(m_3, open(filename, 'wb'))\n",
    "\n",
    "filename = 'model/r_3.sav'\n",
    "pickle.dump(r_3, open(filename, 'wb'))\n",
    "\n",
    "filename = 'model/model_g_3.sav'\n",
    "pickle.dump(model_g_3, open(filename, 'wb'))\n",
    "\n",
    "filename = 'model/y_test_pred_g_3.sav'\n",
    "pickle.dump(y_test_pred_g_3, open(filename, 'wb'))\n"
   ]
  },
  {
   "cell_type": "code",
   "execution_count": 103,
   "metadata": {},
   "outputs": [],
   "source": [
    "df.to_csv('gold_after_loc_3.csv', index=True)"
   ]
  },
  {
   "cell_type": "markdown",
   "metadata": {},
   "source": [
    "## ВЫВОД "
   ]
  },
  {
   "cell_type": "markdown",
   "metadata": {},
   "source": [
    "К сожелению у меня не получилось посчитать MAPE, но по графикам видно, что в предсказание на три точки вперед модель справляется значительно хуже чем на один шаг вперед. Так же оценка R2 сильно упала по сравнению с одним шагом "
   ]
  },
  {
   "cell_type": "markdown",
   "metadata": {},
   "source": [
    "## Задача 4 \n",
    "\n",
    "Примените авторекурсию и сравните результат в 4-й точке путем прямого моделирования и путем рекурсивного моделирования на длине выборки из 4-х точек. "
   ]
  },
  {
   "cell_type": "code",
   "execution_count": 108,
   "metadata": {},
   "outputs": [
    {
     "name": "stdout",
     "output_type": "stream",
     "text": [
      "ошибка mse :   0.0004800827999891887 \n",
      "ошибка mae  :   0.004068731904411008 \n",
      "оценка R2 :   0.9968879849276979\n",
      "#TODO тут явно ошибка вычисления\n",
      "ошибка градиентного бустинга MAPE : 99.88731070894775 %\n",
      "==================================================\n",
      "ошибка mse :   0.0012819849218025816 \n",
      "ошибка mae  :   0.009327229532432733 \n",
      "оценка R2 :   0.9917970873368149\n",
      "#TODO тут явно ошибка вычисления\n",
      "ошибка градиентного бустинга MAPE : 99.88710725739367 %\n",
      "==================================================\n",
      "ошибка mse :   0.00188586427770211 \n",
      "ошибка mae  :   0.013890498762436696 \n",
      "оценка R2 :   0.9879705113940903\n",
      "#TODO тут явно ошибка вычисления\n",
      "ошибка градиентного бустинга MAPE : 99.88693251470637 %\n",
      "==================================================\n",
      "ошибка mse :   0.0049213546777065915 \n",
      "ошибка mae  :   0.024121436293219257 \n",
      "оценка R2 :   0.9683870982460576\n",
      "#TODO тут явно ошибка вычисления\n",
      "ошибка градиентного бустинга MAPE : 99.88652306383969 %\n",
      "==================================================\n",
      "ошибка mse :   0.00925293921306257 \n",
      "ошибка mae  :   0.036342933090984755 \n",
      "оценка R2 :   0.9399499793693087\n",
      "#TODO тут явно ошибка вычисления\n",
      "ошибка градиентного бустинга MAPE : 99.8860256276491 %\n",
      "==================================================\n",
      "ошибка mse :   0.015230989955448483 \n",
      "ошибка mae  :   0.05070049837107066 \n",
      "оценка R2 :   0.9009128022733094\n",
      "#TODO тут явно ошибка вычисления\n",
      "ошибка градиентного бустинга MAPE : 99.8854268446382 %\n",
      "==================================================\n",
      "ошибка mse :   0.017859063635408484 \n",
      "ошибка mae  :   0.06022012180603111 \n",
      "оценка R2 :   0.8831664946103898\n",
      "#TODO тут явно ошибка вычисления\n",
      "ошибка градиентного бустинга MAPE : 99.88504688947867 %\n",
      "==================================================\n",
      "ошибка mse :   0.02370652656817118 \n",
      "ошибка mae  :   0.07442000394828448 \n",
      "оценка R2 :   0.8447198575556387\n",
      "#TODO тут явно ошибка вычисления\n",
      "ошибка градиентного бустинга MAPE : 99.88445386542544 %\n",
      "==================================================\n",
      "ошибка mse :   0.02841245238984643 \n",
      "ошибка mae  :   0.08715865788799483 \n",
      "оценка R2 :   0.8068428098115021\n",
      "#TODO тут явно ошибка вычисления\n",
      "ошибка градиентного бустинга MAPE : 99.8839382821109 %\n",
      "==================================================\n",
      "ошибка mse :   0.039921719707623364 \n",
      "ошибка mae  :   0.10708028650665688 \n",
      "оценка R2 :   0.7118220336176755\n",
      "#TODO тут явно ошибка вычисления\n",
      "ошибка градиентного бустинга MAPE : 99.88308235882162 %\n",
      "==================================================\n",
      "ошибка mse :   0.05379142032140493 \n",
      "ошибка mae  :   0.12894956949458908 \n",
      "оценка R2 :   0.5860239992388963\n",
      "#TODO тут явно ошибка вычисления\n",
      "ошибка градиентного бустинга MAPE : 99.88212290834974 %\n",
      "==================================================\n",
      "ошибка mse :   0.07271160381985514 \n",
      "ошибка mae  :   0.15449208543637158 \n",
      "оценка R2 :   0.3491286118200302\n",
      "#TODO тут явно ошибка вычисления\n",
      "ошибка градиентного бустинга MAPE : 99.88099217696286 %\n",
      "==================================================\n",
      "ошибка mse :   0.10274653009692145 \n",
      "ошибка mae  :   0.18667417848518192 \n",
      "оценка R2 :   -0.1670470960002961\n",
      "#TODO тут явно ошибка вычисления\n",
      "ошибка градиентного бустинга MAPE : 99.8794893574975 %\n",
      "==================================================\n",
      "ошибка mse :   0.12245588011211027 \n",
      "ошибка mae  :   0.2127439456330573 \n",
      "оценка R2 :   -1.0201130283679634\n",
      "#TODO тут явно ошибка вычисления\n",
      "ошибка градиентного бустинга MAPE : 99.87835067536352 %\n",
      "==================================================\n",
      "ошибка mse :   0.16478730796512206 \n",
      "ошибка mae  :   0.250950023797723 \n",
      "оценка R2 :   -11.23559365546095\n",
      "#TODO тут явно ошибка вычисления\n",
      "ошибка градиентного бустинга MAPE : 99.87655049517099 %\n",
      "==================================================\n",
      "ошибка mse :   0.16478730796512206 \n",
      "ошибка mae  :   0.250950023797723 \n",
      "оценка R2 :   -11.23559365546095\n",
      "#TODO тут явно ошибка вычисления\n",
      "ошибка градиентного бустинга MAPE : 99.87655049517099 %\n",
      "==================================================\n",
      "ошибка mse :   0.16478730796512206 \n",
      "ошибка mae  :   0.250950023797723 \n",
      "оценка R2 :   -11.23559365546095\n",
      "#TODO тут явно ошибка вычисления\n",
      "ошибка градиентного бустинга MAPE : 99.87655049517099 %\n",
      "==================================================\n",
      "ошибка mse :   0.16478730796512206 \n",
      "ошибка mae  :   0.250950023797723 \n",
      "оценка R2 :   -11.23559365546095\n",
      "#TODO тут явно ошибка вычисления\n",
      "ошибка градиентного бустинга MAPE : 99.87655049517099 %\n",
      "==================================================\n",
      "ошибка mse :   0.16478730796512206 \n",
      "ошибка mae  :   0.250950023797723 \n",
      "оценка R2 :   -11.23559365546095\n",
      "#TODO тут явно ошибка вычисления\n",
      "ошибка градиентного бустинга MAPE : 99.87655049517099 %\n",
      "==================================================\n",
      "ошибка mse :   0.16478730796512206 \n",
      "ошибка mae  :   0.250950023797723 \n",
      "оценка R2 :   -11.23559365546095\n",
      "#TODO тут явно ошибка вычисления\n",
      "ошибка градиентного бустинга MAPE : 99.87655049517099 %\n",
      "==================================================\n",
      "ошибка mse :   0.16478730796512206 \n",
      "ошибка mae  :   0.250950023797723 \n",
      "оценка R2 :   -11.23559365546095\n",
      "#TODO тут явно ошибка вычисления\n",
      "ошибка градиентного бустинга MAPE : 99.87655049517099 %\n",
      "==================================================\n",
      "ошибка mse :   0.16478730796512206 \n",
      "ошибка mae  :   0.250950023797723 \n",
      "оценка R2 :   -11.23559365546095\n",
      "#TODO тут явно ошибка вычисления\n",
      "ошибка градиентного бустинга MAPE : 99.87655049517099 %\n",
      "==================================================\n",
      "ошибка mse :   0.16478730796512206 \n",
      "ошибка mae  :   0.250950023797723 \n",
      "оценка R2 :   -11.23559365546095\n",
      "#TODO тут явно ошибка вычисления\n",
      "ошибка градиентного бустинга MAPE : 99.87655049517099 %\n",
      "==================================================\n",
      "ошибка mse :   0.16478730796512206 \n",
      "ошибка mae  :   0.250950023797723 \n",
      "оценка R2 :   -11.23559365546095\n",
      "#TODO тут явно ошибка вычисления\n",
      "ошибка градиентного бустинга MAPE : 99.87655049517099 %\n",
      "==================================================\n",
      "ошибка mse :   0.16478730796512206 \n",
      "ошибка mae  :   0.250950023797723 \n",
      "оценка R2 :   -11.23559365546095\n",
      "#TODO тут явно ошибка вычисления\n",
      "ошибка градиентного бустинга MAPE : 99.87655049517099 %\n",
      "==================================================\n",
      "ошибка mse :   0.16478730796512206 \n",
      "ошибка mae  :   0.250950023797723 \n",
      "оценка R2 :   -11.23559365546095\n",
      "#TODO тут явно ошибка вычисления\n",
      "ошибка градиентного бустинга MAPE : 99.87655049517099 %\n",
      "==================================================\n",
      "ошибка mse :   0.16478730796512206 \n",
      "ошибка mae  :   0.250950023797723 \n",
      "оценка R2 :   -11.23559365546095\n",
      "#TODO тут явно ошибка вычисления\n",
      "ошибка градиентного бустинга MAPE : 99.87655049517099 %\n",
      "==================================================\n",
      "ошибка mse :   0.16478730796512206 \n",
      "ошибка mae  :   0.250950023797723 \n",
      "оценка R2 :   -11.23559365546095\n",
      "#TODO тут явно ошибка вычисления\n",
      "ошибка градиентного бустинга MAPE : 99.87655049517099 %\n",
      "==================================================\n",
      "ошибка mse :   0.16478730796512206 \n",
      "ошибка mae  :   0.250950023797723 \n",
      "оценка R2 :   -11.23559365546095\n",
      "#TODO тут явно ошибка вычисления\n",
      "ошибка градиентного бустинга MAPE : 99.87655049517099 %\n",
      "==================================================\n",
      "ошибка mse :   0.16478730796512206 \n",
      "ошибка mae  :   0.250950023797723 \n",
      "оценка R2 :   -11.23559365546095\n",
      "#TODO тут явно ошибка вычисления\n",
      "ошибка градиентного бустинга MAPE : 99.87655049517099 %\n",
      "==================================================\n"
     ]
    }
   ],
   "source": [
    "X_test_100 = r_3.X_test.copy()\n",
    "y_test_100 = r_3.y_test.copy()\n",
    "\n",
    "z = np.zeros([X_test_100.shape[0] *2 , X_test_100.shape[1]])\n",
    "\n",
    "y = np.zeros(X_test_100.shape[0] *2)\n",
    "\n",
    "X_test_100 = np.concatenate((X_test_100, z), axis=0)\n",
    "y_test_100 = np.concatenate((y_test_100, y), axis=0)\n",
    "\n",
    "\n",
    "N10 = 50\n",
    "\n",
    "error = []\n",
    "\n",
    "for i in range(m_3.p,N10+m_3.p):\n",
    "    \n",
    "    y_test_100[i] = model_g_3.predict(X_test_100[i,:].reshape((1,X_test_100.shape[1])))\n",
    " \n",
    "    \n",
    "    # восстанавливаем не масштабированное значение ряда текущей точке  \n",
    "    y_i= m_3.scl_target.inverse_transform(y_test_100[i:i+1]  )\n",
    "                                     \n",
    "    # заполняем вектор для прогноза следующей точки\n",
    "    X_test_100[i+1,0] = (y_i-m_3.scl_x.mean_[0])/m_3.scl_x.scale_[0]\n",
    "    \n",
    "    # dm_3\n",
    "    X_test_100[i+1,1] = np.mean(X_test_100[i-3:i+1,0]) \n",
    "    \n",
    "    #dm_12\n",
    "    X_test_100[i+1,2] = np.mean(X_test_100[i-12:i+1,0]) \n",
    "    \n",
    "    #'exp_0_03' \n",
    "    X_test_100[i+1,3] = X_test_100[i,0]*(1-0.03)+ 0.07 * X_test_100[i+1,0] \n",
    "    \n",
    "    \n",
    "    #строим 'exp_0_05', \n",
    "    #X_test_100[i+1,3] = X_test_100[i,0]*(1-0.05)+ 0.08 * X_test_100[i+1,0]\n",
    "    \n",
    "    #'exp_0_08' \n",
    "    X_test_100[i+1,4] = X_test_100[i,0]*(1-0.08)+ 0.07 * X_test_100[i+1,0]\n",
    "    \n",
    "    # обновим историю значенний t\n",
    "    X_test_100[i+1,5] = X_test_100[i-3,0]\n",
    "    \n",
    "    #t2\n",
    "    X_test_100[i+1,6] = X_test_100[i-2,0]\n",
    "    \n",
    "    #t1\n",
    "    X_test_100[i+1,7] = X_test_100[i-1,0]\n",
    "    \n",
    "    if i <= 43:\n",
    "        \n",
    "        e_r = Error_count(y_test_100[:29], r_3.y_test, m_3.scl_target)\n",
    "\n",
    "        error.append([e_r.er_s, e_r.er_a, e_r.er_r2])\n",
    "        \n",
    "        print(\"=\" * 50)"
   ]
  },
  {
   "cell_type": "markdown",
   "metadata": {},
   "source": [
    "Построим график"
   ]
  },
  {
   "cell_type": "code",
   "execution_count": 109,
   "metadata": {},
   "outputs": [
    {
     "data": {
      "image/png": "[encoded data removed]",
      "text/plain": [
       "<Figure size 1080x504 with 1 Axes>"
      ]
     },
     "metadata": {
      "needs_background": "light"
     },
     "output_type": "display_data"
    }
   ],
   "source": [
    "#N10 = N10+m_3.p\n",
    "\n",
    "plt.figure( figsize=( 15, 7 ))\n",
    "\n",
    "plt.xlabel('Время')\n",
    "plt.ylabel('Стоимость золота')\n",
    "plt.plot(y_test_pred_g_3[:N10], 'r',label='predict GB data' )\n",
    "plt.plot(y_test_100[:N10], '--r',label='slide predict data')\n",
    "plt.plot(r_3.y_test[:N10], 'g',label='test data', alpha=0.5)\n",
    "plt.plot(r_3.y_test[m_3.p-1], 'og', alpha=1)\n",
    "plt.legend()\n",
    "plt.show()    "
   ]
  },
  {
   "cell_type": "code",
   "execution_count": 110,
   "metadata": {},
   "outputs": [],
   "source": [
    "df_error = pd.DataFrame(data=error,    # values\n",
    "             columns=['mse', 'mae', 'r2'])"
   ]
  },
  {
   "cell_type": "code",
   "execution_count": 111,
   "metadata": {},
   "outputs": [
    {
     "data": {
      "image/png": "[encoded data removed]",
      "text/plain": [
       "<Figure size 1080x504 with 1 Axes>"
      ]
     },
     "metadata": {
      "needs_background": "light"
     },
     "output_type": "display_data"
    }
   ],
   "source": [
    "plt.figure( figsize=( 15, 7 ))\n",
    "plt.xlabel('Время')\n",
    "plt.ylabel('Ошибка')\n",
    "plt.plot(df_error.iloc[:, 0], 'r',label='ошибка mse' )\n",
    "plt.plot(df_error.iloc[:, 1], 'b',label='ошибка mae')\n",
    "#plt.plot(er[:, 2], 'g',label='оценка R2')\n",
    "plt.legend()\n",
    "plt.show()  "
   ]
  },
  {
   "cell_type": "markdown",
   "metadata": {},
   "source": [
    "Добавим скользящее среднее по ошибкам"
   ]
  },
  {
   "cell_type": "code",
   "execution_count": 112,
   "metadata": {},
   "outputs": [],
   "source": [
    "df_error['mse_d_3']=df_error.iloc[:,0].rolling(window=3).mean()\n",
    "df_error['mae_d_3']=df_error.iloc[:,1].rolling(window=3).mean()"
   ]
  },
  {
   "cell_type": "code",
   "execution_count": 113,
   "metadata": {},
   "outputs": [
    {
     "data": {
      "image/png": "[encoded data removed]",
      "text/plain": [
       "<Figure size 1080x504 with 1 Axes>"
      ]
     },
     "metadata": {
      "needs_background": "light"
     },
     "output_type": "display_data"
    }
   ],
   "source": [
    "plt.figure( figsize=( 15, 7 ))\n",
    "plt.xlabel('Время')\n",
    "plt.ylabel('Скользящее среднее по ошибке')\n",
    "plt.plot(df_error.iloc[:, -2], 'r',label='ошибка mse' )\n",
    "plt.plot(df_error.iloc[:, -1], 'b',label='ошибка mae')\n",
    "plt.legend()\n",
    "plt.show()  "
   ]
  },
  {
   "cell_type": "markdown",
   "metadata": {},
   "source": [
    "Как мы видим, по графикам ошибок, у них есть экспонинциальный тренд, и они возрастают на каждой итерации. Ошибка mae растет медленней чем mse, и имеет выроженную впуклость "
   ]
  },
  {
   "cell_type": "markdown",
   "metadata": {},
   "source": [
    "После 15 наблюдений ошибка выходит на плато, и я не знаю, ошибка в расчетах ли это, или так и должно быть "
   ]
  }
 ],
 "metadata": {
  "kernelspec": {
   "display_name": "Python 3",
   "language": "python",
   "name": "python3"
  },
  "language_info": {
   "codemirror_mode": {
    "name": "ipython",
    "version": 3
   },
   "file_extension": ".py",
   "mimetype": "text/x-python",
   "name": "python",
   "nbconvert_exporter": "python",
   "pygments_lexer": "ipython3",
   "version": "3.8.5"
  }
 },
 "nbformat": 4,
 "nbformat_minor": 4
}
